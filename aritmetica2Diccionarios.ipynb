{
  "nbformat": 4,
  "nbformat_minor": 0,
  "metadata": {
    "colab": {
      "name": "aritmetica2Diccionarios.ipynb",
      "provenance": [],
      "authorship_tag": "ABX9TyOoofV0uJMmF9xP9RVNn7DR",
      "include_colab_link": true
    },
    "kernelspec": {
      "name": "python3",
      "display_name": "Python 3"
    },
    "language_info": {
      "name": "python"
    }
  },
  "cells": [
    {
      "cell_type": "markdown",
      "metadata": {
        "id": "view-in-github",
        "colab_type": "text"
      },
      "source": [
        "<a href=\"https://colab.research.google.com/github/pleimi/cursos_Jeff_Heaton_Washinton_University_leccion1/blob/main/aritmetica2Diccionarios.ipynb\" target=\"_parent\"><img src=\"https://colab.research.google.com/assets/colab-badge.svg\" alt=\"Open In Colab\"/></a>"
      ]
    },
    {
      "cell_type": "markdown",
      "metadata": {
        "id": "KnskC-z8jhVz"
      },
      "source": [
        "DICCIONARIOS 1:32 https://www.youtube.com/watch?v=MyeCc-Xwi5g&t=11052s"
      ]
    },
    {
      "cell_type": "code",
      "metadata": {
        "colab": {
          "base_uri": "https://localhost:8080/"
        },
        "id": "pcTyKBE_jakc",
        "outputId": "1fd3a636-df7d-434b-8770-a1e8c82c2102"
      },
      "source": [
        "diccionario1 = {\"uno\": 1,\"dos\":2,}     \n",
        "print(diccionario1)                                  # los DICCIONARIOS son mucho mas RAPIDO"
      ],
      "execution_count": 3,
      "outputs": [
        {
          "output_type": "stream",
          "name": "stdout",
          "text": [
            "{'uno': 1, 'dos': 2}\n"
          ]
        }
      ]
    },
    {
      "cell_type": "code",
      "metadata": {
        "colab": {
          "base_uri": "https://localhost:8080/"
        },
        "id": "FhIl09dulIbW",
        "outputId": "63497b58-d056-41c4-e895-85cea1081b60"
      },
      "source": [
        "tupla1 = (1,2,3,4,5)\n",
        "lista1 = [\"uno\",\"dos\",\"tres\",\"cuatro\",\"cinco\"]\n",
        "diccionario2 = dict(zip(tupla1,lista1))  # cambio el orden de los parametros\n",
        "print(diccionario2)"
      ],
      "execution_count": 7,
      "outputs": [
        {
          "output_type": "stream",
          "name": "stdout",
          "text": [
            "{1: 'uno', 2: 'dos', 3: 'tres', 4: 'cuatro', 5: 'cinco'}\n"
          ]
        }
      ]
    },
    {
      "cell_type": "code",
      "metadata": {
        "colab": {
          "base_uri": "https://localhost:8080/"
        },
        "id": "aSFmCiurl4x3",
        "outputId": "d69045af-d0a9-4190-974e-3e50ba870207"
      },
      "source": [
        "diccionario2 = dict(zip(lista1,tupla1))\n",
        "print(diccionario2)"
      ],
      "execution_count": 5,
      "outputs": [
        {
          "output_type": "stream",
          "name": "stdout",
          "text": [
            "{'uno': 1, 'dos': 2, 'tres': 3, 'cuatro': 4, 'cinco': 5}\n"
          ]
        }
      ]
    },
    {
      "cell_type": "markdown",
      "metadata": {
        "id": "3-x73BH2m4H2"
      },
      "source": [
        "UNIR DOS DICCIONARIOS          UPDATE"
      ]
    },
    {
      "cell_type": "code",
      "metadata": {
        "colab": {
          "base_uri": "https://localhost:8080/"
        },
        "id": "kGuycJiHmaqt",
        "outputId": "a440dd9a-b0d7-4842-d2fe-0fa8c264912a"
      },
      "source": [
        "diccionario1.update(diccionario2)\n",
        "print(diccionario1)"
      ],
      "execution_count": 8,
      "outputs": [
        {
          "output_type": "stream",
          "name": "stdout",
          "text": [
            "{'uno': 1, 'dos': 2, 1: 'uno', 2: 'dos', 3: 'tres', 4: 'cuatro', 5: 'cinco'}\n"
          ]
        }
      ]
    },
    {
      "cell_type": "markdown",
      "metadata": {
        "id": "77eDJBnTYZoW"
      },
      "source": [
        "MODIFICAR UN ELEMENTO "
      ]
    },
    {
      "cell_type": "code",
      "metadata": {
        "id": "INXrfx2uTnet",
        "colab": {
          "base_uri": "https://localhost:8080/"
        },
        "outputId": "c2e13043-f3f7-4f39-e7e8-aab7be3c2300"
      },
      "source": [
        "diccionario1 = {'uno': 1, 'dos': 2, 1: 'uno', 2: 'dos', 3: 'tres', 4: 'cuatro', 5: 'cinco'}\n",
        "diccionario1['seis'] = 6\n",
        "print(diccionario1)\n",
        "diccionario1[6] = 'seis'\n",
        "print(diccionario1)\n",
        "diccionario1['uno'] = 8\n",
        "print(diccionario1)\n",
        "diccionario1['dos'] = 'dos'\n",
        "print(diccionario1)\n",
        "diccionario1['seis'] = 'seis'\n",
        "print(diccionario1)\n",
        "diccionario1['seis'] = 6\n",
        "print(diccionario1)"
      ],
      "execution_count": 34,
      "outputs": [
        {
          "output_type": "stream",
          "name": "stdout",
          "text": [
            "{'uno': 1, 'dos': 2, 1: 'uno', 2: 'dos', 3: 'tres', 4: 'cuatro', 5: 'cinco', 'seis': 6}\n",
            "{'uno': 1, 'dos': 2, 1: 'uno', 2: 'dos', 3: 'tres', 4: 'cuatro', 5: 'cinco', 'seis': 6, 6: 'seis'}\n",
            "{'uno': 8, 'dos': 2, 1: 'uno', 2: 'dos', 3: 'tres', 4: 'cuatro', 5: 'cinco', 'seis': 6, 6: 'seis'}\n",
            "{'uno': 8, 'dos': 'dos', 1: 'uno', 2: 'dos', 3: 'tres', 4: 'cuatro', 5: 'cinco', 'seis': 6, 6: 'seis'}\n",
            "{'uno': 8, 'dos': 'dos', 1: 'uno', 2: 'dos', 3: 'tres', 4: 'cuatro', 5: 'cinco', 'seis': 'seis', 6: 'seis'}\n",
            "{'uno': 8, 'dos': 'dos', 1: 'uno', 2: 'dos', 3: 'tres', 4: 'cuatro', 5: 'cinco', 'seis': 6, 6: 'seis'}\n"
          ]
        }
      ]
    },
    {
      "cell_type": "markdown",
      "metadata": {
        "id": "TncYpl21aNVf"
      },
      "source": [
        "ELIMINAMOS UN ELEMENTO CON POP"
      ]
    },
    {
      "cell_type": "code",
      "metadata": {
        "colab": {
          "base_uri": "https://localhost:8080/"
        },
        "id": "X9kK3XLvau_u",
        "outputId": "f8069de6-e8b6-423d-890a-d6f93ffe2c14"
      },
      "source": [
        "diccionario1 = {'uno': 8, 'dos': 'dos', 1: 'uno', 2: 'dos', 3: 'tres', 4: 'cuatro', 5: 'cinco', 'seis': 6, 6: 'seis'}\n",
        "print(diccionario1)\n",
        "diccionario1.pop('seis')  # ELIMINO LA CLAVE \" SEIS \"\n",
        "print(diccionario1)\n",
        "diccionario1.pop(4)  # ELIMINO tanto CLAVE como valor\n",
        "print(diccionario1)"
      ],
      "execution_count": 40,
      "outputs": [
        {
          "output_type": "stream",
          "name": "stdout",
          "text": [
            "{'uno': 8, 'dos': 'dos', 1: 'uno', 2: 'dos', 3: 'tres', 4: 'cuatro', 5: 'cinco', 'seis': 6, 6: 'seis'}\n",
            "{'uno': 8, 'dos': 'dos', 1: 'uno', 2: 'dos', 3: 'tres', 4: 'cuatro', 5: 'cinco', 6: 'seis'}\n",
            "{'uno': 8, 'dos': 'dos', 1: 'uno', 2: 'dos', 3: 'tres', 5: 'cinco', 6: 'seis'}\n"
          ]
        }
      ]
    },
    {
      "cell_type": "code",
      "metadata": {
        "colab": {
          "base_uri": "https://localhost:8080/"
        },
        "id": "d2L-CzwEcZAW",
        "outputId": "2311cde9-0c32-4f85-f217-457b7e8d7fdf"
      },
      "source": [
        "diccionario1 = {'uno': 8, 'dos': 'dos', 1: 'uno', 2: 'dos', 3: 'tres', 4: 'cuatro', 5: 'cinco', 'seis': 6, 6: 'seis'}\n",
        "print(diccionario1)\n",
        "print(8 in diccionario1)  # me dice que el 8 NO ESTA por que con in solo busca en las CLAVES, COMPROBRA SI UN NUMERO ESTA EN MI DICCIONARIO\n",
        "print(diccionario1)\n",
        "print('dos' in diccionario1)"
      ],
      "execution_count": 45,
      "outputs": [
        {
          "output_type": "stream",
          "name": "stdout",
          "text": [
            "{'uno': 8, 'dos': 'dos', 1: 'uno', 2: 'dos', 3: 'tres', 4: 'cuatro', 5: 'cinco', 'seis': 6, 6: 'seis'}\n",
            "False\n",
            "{'uno': 8, 'dos': 'dos', 1: 'uno', 2: 'dos', 3: 'tres', 4: 'cuatro', 5: 'cinco', 'seis': 6, 6: 'seis'}\n",
            "True\n"
          ]
        }
      ]
    },
    {
      "cell_type": "markdown",
      "metadata": {
        "id": "D4-G_jJOdmPh"
      },
      "source": [
        "PARA ELIMINAR UN ELEMENTO"
      ]
    },
    {
      "cell_type": "code",
      "metadata": {
        "colab": {
          "base_uri": "https://localhost:8080/"
        },
        "id": "4AB5yIJodtdd",
        "outputId": "2b753886-221b-4748-b79e-d28e78c087a2"
      },
      "source": [
        "diccionario1 = {'uno': 8, 'dos': 'dos', 1: 'uno', 2: 'dos', 3: 'tres', 4: 'cuatro', 5: 'cinco', 'seis': 6, 6: 'seis'}\n",
        "print(diccionario1)\n",
        "del diccionario1[4] # elimino tanto CLAVE como VALOR\n",
        "print(diccionario1)\n",
        "del diccionario1['seis'] # elimino tanto CLAVE como VALOR\n",
        "print(diccionario1)"
      ],
      "execution_count": 55,
      "outputs": [
        {
          "output_type": "stream",
          "name": "stdout",
          "text": [
            "{'uno': 8, 'dos': 'dos', 1: 'uno', 2: 'dos', 3: 'tres', 4: 'cuatro', 5: 'cinco', 'seis': 6, 6: 'seis'}\n",
            "{'uno': 8, 'dos': 'dos', 1: 'uno', 2: 'dos', 3: 'tres', 5: 'cinco', 'seis': 6, 6: 'seis'}\n",
            "{'uno': 8, 'dos': 'dos', 1: 'uno', 2: 'dos', 3: 'tres', 5: 'cinco', 6: 'seis'}\n"
          ]
        }
      ]
    },
    {
      "cell_type": "code",
      "metadata": {
        "colab": {
          "base_uri": "https://localhost:8080/"
        },
        "id": "cAvowlJef4Ex",
        "outputId": "712ecdea-f364-491f-e15d-2a369a938d92"
      },
      "source": [
        "diccionario1 = {'uno': 8, 'dos': 'dos', 1: 'uno', 2: 'dos', 3: 'tres', 4: 'cuatro', 5: 'cinco', 'seis': 6, 6: 'seis'}\n",
        "print(diccionario1)\n",
        "diccionario1.()\n",
        "print(diccionario1)  # sigue existiendo la variable pero no sus elementos. \n",
        "diccionario1.copy()\n",
        "print(diccionario1)"
      ],
      "execution_count": 57,
      "outputs": [
        {
          "output_type": "stream",
          "name": "stdout",
          "text": [
            "{'uno': 8, 'dos': 'dos', 1: 'uno', 2: 'dos', 3: 'tres', 4: 'cuatro', 5: 'cinco', 'seis': 6, 6: 'seis'}\n",
            "{}\n",
            "{}\n"
          ]
        }
      ]
    },
    {
      "cell_type": "code",
      "metadata": {
        "colab": {
          "base_uri": "https://localhost:8080/"
        },
        "id": "2Scu6JFLgs-X",
        "outputId": "fa3948f4-925c-41d6-e0ff-a3adcd4e65e8"
      },
      "source": [
        "diccionario1 = {'uno': 8, 'dos': 'dos', 1: 'uno', 2: 'dos', 3: 'tres', 4: 'cuatro', 5: 'cinco', 'seis': 6, 6: 'seis'}\n",
        "diccionario2 = diccionario1.get('uno')  # obtengo el valor de una clave\n",
        "print(diccionario2)"
      ],
      "execution_count": 69,
      "outputs": [
        {
          "output_type": "stream",
          "name": "stdout",
          "text": [
            "8\n"
          ]
        }
      ]
    },
    {
      "cell_type": "code",
      "metadata": {
        "colab": {
          "base_uri": "https://localhost:8080/"
        },
        "id": "lWUAzPEiiKwh",
        "outputId": "38f794c8-0649-4ee4-e175-6e025e6dae26"
      },
      "source": [
        "print(list(diccionario1)) # obtengo solo las claves "
      ],
      "execution_count": 70,
      "outputs": [
        {
          "output_type": "stream",
          "name": "stdout",
          "text": [
            "['uno', 'dos', 1, 2, 3, 4, 5, 'seis', 6]\n"
          ]
        }
      ]
    },
    {
      "cell_type": "code",
      "metadata": {
        "colab": {
          "base_uri": "https://localhost:8080/"
        },
        "id": "L9ROdXjLinLo",
        "outputId": "ab4e1819-c1a3-4986-8c7f-9f8c62d40c57"
      },
      "source": [
        "print(list(diccionario1.keys())) # obtengo solo las claves "
      ],
      "execution_count": 73,
      "outputs": [
        {
          "output_type": "stream",
          "name": "stdout",
          "text": [
            "['uno', 'dos', 1, 2, 3, 4, 5, 'seis', 6]\n"
          ]
        }
      ]
    },
    {
      "cell_type": "code",
      "metadata": {
        "colab": {
          "base_uri": "https://localhost:8080/"
        },
        "id": "UJwOjEtLi3gf",
        "outputId": "e961afa6-21dd-4ee1-8c50-20d21976cacd"
      },
      "source": [
        "print(list(diccionario1.values())) # obtengo los valores\n",
        "print(list(diccionario1.get(4)))\n"
      ],
      "execution_count": 111,
      "outputs": [
        {
          "output_type": "stream",
          "name": "stdout",
          "text": [
            "[8, 'dos', 'uno', 'dos', 'tres', 'cuatro', 'cinco', 6, 'seis']\n",
            "['c', 'u', 'a', 't', 'r', 'o']\n"
          ]
        }
      ]
    }
  ]
}