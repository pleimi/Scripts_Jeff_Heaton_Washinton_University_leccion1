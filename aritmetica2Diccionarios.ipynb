{
  "nbformat": 4,
  "nbformat_minor": 0,
  "metadata": {
    "colab": {
      "name": "aritmetica2Diccionarios.ipynb",
      "provenance": [],
      "authorship_tag": "ABX9TyNWCBsibtYs41Ua0L3UCb8b",
      "include_colab_link": true
    },
    "kernelspec": {
      "name": "python3",
      "display_name": "Python 3"
    },
    "language_info": {
      "name": "python"
    }
  },
  "cells": [
    {
      "cell_type": "markdown",
      "metadata": {
        "id": "view-in-github",
        "colab_type": "text"
      },
      "source": [
        "<a href=\"https://colab.research.google.com/github/pleimi/cursos_Jeff_Heaton_Washinton_University_leccion1/blob/main/aritmetica2Diccionarios.ipynb\" target=\"_parent\"><img src=\"https://colab.research.google.com/assets/colab-badge.svg\" alt=\"Open In Colab\"/></a>"
      ]
    },
    {
      "cell_type": "markdown",
      "metadata": {
        "id": "KnskC-z8jhVz"
      },
      "source": [
        "DICCIONARIOS 1:32 https://www.youtube.com/watch?v=MyeCc-Xwi5g&t=11052s"
      ]
    },
    {
      "cell_type": "code",
      "metadata": {
        "colab": {
          "base_uri": "https://localhost:8080/"
        },
        "id": "pcTyKBE_jakc",
        "outputId": "8790c456-7434-4ba2-e117-48b51facd701"
      },
      "source": [
        "diccionario1 = {\"uno\": 1,\"dos\":2,}     \n",
        "print(diccionario1)                                  # los DICCIONARIOS son mucho mas RAPIDO"
      ],
      "execution_count": 1,
      "outputs": [
        {
          "output_type": "stream",
          "name": "stdout",
          "text": [
            "{'uno': 1, 'dos': 2}\n"
          ]
        }
      ]
    },
    {
      "cell_type": "code",
      "metadata": {
        "colab": {
          "base_uri": "https://localhost:8080/"
        },
        "id": "FhIl09dulIbW",
        "outputId": "31284528-a18a-418f-a3ba-277058353870"
      },
      "source": [
        "tupla1 = (1,2,3,4,5)\n",
        "lista1 = [\"uno\",\"dos\",\"tres\",\"cuatro\",\"cinco\"]\n",
        "diccionario2 = dict(zip(tupla1,lista1))  # cambio el orden de los parametros\n",
        "print(diccionario2)"
      ],
      "execution_count": 4,
      "outputs": [
        {
          "output_type": "stream",
          "name": "stdout",
          "text": [
            "{1: 'uno', 2: 'dos', 3: 'tres', 4: 'cuatro', 5: 'cinco'}\n"
          ]
        }
      ]
    },
    {
      "cell_type": "code",
      "metadata": {
        "colab": {
          "base_uri": "https://localhost:8080/"
        },
        "id": "aSFmCiurl4x3",
        "outputId": "91cde41c-e7c0-40dd-9f20-a99ac41493b9"
      },
      "source": [
        "diccionario2 = dict(zip(lista1,tupla1))\n",
        "print(diccionario2)"
      ],
      "execution_count": 6,
      "outputs": [
        {
          "output_type": "stream",
          "name": "stdout",
          "text": [
            "{'uno': 1, 'dos': 2, 'tres': 3, 'cuatro': 4, 'cinco': 5}\n"
          ]
        }
      ]
    },
    {
      "cell_type": "markdown",
      "metadata": {
        "id": "3-x73BH2m4H2"
      },
      "source": [
        "UNIR DOS DICCIONARIOS          UPDATE"
      ]
    },
    {
      "cell_type": "code",
      "metadata": {
        "colab": {
          "base_uri": "https://localhost:8080/"
        },
        "id": "kGuycJiHmaqt",
        "outputId": "ed92856e-352c-42eb-ddc3-b0994c9e101a"
      },
      "source": [
        "diccionario1.update(dicccionario2)\n",
        "print(diccionario1)"
      ],
      "execution_count": 7,
      "outputs": [
        {
          "output_type": "stream",
          "name": "stdout",
          "text": [
            "{'uno': 1, 'dos': 2, 1: 'uno', 2: 'dos', 3: 'tres', 4: 'cuatro', 5: 'cinco'}\n"
          ]
        }
      ]
    }
  ]
}