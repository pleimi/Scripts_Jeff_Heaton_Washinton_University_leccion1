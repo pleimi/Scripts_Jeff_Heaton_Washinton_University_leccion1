{
  "nbformat": 4,
  "nbformat_minor": 0,
  "metadata": {
    "colab": {
      "name": "curso_red_neuronal_artificial.ipynb",
      "provenance": [],
      "authorship_tag": "ABX9TyN3sxZCP/Xw+ZQAAr+bp5Oi",
      "include_colab_link": true
    },
    "kernelspec": {
      "name": "python3",
      "display_name": "Python 3"
    },
    "language_info": {
      "name": "python"
    }
  },
  "cells": [
    {
      "cell_type": "markdown",
      "metadata": {
        "id": "view-in-github",
        "colab_type": "text"
      },
      "source": [
        "<a href=\"https://colab.research.google.com/github/pleimi/Scripts_Jeff_Heaton_Washinton_University_leccion1/blob/main/curso_red_neuronal_artificial_FORMA.ipynb\" target=\"_parent\"><img src=\"https://colab.research.google.com/assets/colab-badge.svg\" alt=\"Open In Colab\"/></a>"
      ]
    },
    {
      "cell_type": "markdown",
      "metadata": {
        "id": "yaJrAc6UIH0f"
      },
      "source": [
        "# https://www.youtube.com/watch?v=CX7ebtb6Dnw"
      ]
    },
    {
      "cell_type": "markdown",
      "metadata": {
        "id": "oaWx5xOHLkc1"
      },
      "source": [
        "FORMA de la matriz"
      ]
    },
    {
      "cell_type": "code",
      "metadata": {
        "colab": {
          "base_uri": "https://localhost:8080/"
        },
        "id": "FLgEo-J34pi2",
        "outputId": "178a4906-c95d-44fe-9497-ffe6bcd28e0b"
      },
      "source": [
        "import numpy as np\n",
        "import matplotlib.pyplot as plt\n",
        "\n",
        "inputs = np.array([[0,0],[0,1],[1,0],[1,1]]) # las matrices se forman con 2 pares de corchetes\n",
        "y = np.array([[0], [0], [0], [1]])\n",
        "\n",
        "print(inputs.shape) # me da la forma de la matriz (fila, columna)\n",
        "print(y.shape)\n",
        "\n",
        "\n"
      ],
      "execution_count": 8,
      "outputs": [
        {
          "output_type": "stream",
          "text": [
            "(4, 2)\n",
            "(4, 1)\n"
          ],
          "name": "stdout"
        }
      ]
    }
  ]
}