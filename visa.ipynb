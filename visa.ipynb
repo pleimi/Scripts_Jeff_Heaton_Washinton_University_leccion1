{
  "nbformat": 4,
  "nbformat_minor": 0,
  "metadata": {
    "colab": {
      "name": "visa.ipynb",
      "provenance": [],
      "authorship_tag": "ABX9TyOCHDste+xJn5aa6eOnUIeo",
      "include_colab_link": true
    },
    "kernelspec": {
      "name": "python3",
      "display_name": "Python 3"
    },
    "language_info": {
      "name": "python"
    }
  },
  "cells": [
    {
      "cell_type": "markdown",
      "metadata": {
        "id": "view-in-github",
        "colab_type": "text"
      },
      "source": [
        "<a href=\"https://colab.research.google.com/github/pleimi/cursos_Jeff_Heaton_Washinton_University_leccion1/blob/main/visa.ipynb\" target=\"_parent\"><img src=\"https://colab.research.google.com/assets/colab-badge.svg\" alt=\"Open In Colab\"/></a>"
      ]
    },
    {
      "cell_type": "markdown",
      "metadata": {
        "id": "BcfK4N2VNwqQ"
      },
      "source": [
        "Escriba una palabra. "
      ]
    },
    {
      "cell_type": "code",
      "metadata": {
        "colab": {
          "base_uri": "https://localhost:8080/"
        },
        "id": "J85dkAAKIkzH",
        "outputId": "75a725e5-ade2-4771-f205-bf351aae8ffc"
      },
      "source": [
        "#estadistica = list(range(1, 109))# me da la cantidad menos el último    https://www.youtube.com/watch?v=4F82dKUNvz0 (para encontrar el indice)\n",
        "#print(estadistica)\n",
        "\n",
        "palabra = input(\"Escriba una palabra: \")\n",
        "palabra_ingresada = (\"la palabra es:\" + palabra)\n",
        "print(palabra_ingresada)\n",
        "longitud = (len(palabra))\n",
        "print(\"la longitud es : {} \".format(longitud))\n",
        "\n",
        "for i,palabra in enumerate (palabra): # itera por cada caracter de la palabra \n",
        "  print(f\"{i}:{palabra}\")   # muestra el indice y el elemento     \n",
        "\n",
        "print(palabra) # imprime los indices de la palabra ingresada\n",
        "\n",
        "valores_indice_cero = {\"a\":35,\"b\":70}  # https://www.youtube.com/watch?v=hjNWsqLAPv4\n",
        "print(\"a\" in valores_indice_cero) # me muestra True o False si el elemento esta en el diccionario\n",
        "print(valores_indice_cero.values())\n",
        "print(valores_indice_cero[\"a\"])\n",
        "\n",
        "\n",
        "\n",
        "\n",
        "\n"
      ],
      "execution_count": 46,
      "outputs": [
        {
          "output_type": "stream",
          "name": "stdout",
          "text": [
            "Escriba una palabra: dfaf\n",
            "la palabra es:dfaf\n",
            "la longitud es : 4 \n",
            "0:d\n",
            "1:f\n",
            "2:a\n",
            "3:f\n",
            "f\n",
            "True\n",
            "dict_values([35, 70])\n",
            "35\n"
          ]
        }
      ]
    },
    {
      "cell_type": "code",
      "metadata": {
        "id": "kIDXaSj-gitn"
      },
      "source": [
        ""
      ],
      "execution_count": null,
      "outputs": []
    }
  ]
}