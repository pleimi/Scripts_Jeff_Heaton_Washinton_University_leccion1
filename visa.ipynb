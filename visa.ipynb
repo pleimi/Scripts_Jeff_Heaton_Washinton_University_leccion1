{
  "nbformat": 4,
  "nbformat_minor": 0,
  "metadata": {
    "colab": {
      "name": "visa.ipynb",
      "provenance": [],
      "authorship_tag": "ABX9TyO47PxTIHu2By308eXBOQdu",
      "include_colab_link": true
    },
    "kernelspec": {
      "name": "python3",
      "display_name": "Python 3"
    },
    "language_info": {
      "name": "python"
    }
  },
  "cells": [
    {
      "cell_type": "markdown",
      "metadata": {
        "id": "view-in-github",
        "colab_type": "text"
      },
      "source": [
        "<a href=\"https://colab.research.google.com/github/pleimi/cursos_Jeff_Heaton_Washinton_University_leccion1/blob/main/visa.ipynb\" target=\"_parent\"><img src=\"https://colab.research.google.com/assets/colab-badge.svg\" alt=\"Open In Colab\"/></a>"
      ]
    },
    {
      "cell_type": "markdown",
      "metadata": {
        "id": "BcfK4N2VNwqQ"
      },
      "source": [
        "Escriba una palabra. "
      ]
    },
    {
      "cell_type": "code",
      "metadata": {
        "colab": {
          "base_uri": "https://localhost:8080/"
        },
        "id": "J85dkAAKIkzH",
        "outputId": "75e8349d-0202-46e8-bb98-4c51fc5055e4"
      },
      "source": [
        "#estadistica = list(range(1, 109))# me da la cantidad menos el último    https://www.youtube.com/watch?v=4F82dKUNvz0 (para encontrar el indice)\n",
        "#print(estadistica)\n",
        "\n",
        "palabra = input(\"Escriba una palabra: \")\n",
        "palabra_ingresada = (\"la palabra es:\" + palabra)\n",
        "print(palabra_ingresada)\n",
        "longitud = (len(palabra))\n",
        "print(\"la longitud es : {} \".format(longitud))\n",
        "\n",
        "for i,palabra in enumerate (palabra):\n",
        "  print(f\"{i}:{palabra}\")\n",
        "\n",
        "print(palabra) # imprime los indices de la palabra ingresada\n",
        "\n",
        "\n"
      ],
      "execution_count": 70,
      "outputs": [
        {
          "output_type": "stream",
          "name": "stdout",
          "text": [
            "Escriba una palabra: juanita\n",
            "la palabra es:juanita\n",
            "la longitud es : 7 \n",
            "0:j\n",
            "1:u\n",
            "2:a\n",
            "3:n\n",
            "4:i\n",
            "5:t\n",
            "6:a\n",
            "a\n"
          ]
        }
      ]
    }
  ]
}