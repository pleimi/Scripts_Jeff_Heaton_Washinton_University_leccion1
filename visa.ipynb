{
  "nbformat": 4,
  "nbformat_minor": 0,
  "metadata": {
    "colab": {
      "name": "visa.ipynb",
      "provenance": [],
      "authorship_tag": "ABX9TyP07MO6tH2eKLwjvD8C3Clh",
      "include_colab_link": true
    },
    "kernelspec": {
      "name": "python3",
      "display_name": "Python 3"
    },
    "language_info": {
      "name": "python"
    }
  },
  "cells": [
    {
      "cell_type": "markdown",
      "metadata": {
        "id": "view-in-github",
        "colab_type": "text"
      },
      "source": [
        "<a href=\"https://colab.research.google.com/github/pleimi/cursos_Jeff_Heaton_Washinton_University_leccion1/blob/main/visa.ipynb\" target=\"_parent\"><img src=\"https://colab.research.google.com/assets/colab-badge.svg\" alt=\"Open In Colab\"/></a>"
      ]
    },
    {
      "cell_type": "markdown",
      "metadata": {
        "id": "BcfK4N2VNwqQ"
      },
      "source": [
        "Escriba una palabra. "
      ]
    },
    {
      "cell_type": "code",
      "metadata": {
        "colab": {
          "base_uri": "https://localhost:8080/"
        },
        "id": "J85dkAAKIkzH",
        "outputId": "a82e51a9-dd0f-4e77-b260-1e4fa77cca9b"
      },
      "source": [
        "#estadistica = list(range(1, 109))# me da la cantidad menos el último    https://www.youtube.com/watch?v=4F82dKUNvz0 (para encontrar el indice)\n",
        "#print(estadistica)\n",
        "\n",
        "palabra = input(\"Escriba una palabra: \")\n",
        "palabra_ingresada = (\"la palabra es:\" + palabra)\n",
        "print(palabra_ingresada)\n",
        "longitud = (len(palabra))\n",
        "print(\"la longitud es : {} \".format(longitud))\n",
        "\n",
        "for i,palabra in enumerate (palabra): # itera por cada caracter de la palabra \n",
        "  print(f\"{i}:{palabra}\")   # muestra el indice y el elemento     \n",
        "\n",
        "print(palabra) # imprime los indices de la palabra ingresada\n",
        "\n",
        "\n",
        "\n",
        "\n"
      ],
      "execution_count": 72,
      "outputs": [
        {
          "output_type": "stream",
          "name": "stdout",
          "text": [
            "Escriba una palabra: criptografo\n",
            "la palabra es:criptografo\n",
            "la longitud es : 11 \n",
            "0:c\n",
            "1:r\n",
            "2:i\n",
            "3:p\n",
            "4:t\n",
            "5:o\n",
            "6:g\n",
            "7:r\n",
            "8:a\n",
            "9:f\n",
            "10:o\n",
            "o\n"
          ]
        }
      ]
    }
  ]
}