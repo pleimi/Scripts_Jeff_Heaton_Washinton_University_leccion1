{
  "nbformat": 4,
  "nbformat_minor": 0,
  "metadata": {
    "colab": {
      "name": "lección1jeff.ipynb",
      "provenance": [],
      "authorship_tag": "ABX9TyM2asBS8AP9cRFTsxjMx7Rd",
      "include_colab_link": true
    },
    "kernelspec": {
      "name": "python3",
      "display_name": "Python 3"
    },
    "language_info": {
      "name": "python"
    }
  },
  "cells": [
    {
      "cell_type": "markdown",
      "metadata": {
        "id": "view-in-github",
        "colab_type": "text"
      },
      "source": [
        "<a href=\"https://colab.research.google.com/github/pleimi/estado_prueba/blob/main/lecci%C3%B3n1jeff.ipynb\" target=\"_parent\"><img src=\"https://colab.research.google.com/assets/colab-badge.svg\" alt=\"Open In Colab\"/></a>"
      ]
    },
    {
      "cell_type": "code",
      "metadata": {
        "id": "2_vp0aL66x03"
      },
      "source": [
        "try:\n",
        "    from google.colab import drive   #  https://colab.research.google.com/github/jeffheaton/t81_558_deep_learning/blob/master/t81_558_class_01_2_intro_python.ipynb#scrollTo=NJxEFQ9D6iqJ\n",
        "    %tensorflow_version 2.x\n",
        "    COLAB = True\n",
        "    print(\"Note: using Google CoLab\")\n",
        "except:\n",
        "    print(\"Note: not using Google CoLab\")\n",
        "    COLAB = False # para comprobar que estamos usando"
      ],
      "execution_count": null,
      "outputs": []
    },
    {
      "cell_type": "code",
      "metadata": {
        "id": "aDsuI4Cj62zk"
      },
      "source": [
        "print(\"hello wordl\")"
      ],
      "execution_count": null,
      "outputs": []
    },
    {
      "cell_type": "code",
      "metadata": {
        "id": "vCoVbxJq7ATb"
      },
      "source": [
        "print(\"hello world\") # comentario"
      ],
      "execution_count": null,
      "outputs": []
    },
    {
      "cell_type": "code",
      "metadata": {
        "id": "DzjQkFDT8EnT"
      },
      "source": [
        "print(\"\"\"Print\n",
        "Multiple\n",
        "Lines\n",
        "\"\"\")"
      ],
      "execution_count": null,
      "outputs": []
    },
    {
      "cell_type": "code",
      "metadata": {
        "id": "ID_368EE9cjs"
      },
      "source": [
        "print(42)\n",
        "print(42.5) # no se requiere el type"
      ],
      "execution_count": null,
      "outputs": []
    },
    {
      "cell_type": "code",
      "metadata": {
        "id": "NDFKTSeo9w0M"
      },
      "source": [
        "a = 10      # \n",
        "b = \"ten\"\n",
        "print(a)\n",
        "print(b)"
      ],
      "execution_count": null,
      "outputs": []
    },
    {
      "cell_type": "code",
      "metadata": {
        "id": "VdkW_5sY-dB-"
      },
      "source": [
        "a = 10\n",
        "print(a)\n",
        "a = a + 1 # tambien se puede escribir a += 1\n",
        "print(a)"
      ],
      "execution_count": null,
      "outputs": []
    },
    {
      "cell_type": "code",
      "metadata": {
        "id": "RtJqsisH-xhe"
      },
      "source": [
        "a = 10\n",
        "print(f'The value of a is {a}') # para combinar variables y strings"
      ],
      "execution_count": null,
      "outputs": []
    },
    {
      "cell_type": "code",
      "metadata": {
        "id": "9oUm2_2m_tVW"
      },
      "source": [
        "a = 10\n",
        "print(f'The value of a plus 5 is {a+5}') # usando f-strings con matemáticas y se llama, expresión  "
      ],
      "execution_count": null,
      "outputs": []
    },
    {
      "cell_type": "code",
      "metadata": {
        "id": "Rxq-Us_GBLER"
      },
      "source": [
        "a = 5\n",
        "\n",
        "print(f'a is {a}') # Preferred method for this course.\n",
        "print('a is {}'.format(a))\n",
        "print('a is ' + str(a))\n",
        "print('a is %d' % (a))"
      ],
      "execution_count": null,
      "outputs": []
    },
    {
      "cell_type": "code",
      "metadata": {
        "id": "jmW2WtM4BXgL"
      },
      "source": [
        "a = 5\n",
        "if a>5:\n",
        "    print('The variable a is greater than 5.')\n",
        "else:\n",
        "    print('The variable a is not greater than 5')"
      ],
      "execution_count": null,
      "outputs": []
    },
    {
      "cell_type": "code",
      "metadata": {
        "id": "cYgKJQYLB5zL"
      },
      "source": [
        "a = 5\n",
        "b = 6\n",
        "\n",
        "if a==5:\n",
        "    print('The variable a is 5')\n",
        "    if b==6:\n",
        "        print('The variable b is also 6')\n",
        "elif a==6:\n",
        "    print('The variable a is 6')\n",
        "    "
      ],
      "execution_count": null,
      "outputs": []
    },
    {
      "cell_type": "code",
      "metadata": {
        "id": "KOb_pCzECSrL"
      },
      "source": [
        "for x in range(1, 10):  # If you ever see xrange, you are in Python 2\n",
        "    print(x)  \n",
        "# If you ever see print x (no parenthesis), you are in Python 2"
      ],
      "execution_count": null,
      "outputs": []
    },
    {
      "cell_type": "code",
      "metadata": {
        "id": "hRH8Ll1FCkTU"
      },
      "source": [
        "acc = 0\n",
        "for x in range(1, 10):\n",
        "    acc += x\n",
        "    print(f\"Adding {x}, sum so far is {acc}\")  # suma el resultado al número anterior \n",
        "\n",
        "print(f\"Final sum: {acc}\")"
      ],
      "execution_count": null,
      "outputs": []
    }
  ]
}