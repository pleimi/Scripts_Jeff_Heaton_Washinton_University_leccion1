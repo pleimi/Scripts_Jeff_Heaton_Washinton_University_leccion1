{
  "nbformat": 4,
  "nbformat_minor": 0,
  "metadata": {
    "colab": {
      "name": "listasYdiccionariosy setsJeff2.ipynb",
      "provenance": [],
      "authorship_tag": "ABX9TyOk+7nZBBY/hd1S4ozueshi",
      "include_colab_link": true
    },
    "kernelspec": {
      "name": "python3",
      "display_name": "Python 3"
    },
    "language_info": {
      "name": "python"
    }
  },
  "cells": [
    {
      "cell_type": "markdown",
      "metadata": {
        "id": "view-in-github",
        "colab_type": "text"
      },
      "source": [
        "<a href=\"https://colab.research.google.com/github/pleimi/Scripts_Jeff_Heaton_Washinton_University_leccion1/blob/main/lecciop2Jeff_Heaton_listasYdiccionariosy_sets.ipynb\" target=\"_parent\"><img src=\"https://colab.research.google.com/assets/colab-badge.svg\" alt=\"Open In Colab\"/></a>"
      ]
    },
    {
      "cell_type": "markdown",
      "metadata": {
        "id": "YBBSK-9uqIpp"
      },
      "source": [
        "https://www.youtube.com/watch?v=kcGx2I5akSs&list=PLjy4p-07OYzulelvJ5KVaT2pDlxivl_BN"
      ]
    },
    {
      "cell_type": "code",
      "metadata": {
        "colab": {
          "base_uri": "https://localhost:8080/"
        },
        "id": "oJZ_j9n3mws5",
        "outputId": "33d537e2-dbd6-4a4b-e6f6-801073121d82"
      },
      "source": [
        "c = ['a', \"b\" ,'c', 'd']\n",
        "c.append('e')\n",
        "print(c)"
      ],
      "execution_count": null,
      "outputs": [
        {
          "output_type": "stream",
          "text": [
            "['a', 'b', 'c', 'd', 'e']\n"
          ],
          "name": "stdout"
        }
      ]
    },
    {
      "cell_type": "code",
      "metadata": {
        "colab": {
          "base_uri": "https://localhost:8080/"
        },
        "id": "EUuV0BWCpeCR",
        "outputId": "a0834548-7b57-4d64-c243-c919df257152"
      },
      "source": [
        "for s in c:  # para iterar valores en una lista \n",
        "  print(s)"
      ],
      "execution_count": null,
      "outputs": [
        {
          "output_type": "stream",
          "text": [
            "a\n",
            "b\n",
            "c\n",
            "d\n",
            "e\n"
          ],
          "name": "stdout"
        }
      ]
    },
    {
      "cell_type": "code",
      "metadata": {
        "colab": {
          "base_uri": "https://localhost:8080/"
        },
        "id": "kLtqboruqvqY",
        "outputId": "7565db71-622c-405f-a26b-fd0416916420"
      },
      "source": [
        "idx = 0              # cual es el indice de un valor \n",
        "for s in c: \n",
        "  print(f'{s} - {idx}')\n",
        "  idx +=1"
      ],
      "execution_count": null,
      "outputs": [
        {
          "output_type": "stream",
          "text": [
            "a - 0\n",
            "b - 1\n",
            "c - 2\n",
            "d - 3\n",
            "e - 4\n"
          ],
          "name": "stdout"
        }
      ]
    },
    {
      "cell_type": "code",
      "metadata": {
        "colab": {
          "base_uri": "https://localhost:8080/"
        },
        "id": "e8zrRNibvfyR",
        "outputId": "9c842862-9dde-401e-81a0-213566fa8d8a"
      },
      "source": [
        "for i,c in enumerate(c):  # para modificar un valor en particular \n",
        "  print(f\"{i}:{c}\")"
      ],
      "execution_count": null,
      "outputs": [
        {
          "output_type": "stream",
          "text": [
            "0:a\n",
            "1:b\n",
            "2:c\n",
            "3:d\n",
            "4:e\n"
          ],
          "name": "stdout"
        }
      ]
    },
    {
      "cell_type": "code",
      "metadata": {
        "colab": {
          "base_uri": "https://localhost:8080/"
        },
        "id": "HY7ElS4swOB5",
        "outputId": "62f5254a-b586-45f4-869b-93e425c2b16c"
      },
      "source": [
        "c = []  # con diccionarios con brakets cuadrados si se puede duplicar los valores\n",
        "c.append('a')\n",
        "c.append('b')\n",
        "c.append('c')\n",
        "c.append('c')\n",
        "print(c)"
      ],
      "execution_count": null,
      "outputs": [
        {
          "output_type": "stream",
          "text": [
            "['a', 'b', 'c', 'c']\n"
          ],
          "name": "stdout"
        }
      ]
    },
    {
      "cell_type": "code",
      "metadata": {
        "id": "h40QmRKsxBLh"
      },
      "source": [
        "c = set ()  # con set en () no se pueden tener valores repetidos, si se pueden eliminar\n",
        "c.add('a')\n",
        "c.add('b')\n",
        "c.add('c')\n",
        "c.add('c')\n",
        "print(c)"
      ],
      "execution_count": null,
      "outputs": []
    },
    {
      "cell_type": "code",
      "metadata": {
        "id": "5ExeoJvqy-hm"
      },
      "source": [
        "c = ['a','b', 'c']  \n",
        "c.insert(0, 'a0')\n",
        "print(c)\n",
        "c.remove('b')  # borra el valor \n",
        "print(c)\n",
        "del c[2]    # borra lo que esta ubicado en el indice tal \n",
        "print(c)\n"
      ],
      "execution_count": null,
      "outputs": []
    },
    {
      "cell_type": "code",
      "metadata": {
        "id": "Gj0IKCWQ04dc"
      },
      "source": [
        "d = {'nombre':\"juan carlos\",'direccion':\"cra 14 44 a 57 sur\"}\n",
        "print(d)\n",
        "print(d['nombre']) # obtener valores de un diccionario \n",
        "if 'nombre' in d:\n",
        "  print('el nombre esta defined')\n",
        "if 'edad' in d:\n",
        "  print('edad no esta definido')\n",
        "else:\n",
        "  print(\"edad no esta definida\")\n"
      ],
      "execution_count": null,
      "outputs": []
    },
    {
      "cell_type": "code",
      "metadata": {
        "id": "SpKs8ZN44rIs"
      },
      "source": [
        "print(f\"key: {d.keys()}\") # obtengo las claves del diccionario"
      ],
      "execution_count": null,
      "outputs": []
    },
    {
      "cell_type": "code",
      "metadata": {
        "id": "Qv3AA5zn5gpP"
      },
      "source": [
        "print(f\"values: {d.values()}\")  # obtengo los valores "
      ],
      "execution_count": null,
      "outputs": []
    },
    {
      "cell_type": "code",
      "metadata": {
        "id": "ulPa5VPW_HSv"
      },
      "source": [
        "customers = [\n",
        "      {\"name\": \"Jeff & Tracy Heaton\", \"pets\":[\"Winton\", \"Cricket\", \"Hickory\"],    # hay un error\n",
        "      {\"name\": \"Jhon Smith\", \"pets\": [\"rover\"]},\n",
        "      {\"name\": \"Jane Doe\"}\n",
        "]\n",
        "\n",
        "print(customers)\n",
        "\n",
        "for customer in customers:\n",
        "  print(f\"{customer['name']}:{customer.get('pets', 'no pets')}\")"
      ],
      "execution_count": null,
      "outputs": []
    },
    {
      "cell_type": "code",
      "metadata": {
        "id": "ovLZ_A8dbggD"
      },
      "source": [
        "a = [1,2,3,4,5]\n",
        "b = [5,4,3,2,1]      # para combinar listas  y hacer series de tuplas \n",
        "\n",
        "print (list(zip(a,b)))"
      ],
      "execution_count": null,
      "outputs": []
    },
    {
      "cell_type": "code",
      "metadata": {
        "id": "QPgod6Jzdk6t"
      },
      "source": [
        "for x, y  in zip(a,b):  # imprime en columnas\n",
        "  print(f'{x} - {y}')\n",
        "\n"
      ],
      "execution_count": null,
      "outputs": []
    },
    {
      "cell_type": "code",
      "metadata": {
        "id": "lJF-BHMkgJc0"
      },
      "source": [
        "a = ['one','two','three','four','five']  # enumerate es para encontrar el indice de los valores en un diccionario\n",
        "list(enumerate(a))"
      ],
      "execution_count": null,
      "outputs": []
    },
    {
      "cell_type": "markdown",
      "metadata": {
        "id": "ReTkxB9floCO"
      },
      "source": [
        "Para encontrar el indice de cada valor "
      ]
    },
    {
      "cell_type": "code",
      "metadata": {
        "id": "eVVlCTFAi8sG"
      },
      "source": [
        "for idx, item in enumerate(a):\n",
        "  print(f'Index {idx} holds \"{item}\"')"
      ],
      "execution_count": null,
      "outputs": []
    },
    {
      "cell_type": "markdown",
      "metadata": {
        "id": "PnLIpePUiezP"
      },
      "source": [
        "la comprensián debajo cuenta de 0 a 9 y agrega cada valor a la lista multiplicado por 10"
      ]
    },
    {
      "cell_type": "code",
      "metadata": {
        "colab": {
          "base_uri": "https://localhost:8080/"
        },
        "id": "7yjWBow7mieO",
        "outputId": "3df5b35b-1c24-411e-a077-f16cf61182f7"
      },
      "source": [
        "lst = [x*10 for x in range(10)]\n",
        "print(lst)"
      ],
      "execution_count": null,
      "outputs": [
        {
          "output_type": "stream",
          "text": [
            "[0, 10, 20, 30, 40, 50, 60, 70, 80, 90]\n"
          ],
          "name": "stdout"
        }
      ]
    },
    {
      "cell_type": "markdown",
      "metadata": {
        "id": "f4e8eimpoeo4"
      },
      "source": [
        "para encontrar las CABECERAS de los textos en las columnas "
      ]
    },
    {
      "cell_type": "code",
      "metadata": {
        "colab": {
          "base_uri": "https://localhost:8080/"
        },
        "id": "JrO-9lPKoYeP",
        "outputId": "7befdb06-8946-4b67-ab27-b9d112ce288f"
      },
      "source": [
        "text = ['col-zero','col-one', 'col-two','col-three']\n",
        "lookup = {key:value for (value,key) in enumerate(text)}\n",
        "print(lookup)"
      ],
      "execution_count": null,
      "outputs": [
        {
          "output_type": "stream",
          "text": [
            "{'col-zero': 0, 'col-one': 1, 'col-two': 2, 'col-three': 3}\n"
          ],
          "name": "stdout"
        }
      ]
    }
  ]
}