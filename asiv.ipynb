{
  "nbformat": 4,
  "nbformat_minor": 0,
  "metadata": {
    "colab": {
      "name": "asiv.ipynb",
      "provenance": [],
      "authorship_tag": "ABX9TyMvzXo/YXM5zmZyafZnjtIK",
      "include_colab_link": true
    },
    "kernelspec": {
      "name": "python3",
      "display_name": "Python 3"
    },
    "language_info": {
      "name": "python"
    }
  },
  "cells": [
    {
      "cell_type": "markdown",
      "metadata": {
        "id": "view-in-github",
        "colab_type": "text"
      },
      "source": [
        "<a href=\"https://colab.research.google.com/github/pleimi/cursos_Jeff_Heaton_Washinton_University_leccion1/blob/main/asiv.ipynb\" target=\"_parent\"><img src=\"https://colab.research.google.com/assets/colab-badge.svg\" alt=\"Open In Colab\"/></a>"
      ]
    },
    {
      "cell_type": "code",
      "metadata": {
        "colab": {
          "base_uri": "https://localhost:8080/",
          "height": 327
        },
        "id": "K1D5xK3lsksw",
        "outputId": "acf18355-2692-49cd-d8e5-c1968b1aa039"
      },
      "source": [
        "from collections import defaultdict\n",
        "\n",
        "codigoIngresado = input(\"por favor ingrese el codigo: \" )\n",
        "print(\"El código es: \" + codigoIngresado)\n",
        "\n",
        "letras = ['a', 'b', 'c', 'd', 'e', 'f', 'g', 'h', 'i', 'j', 'k', 'l', 'm', 'n', 'o', 'p', 'q', 'r', 's', 't', 'u', 'v', 'w', 'x', 'y']\n",
        "valores = ['35', '70', '105', '140', '175', '210', '245', '280', '315', '350', '385', '420', '455', '490', '525', '560', '595', '630', '665', '700', '735', '770', '805', '840', '875']\n",
        "valoresIndiceCero = dict(zip(valores,letras))\n",
        "print(valoresIndiceCero)\n",
        "\n",
        "#print(valoresIndiceCero.keys())\n",
        "#print(valoresIndiceCero.values())\n",
        "\n",
        "lst = []\n",
        "lst.extend(codigoIngresado)\n",
        "print(lst)\n",
        "indiceCero = (codigoIngresado[0])\n",
        "indiceUno = (codigoIngresado[1])\n",
        "indiceDos = (codigoIngresado[2])\n",
        "indiceTres = (codigoIngresado[3])        # http://index-of.es/Varios-2/Fluent%20Python%20Clear%20Concise%20and%20Effective%20Programming.pdf (libro de python)\n",
        "primeros4Indices = (indiceCero+indiceUno+indiceDos+indiceTres)\n",
        "print(primeros4Indices)\n",
        "\n",
        "primeros4Indices = [indiceCero,indiceUno,indiceDos,indiceTres]\n",
        "primeros3Indices = [indiceCero,indiceUno,indiceDos]\n",
        "primeros2Indices = [indiceCero,indiceUno]\n",
        "primerIndice = [indiceCero]\n",
        "print(primeros4Indices)\n",
        "print(primeros3Indices)\n",
        "print(primeros2Indices)\n",
        "print(primerIndice)\n",
        "\n",
        "formato4 = \"\".join([str(n) for n in primeros4Indices])  # referencia: QUITAR COMAS Y CORCHETE PARA UNIR LOS CARACTERES https://www.youtube.com/watch?v=eb1Jq3r5V1s\n",
        "print(formato4)\n",
        "\n",
        "formato3 = \"\".join([str(n) for n in primeros3Indices])  # referencia: QUITAR COMAS Y CORCHETE PARA UNIR LOS CARACTERES https://www.youtube.com/watch?v=eb1Jq3r5V1s\n",
        "print(formato3)\n",
        "\n",
        "formato2 = \"\".join([str(n) for n in primeros2Indices])  # referencia: QUITAR COMAS Y CORCHETE PARA UNIR LOS CARACTERES https://www.youtube.com/watch?v=eb1Jq3r5V1s\n",
        "print(formato2)\n",
        "\n",
        "formato1 = \"\".join([str(n) for n in primerIndice])  # referencia: QUITAR COMAS Y CORCHETE PARA UNIR LOS CARACTERES https://www.youtube.com/watch?v=eb1Jq3r5V1s\n",
        "print(formato1)\n",
        "\n",
        "\n",
        "if formato4 in codigoIngresado:\n",
        "    primerSerie = (valoresIndiceCero.get(formato4))\n",
        "    print(primerSerie)\n",
        "\n",
        "if formato3 in valoresIndiceCero:\n",
        "    primerSerie = (valoresIndiceCero.get(formato3))\n",
        "    print(primerSerie)\n",
        "\n",
        "if formato2 in valoresIndiceCero:\n",
        "    primerSerie = (valoresIndiceCero.get(formato2))\n",
        "    print(primerSerie)\n",
        "\n",
        "if formato1 in valoresIndiceCero:\n",
        "    primerSerie = (valoresIndiceCero.get(formato1))\n",
        "    print(primerSerie)\n",
        "\n",
        "\n",
        "'''\n",
        "if formato4 == '350':\n",
        "    primerLetra = \"j\"\n",
        "    print(primerLetra) \n",
        "elif formato3 == '350':\n",
        "      primerLetra = \"j\"\n",
        "      print(primerLetra)\n",
        "if formato2 == '350':\n",
        "    primerLetra = \"j\"\n",
        "    print(primerLetra) \n",
        "elif formato1 == '350':\n",
        "      primerLetra = \"j\"\n",
        "      print(primerLetra)\n",
        "else:\n",
        "    print(\"nanai\")\n",
        "'''\n",
        "\n",
        "\n",
        "'''\n",
        "    primeros4Indices.pop()\n",
        "    primeros3Indices = primeros4Indices\n",
        "    print(primeros3Indices)\n",
        "'''\n",
        "'''\n",
        "if primeros3Indices == 350:\n",
        "    primerLetra = \"a\"\n",
        "    print(primerLetra)\n",
        "else:\n",
        "    print(\"nada\")\n",
        "'''\n",
        "'''\n",
        "primeros3Indices = [indiceCero,indiceUno,indiceDos]\n",
        "print(primeros3Indices)\n",
        "formato1 = \"\".join([str(n) for n in primeros3Indices])  # referencia: QUITAR COMAS Y CORCHETE PARA UNIR LOS CARACTERES https://www.youtube.com/watch?v=eb1Jq3r5V1s\n",
        "print(formato1)\n",
        "\n",
        "if primeros3Indices == 350:\n",
        "    primerLetra = \"a\"\n",
        "    print(\"sos la : \" + primerLetra)\n",
        "'''"
      ],
      "execution_count": 95,
      "outputs": [
        {
          "output_type": "stream",
          "name": "stdout",
          "text": [
            "por favor ingrese el codigo: 702552208\n",
            "El código es: 702552208\n",
            "{'35': 'a', '70': 'b', '105': 'c', '140': 'd', '175': 'e', '210': 'f', '245': 'g', '280': 'h', '315': 'i', '350': 'j', '385': 'k', '420': 'l', '455': 'm', '490': 'n', '525': 'o', '560': 'p', '595': 'q', '630': 'r', '665': 's', '700': 't', '735': 'u', '770': 'v', '805': 'w', '840': 'x', '875': 'y'}\n",
            "['7', '0', '2', '5', '5', '2', '2', '0', '8']\n",
            "7025\n",
            "['7', '0', '2', '5']\n",
            "['7', '0', '2']\n",
            "['7', '0']\n",
            "['7']\n",
            "7025\n",
            "702\n",
            "70\n",
            "7\n",
            "None\n",
            "b\n"
          ]
        },
        {
          "output_type": "execute_result",
          "data": {
            "application/vnd.google.colaboratory.intrinsic+json": {
              "type": "string"
            },
            "text/plain": [
              "'\\nprimeros3Indices = [indiceCero,indiceUno,indiceDos]\\nprint(primeros3Indices)\\nformato1 = \"\".join([str(n) for n in primeros3Indices])  # referencia: QUITAR COMAS Y CORCHETE PARA UNIR LOS CARACTERES https://www.youtube.com/watch?v=eb1Jq3r5V1s\\nprint(formato1)\\n\\nif primeros3Indices == 350:\\n    primerLetra = \"a\"\\n    print(\"sos la : \" + primerLetra)\\n'"
            ]
          },
          "metadata": {},
          "execution_count": 95
        }
      ]
    }
  ]
}