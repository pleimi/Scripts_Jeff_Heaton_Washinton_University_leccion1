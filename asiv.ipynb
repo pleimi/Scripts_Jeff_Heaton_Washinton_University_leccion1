{
  "nbformat": 4,
  "nbformat_minor": 0,
  "metadata": {
    "colab": {
      "name": "asiv.ipynb",
      "provenance": [],
      "authorship_tag": "ABX9TyMqCh/L0pzuWMLjIQn7EXlY",
      "include_colab_link": true
    },
    "kernelspec": {
      "name": "python3",
      "display_name": "Python 3"
    },
    "language_info": {
      "name": "python"
    }
  },
  "cells": [
    {
      "cell_type": "markdown",
      "metadata": {
        "id": "view-in-github",
        "colab_type": "text"
      },
      "source": [
        "<a href=\"https://colab.research.google.com/github/pleimi/cursos_Jeff_Heaton_Washinton_University_leccion1/blob/main/asiv.ipynb\" target=\"_parent\"><img src=\"https://colab.research.google.com/assets/colab-badge.svg\" alt=\"Open In Colab\"/></a>"
      ]
    },
    {
      "cell_type": "code",
      "metadata": {
        "colab": {
          "base_uri": "https://localhost:8080/",
          "height": 225
        },
        "id": "K1D5xK3lsksw",
        "outputId": "d2e0e975-2013-43c9-b735-1c7c213ac2b8"
      },
      "source": [
        "from collections import defaultdict\n",
        "\n",
        "codigoIngresado = input(\"por favor ingrese el codigo: \" )\n",
        "print(\"El código es: \" + codigoIngresado)\n",
        "\n",
        "lst = []\n",
        "lst.extend(codigoIngresado)\n",
        "print(lst)\n",
        "indiceCero = (codigoIngresado[0])\n",
        "indiceUno = (codigoIngresado[1])\n",
        "indiceDos = (codigoIngresado[2])\n",
        "indiceTres = (codigoIngresado[3])        # http://index-of.es/Varios-2/Fluent%20Python%20Clear%20Concise%20and%20Effective%20Programming.pdf (libro de python)\n",
        "primeros4Indices = (indiceCero+indiceUno+indiceDos+indiceTres)\n",
        "print(primeros4Indices)\n",
        "\n",
        "letras = ['a', 'b', 'c', 'd', 'e', 'f', 'g', 'h', 'i', 'j', 'k', 'l', 'm', 'n', 'o', 'p', 'q', 'r', 's', 't', 'u', 'v', 'w', 'x', 'y']\n",
        "valores = [35, 70, 105, 140, 175, 210, 245, 280, 315, 350, 385, 420, 455, 490, 525, 560, 595, 630, 665, 700, 735, 770, 805, 840, 875]\n",
        "valoresIndiceCero = dict(zip(valores,letras))\n",
        "print(valoresIndiceCero)\n",
        "\n",
        "primeros4Indices = [indiceCero,indiceUno,indiceDos,indiceTres]\n",
        "print(primeros4Indices)\n",
        "formato = \"\".join([str(n) for n in primeros4Indices])  # referencia: QUITAR COMAS Y CORCHETE PARA UNIR LOS CARACTERES https://www.youtube.com/watch?v=eb1Jq3r5V1s\n",
        "print(formato)\n",
        "\n",
        "if primeros4Indices == 350:\n",
        "    primerLetra = \"a\"\n",
        "    print(primerLetra)  \n",
        "else:\n",
        "    print(\"nanai\")\n",
        "\n",
        "    primeros4Indices.pop()\n",
        "    primeros3Indices = primeros4Indices\n",
        "    print(primeros3Indices)\n",
        "'''\n",
        "if primeros3Indices == 350:\n",
        "    primerLetra = \"a\"\n",
        "    print(primerLetra)\n",
        "else:\n",
        "    print(\"nada\")\n",
        "'''\n",
        "'''\n",
        "primeros3Indices = [indiceCero,indiceUno,indiceDos]\n",
        "print(primeros3Indices)\n",
        "formato1 = \"\".join([str(n) for n in primeros3Indices])  # referencia: QUITAR COMAS Y CORCHETE PARA UNIR LOS CARACTERES https://www.youtube.com/watch?v=eb1Jq3r5V1s\n",
        "print(formato1)\n",
        "\n",
        "if primeros3Indices == 350:\n",
        "    primerLetra = \"a\"\n",
        "    print(\"sos la : \" + primerLetra)\n",
        "'''"
      ],
      "execution_count": 64,
      "outputs": [
        {
          "output_type": "stream",
          "name": "stdout",
          "text": [
            "por favor ingrese el codigo: 35035711112\n",
            "El código es: 35035711112\n",
            "['3', '5', '0', '3', '5', '7', '1', '1', '1', '1', '2']\n",
            "3503\n",
            "{35: 'a', 70: 'b', 105: 'c', 140: 'd', 175: 'e', 210: 'f', 245: 'g', 280: 'h', 315: 'i', 350: 'j', 385: 'k', 420: 'l', 455: 'm', 490: 'n', 525: 'o', 560: 'p', 595: 'q', 630: 'r', 665: 's', 700: 't', 735: 'u', 770: 'v', 805: 'w', 840: 'x', 875: 'y'}\n",
            "['3', '5', '0', '3']\n",
            "3503\n",
            "nanai\n",
            "['3', '5', '0']\n"
          ]
        },
        {
          "output_type": "execute_result",
          "data": {
            "application/vnd.google.colaboratory.intrinsic+json": {
              "type": "string"
            },
            "text/plain": [
              "'\\nprimeros3Indices = [indiceCero,indiceUno,indiceDos]\\nprint(primeros3Indices)\\nformato1 = \"\".join([str(n) for n in primeros3Indices])  # referencia: QUITAR COMAS Y CORCHETE PARA UNIR LOS CARACTERES https://www.youtube.com/watch?v=eb1Jq3r5V1s\\nprint(formato1)\\n\\nif primeros3Indices == 350:\\n    primerLetra = \"a\"\\n    print(\"sos la : \" + primerLetra)\\n'"
            ]
          },
          "metadata": {},
          "execution_count": 64
        }
      ]
    }
  ]
}