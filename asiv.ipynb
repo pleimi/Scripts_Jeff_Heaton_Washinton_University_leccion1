{
  "nbformat": 4,
  "nbformat_minor": 0,
  "metadata": {
    "colab": {
      "name": "asiv.ipynb",
      "provenance": [],
      "authorship_tag": "ABX9TyM4z8moqDKHti8bsfb+Glyq",
      "include_colab_link": true
    },
    "kernelspec": {
      "name": "python3",
      "display_name": "Python 3"
    },
    "language_info": {
      "name": "python"
    }
  },
  "cells": [
    {
      "cell_type": "markdown",
      "metadata": {
        "id": "view-in-github",
        "colab_type": "text"
      },
      "source": [
        "<a href=\"https://colab.research.google.com/github/pleimi/cursos_Jeff_Heaton_Washinton_University_leccion1/blob/main/asiv.ipynb\" target=\"_parent\"><img src=\"https://colab.research.google.com/assets/colab-badge.svg\" alt=\"Open In Colab\"/></a>"
      ]
    },
    {
      "cell_type": "code",
      "metadata": {
        "colab": {
          "base_uri": "https://localhost:8080/"
        },
        "id": "K1D5xK3lsksw",
        "outputId": "927a6266-da29-4fcf-b004-5ee76fce7b5a"
      },
      "source": [
        "from collections import defaultdict\n",
        "\n",
        "codigoIngresado = input(\"por favor ingrese el codigo: \" ) \n",
        "#print(\"El código es: \" + codigoIngresado)\n",
        "\n",
        "letras = ['a', 'b', 'c', 'd', 'e', 'f', 'g', 'h', 'i', 'j', 'k', 'l', 'm', 'n', 'o', 'p', 'q', 'r', 's', 't', 'u', 'v', 'w', 'x', 'y']\n",
        "valores = ['35', '70', '105', '140', '175', '210', '245', '280', '315', '350', '385', '420', '455', '490', '525', '560', '595', '630', '665', '700', '735', '770', '805', '840', '875']\n",
        "valoresIndiceCero = dict(zip(valores,letras))\n",
        "#print(valoresIndiceCero)\n",
        "\n",
        "#print(valoresIndiceCero.keys())\n",
        "#print(valoresIndiceCero.values())\n",
        "\n",
        "lst = []\n",
        "lst.extend(codigoIngresado)\n",
        "#print(lst)\n",
        "indiceCero = (codigoIngresado[0])\n",
        "indiceUno = (codigoIngresado[1])\n",
        "indiceDos = (codigoIngresado[2])\n",
        "indiceTres = (codigoIngresado[3])        # http://index-of.es/Varios-2/Fluent%20Python%20Clear%20Concise%20and%20Effective%20Programming.pdf (libro de python)\n",
        "primeros4Indices = (indiceCero+indiceUno+indiceDos+indiceTres)\n",
        "#print(primeros4Indices)\n",
        "\n",
        "primeros4Indices = [indiceCero,indiceUno,indiceDos,indiceTres]\n",
        "primeros3Indices = [indiceCero,indiceUno,indiceDos]\n",
        "primeros2Indices = [indiceCero,indiceUno]\n",
        "primerIndice = [indiceCero]\n",
        "#print(primeros4Indices)\n",
        "#print(primeros3Indices)\n",
        "#print(primeros2Indices)\n",
        "#print(primerIndice)\n",
        "\n",
        "formato4 = \"\".join([str(n) for n in primeros4Indices])  # referencia: QUITAR COMAS Y CORCHETE PARA UNIR LOS CARACTERES https://www.youtube.com/watch?v=eb1Jq3r5V1s\n",
        "#print(formato4)\n",
        "\n",
        "formato3 = \"\".join([str(n) for n in primeros3Indices])  # referencia: QUITAR COMAS Y CORCHETE PARA UNIR LOS CARACTERES https://www.youtube.com/watch?v=eb1Jq3r5V1s\n",
        "#print(formato3)\n",
        "\n",
        "formato2 = \"\".join([str(n) for n in primeros2Indices])  # referencia: QUITAR COMAS Y CORCHETE PARA UNIR LOS CARACTERES https://www.youtube.com/watch?v=eb1Jq3r5V1s\n",
        "#print(formato2)\n",
        "\n",
        "formato1 = \"\".join([str(n) for n in primerIndice])  # referencia: QUITAR COMAS Y CORCHETE PARA UNIR LOS CARACTERES https://www.youtube.com/watch?v=eb1Jq3r5V1s\n",
        "#print(formato1)\n",
        "\n",
        "\n",
        "if formato4 in codigoIngresado:\n",
        "    primerSerie = (valoresIndiceCero.get(formato4))\n",
        "    #print(primerSerie)\n",
        "\n",
        "if formato3 in valoresIndiceCero:\n",
        "    primerSerie = (valoresIndiceCero.get(formato3))\n",
        "    print(primerSerie)\n",
        "\n",
        "if formato2 in valoresIndiceCero:\n",
        "    primerSerie = (valoresIndiceCero.get(formato2))\n",
        "    print(primerSerie)\n",
        "\n",
        "if formato1 in valoresIndiceCero:\n",
        "    primerSerie = (valoresIndiceCero.get(formato1))\n",
        "    print(primerSerie)\n",
        "\n",
        "\n",
        "\n",
        "#print(valoresIndiceCero.get(\"primerSerie\"))\n",
        "\n",
        "\n",
        "#if primerSerie in formato3:\n",
        "    #print(valoresIndiceCero.values(primerSerie))\n",
        "\n",
        "#print(lst)\n",
        "#print(codigoIngresado)\n",
        "\n",
        "\n",
        "\n",
        "\n",
        " \n",
        "\n",
        "\n",
        "\n"
      ],
      "execution_count": 237,
      "outputs": [
        {
          "output_type": "stream",
          "name": "stdout",
          "text": [
            "por favor ingrese el codigo: 21017998\n",
            "f\n"
          ]
        }
      ]
    }
  ]
}