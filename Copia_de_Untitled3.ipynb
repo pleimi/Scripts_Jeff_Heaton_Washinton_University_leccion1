{
  "nbformat": 4,
  "nbformat_minor": 0,
  "metadata": {
    "colab": {
      "name": "Copia de Untitled3.ipynb",
      "provenance": [],
      "authorship_tag": "ABX9TyMCUBEW4nIFBTz+FzH19VyG",
      "include_colab_link": true
    },
    "kernelspec": {
      "name": "python3",
      "display_name": "Python 3"
    },
    "language_info": {
      "name": "python"
    }
  },
  "cells": [
    {
      "cell_type": "markdown",
      "metadata": {
        "id": "view-in-github",
        "colab_type": "text"
      },
      "source": [
        "<a href=\"https://colab.research.google.com/github/pleimi/cursos_Jeff_Heaton_Washinton_University_leccion1/blob/main/Copia_de_Untitled3.ipynb\" target=\"_parent\"><img src=\"https://colab.research.google.com/assets/colab-badge.svg\" alt=\"Open In Colab\"/></a>"
      ]
    },
    {
      "cell_type": "code",
      "metadata": {
        "colab": {
          "base_uri": "https://localhost:8080/",
          "height": 205
        },
        "id": "EUoJyO1m_Kzw",
        "outputId": "7ea48241-bebb-48cc-8bee-287eea5ddfc8"
      },
      "source": [
        "from collections import defaultdict                            # escepción 700 es (t) me la lee como 70, es decir, b REVIZAR\n",
        "from collections import Counter\n",
        "\n",
        "codigoIngresado = input(\"por favor ingrese el codigo: \" ) \n",
        "#print(\"El código es: \" + codigoIngresado)\n",
        "\n",
        "letras = ['a', 'b', 'c', 'd', 'e', 'f', 'g', 'h', 'i', 'j', 'k', 'l', 'm', 'n', 'o', 'p', 'q', 'r', 's', 't', 'u', 'v', 'w', 'x', 'y']\n",
        "valores = ['11','22','33','44','55','66','77','88','99','110','121','132','143','154','165','176','187','198','209','220','231','242','253','264','275']\n",
        "valoresIndiceCero = dict(zip(valores,letras))\n",
        "#print(valoresIndiceCero)\n",
        "\n",
        "#lst = [x*11 for x in range(26)]\n",
        "#print(lst)\n",
        "\n",
        "lst = []\n",
        "lst.extend(codigoIngresado)\n",
        "print(lst)\n",
        "indiceCero = (codigoIngresado[0])\n",
        "indiceUno = (codigoIngresado[1])\n",
        "indiceDos = (codigoIngresado[2])\n",
        "indiceTres = (codigoIngresado[3])        # http://index-of.es/Varios-2/Fluent%20Python%20Clear%20Concise%20and%20Effective%20Programming.pdf (libro de python)\n",
        "primeros4Indices = (indiceCero+indiceUno+indiceDos+indiceTres)              # diccionario https://www.youtube.com/watch?v=vAy4IM7NLIQ\n",
        "print(primeros4Indices)\n",
        "\n",
        "primeros4Indices = [indiceCero,indiceUno,indiceDos,indiceTres]\n",
        "primeros3Indices = [indiceCero,indiceUno,indiceDos]\n",
        "primeros2Indices = [indiceCero,indiceUno]\n",
        "primerIndice = [indiceCero]\n",
        "print(primeros4Indices)\n",
        "print(primeros3Indices)\n",
        "print(primeros2Indices)\n",
        "print(primerIndice)\n",
        "\n",
        "formato4 = \"\".join([str(n) for n in primeros4Indices])  # referencia: QUITAR COMAS Y CORCHETE PARA UNIR LOS CARACTERES https://www.youtube.com/watch?v=eb1Jq3r5V1s\n",
        "#print(formato4)\n",
        "\n",
        "formato3 = \"\".join([str(n) for n in primeros3Indices])  # referencia: QUITAR COMAS Y CORCHETE PARA UNIR LOS CARACTERES https://www.youtube.com/watch?v=eb1Jq3r5V1s\n",
        "#print(formato3)\n",
        "\n",
        "formato2 = \"\".join([str(n) for n in primeros2Indices])  # referencia: QUITAR COMAS Y CORCHETE PARA UNIR LOS CARACTERES https://www.youtube.com/watch?v=eb1Jq3r5V1s\n",
        "#print(formato2)\n",
        "\n",
        "formato1 = \"\".join([str(n) for n in primerIndice])  # referencia: QUITAR COMAS Y CORCHETE PARA UNIR LOS CARACTERES https://www.youtube.com/watch?v=eb1Jq3r5V1s\n",
        "#print(formato1)\n",
        "\n",
        "\n",
        "if formato4 in codigoIngresado:\n",
        "    primerSerie = (valoresIndiceCero.get(formato4))\n",
        "    print(primerSerie)\n",
        "\n",
        "if formato3 in valoresIndiceCero:\n",
        "    primerSerie = (valoresIndiceCero.get(formato3))\n",
        "    print(primerSerie)\n",
        "\n",
        "if formato2 in valoresIndiceCero:\n",
        "    primerSerie = (valoresIndiceCero.get(formato2))\n",
        "    print(primerSerie)\n",
        "\n",
        "if formato1 in valoresIndiceCero:\n",
        "    primerSerie = (valoresIndiceCero.get(formato1))\n",
        "    print(primerSerie)\n",
        "\n",
        "'''\n",
        "valorDePrimerSerie = dict(zip(letras,valores))\n",
        "print(valorDePrimerSerie)\n",
        "''''''\n",
        "primerSerieEncontrada = (valorDePrimerSerie.get(primerSerie))\n",
        "print(primerSerieEncontrada)\n",
        "\n",
        "print(codigoIngresado) \n",
        "'''\n",
        "'''\n",
        "lst = []\n",
        "lst.extend(codigoIngresado)\n",
        "print(lst)\n",
        "\n",
        "lst = []\n",
        "lst.extend(primerSerieEncontrada)\n",
        "print(lst)\n",
        "\n",
        "print(len(codigoIngresado))\n",
        "\n",
        "cantidadDeLetras = (len(primerSerieEncontrada))\n",
        "print(cantidadDeLetras)\n",
        "\n",
        "\n",
        "segundos4Indices = codigoIngresado[cantidadDeLetras:]\n",
        "print(segundos4Indices)\n",
        "\n",
        "print(\"los segundos 4 indices son: \" + segundos4Indices)\n",
        "'''\n",
        "\n"
      ],
      "execution_count": null,
      "outputs": [
        {
          "output_type": "stream",
          "name": "stdout",
          "text": [
            "por favor ingrese el codigo: 33225588\n",
            "['3', '3', '2', '2', '5', '5', '8', '8']\n",
            "3322\n",
            "['3', '3', '2', '2']\n",
            "['3', '3', '2']\n",
            "['3', '3']\n",
            "['3']\n",
            "None\n",
            "c\n"
          ]
        },
        {
          "output_type": "execute_result",
          "data": {
            "application/vnd.google.colaboratory.intrinsic+json": {
              "type": "string"
            },
            "text/plain": [
              "'\\nlst = []\\nlst.extend(codigoIngresado)\\nprint(lst)\\n\\nlst = []\\nlst.extend(primerSerieEncontrada)\\nprint(lst)\\n\\nprint(len(codigoIngresado))\\n\\ncantidadDeLetras = (len(primerSerieEncontrada))\\nprint(cantidadDeLetras)\\n\\n\\nsegundos4Indices = codigoIngresado[cantidadDeLetras:]\\nprint(segundos4Indices)\\n\\nprint(\"los segundos 4 indices son: \" + segundos4Indices)\\n'"
            ]
          },
          "metadata": {},
          "execution_count": 3
        }
      ]
    },
    {
      "cell_type": "code",
      "metadata": {
        "id": "9JIHnkWpifOr"
      },
      "source": [
        ""
      ],
      "execution_count": null,
      "outputs": []
    }
  ]
}