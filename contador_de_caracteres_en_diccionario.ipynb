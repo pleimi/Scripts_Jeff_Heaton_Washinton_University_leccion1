{
  "nbformat": 4,
  "nbformat_minor": 0,
  "metadata": {
    "colab": {
      "name": "contador de caracteres en diccionario.ipynb",
      "provenance": [],
      "authorship_tag": "ABX9TyNyHMY203pVIqfZMdaD1Cg4",
      "include_colab_link": true
    },
    "kernelspec": {
      "name": "python3",
      "display_name": "Python 3"
    },
    "language_info": {
      "name": "python"
    }
  },
  "cells": [
    {
      "cell_type": "markdown",
      "metadata": {
        "id": "view-in-github",
        "colab_type": "text"
      },
      "source": [
        "<a href=\"https://colab.research.google.com/github/pleimi/cursos_Jeff_Heaton_Washinton_University_leccion1/blob/main/contador_de_caracteres_en_diccionario.ipynb\" target=\"_parent\"><img src=\"https://colab.research.google.com/assets/colab-badge.svg\" alt=\"Open In Colab\"/></a>"
      ]
    },
    {
      "cell_type": "code",
      "metadata": {
        "colab": {
          "base_uri": "https://localhost:8080/"
        },
        "id": "CBzag76zO32Z",
        "outputId": "722650b3-3d00-47d2-ce74-9c32b57ed8ca"
      },
      "source": [
        "contadores = {}              # referencia https://www.youtube.com/watch?v=uOpW1tKKO8M\n",
        "alfabeto = \"abcdefghijklmnñopqrstuvwxyz\"\n",
        "for letra in alfabeto+alfabeto.upper(): # agrega (CONCATENO) al alfabeto de letras minÚsculas un string de LETRAS MAYUSCULAS\n",
        "    contadores[letra]=0 # inicializo lois valores en cero y si la letra está, entonces le sumo 1\n",
        "for i in range (3):\n",
        "    cadena=input(\"cadena de caracteres: \")\n",
        "    for caracter in cadena:\n",
        "        if caracter not in contadores.keys(): # con punto keys miro si el caracter esta dentro de las claves \n",
        "            contadores [caracter] =1  # caracter es la clave y 1 es el valor del caracter en caso que no esté\n",
        "        else: \n",
        "            contadores [caracter] +=1\n",
        "\n",
        "for caracter,cantidad in contadores.items ():\n",
        "    print(caracter,\":\",cantidad)"
      ],
      "execution_count": 4,
      "outputs": [
        {
          "output_type": "stream",
          "name": "stdout",
          "text": [
            "cadena de caracteres: anfdan añfja añja \n",
            "cadena de caracteres: kjaa 11111 JKHKLGH\n",
            "cadena de caracteres: juanita\n",
            "a : 10\n",
            "n : 3\n",
            "f : 2\n",
            "d : 1\n",
            "  : 5\n",
            "ñ : 2\n",
            "j : 4\n",
            "k : 1\n",
            "1 : 5\n",
            "J : 1\n",
            "K : 2\n",
            "H : 2\n",
            "L : 1\n",
            "G : 1\n",
            "u : 1\n",
            "i : 1\n",
            "t : 1\n"
          ]
        }
      ]
    }
  ]
}