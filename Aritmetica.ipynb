{
  "nbformat": 4,
  "nbformat_minor": 0,
  "metadata": {
    "colab": {
      "name": "Aritmetica.ipynb",
      "provenance": [],
      "authorship_tag": "ABX9TyNAn8Vxde48WiPKWgviFH8K",
      "include_colab_link": true
    },
    "kernelspec": {
      "name": "python3",
      "display_name": "Python 3"
    },
    "language_info": {
      "name": "python"
    }
  },
  "cells": [
    {
      "cell_type": "markdown",
      "metadata": {
        "id": "view-in-github",
        "colab_type": "text"
      },
      "source": [
        "<a href=\"https://colab.research.google.com/github/pleimi/cursos_Jeff_Heaton_Washinton_University_leccion1/blob/main/Aritmetica.ipynb\" target=\"_parent\"><img src=\"https://colab.research.google.com/assets/colab-badge.svg\" alt=\"Open In Colab\"/></a>"
      ]
    },
    {
      "cell_type": "code",
      "metadata": {
        "colab": {
          "base_uri": "https://localhost:8080/"
        },
        "id": "BgbEO3seypDM",
        "outputId": "ca0b74d9-93c4-4d4a-c49e-4600c263e61f"
      },
      "source": [
        "a = 2 + 5  # REFERENCIA https://www.youtube.com/watch?v=MyeCc-Xwi5g&t=11052s\n",
        "print(a)\n"
      ],
      "execution_count": null,
      "outputs": [
        {
          "output_type": "stream",
          "name": "stdout",
          "text": [
            "7\n"
          ]
        }
      ]
    },
    {
      "cell_type": "code",
      "metadata": {
        "colab": {
          "base_uri": "https://localhost:8080/"
        },
        "id": "xjIhOh4_kUs-",
        "outputId": "8072c6f2-940f-475e-8ffa-406157df5456"
      },
      "source": [
        "b = 2**3\n",
        "print(b)"
      ],
      "execution_count": null,
      "outputs": [
        {
          "output_type": "stream",
          "name": "stdout",
          "text": [
            "8\n"
          ]
        }
      ]
    },
    {
      "cell_type": "code",
      "metadata": {
        "colab": {
          "base_uri": "https://localhost:8080/"
        },
        "id": "kLtSKTWhkoUT",
        "outputId": "b1b8c8f9-ac8d-48fa-b8e8-1453a113d73c"
      },
      "source": [
        "c = a/b\n",
        "a = 8 \n",
        "b = 2\n",
        "print(c)"
      ],
      "execution_count": null,
      "outputs": [
        {
          "output_type": "stream",
          "name": "stdout",
          "text": [
            "4.0\n"
          ]
        }
      ]
    },
    {
      "cell_type": "code",
      "metadata": {
        "colab": {
          "base_uri": "https://localhost:8080/"
        },
        "id": "F9pAV8CDlAl0",
        "outputId": "306e0f81-c2f6-45dd-8cb1-68cff00c7961"
      },
      "source": [
        "d = a % b #  el modulo  % me devuelve lo que sobra de la division \n",
        "a = 9\n",
        "b = 2\n",
        "print(d)"
      ],
      "execution_count": null,
      "outputs": [
        {
          "output_type": "stream",
          "name": "stdout",
          "text": [
            "1\n"
          ]
        }
      ]
    },
    {
      "cell_type": "code",
      "metadata": {
        "colab": {
          "base_uri": "https://localhost:8080/"
        },
        "id": "HzqtIvKjlwjy",
        "outputId": "e42aed0d-5300-4700-9162-91c9d0471514"
      },
      "source": [
        "d = a // b #  la division ENTERA // me devuelve solo el entero de la division \n",
        "a = 9\n",
        "b = 2\n",
        "print(d)"
      ],
      "execution_count": null,
      "outputs": [
        {
          "output_type": "stream",
          "name": "stdout",
          "text": [
            "4\n"
          ]
        }
      ]
    },
    {
      "cell_type": "markdown",
      "metadata": {
        "id": "ZTomjilTmR-H"
      },
      "source": [
        "OPERACIONES LOGICAS "
      ]
    },
    {
      "cell_type": "code",
      "metadata": {
        "colab": {
          "base_uri": "https://localhost:8080/"
        },
        "id": "AiyJNBfhmG4M",
        "outputId": "90d7e929-f394-43fd-e614-07c35389d5df"
      },
      "source": [
        "# Y tambien OR tambien XOR ( SON EXPRESIONES BOOLEANAS )\n",
        "a = 2\n",
        "b = 3 \n",
        "c = a > b \n",
        "print(c)\n",
        "c = a < b\n",
        "print(c)\n",
        "d = a > 0 and b < 2\n",
        "print(d)\n",
        "a > 0 or b < 2\n"
      ],
      "execution_count": null,
      "outputs": [
        {
          "output_type": "stream",
          "name": "stdout",
          "text": [
            "False\n",
            "True\n",
            "False\n"
          ]
        },
        {
          "output_type": "execute_result",
          "data": {
            "text/plain": [
              "True"
            ]
          },
          "metadata": {},
          "execution_count": 64
        }
      ]
    },
    {
      "cell_type": "markdown",
      "metadata": {
        "id": "1Mvu8DzvoQC6"
      },
      "source": [
        "CONVERTIR TUPLAS A LISTAS Y BICEVERSA \n"
      ]
    },
    {
      "cell_type": "code",
      "metadata": {
        "colab": {
          "base_uri": "https://localhost:8080/"
        },
        "id": "vYClbQAzo1um",
        "outputId": "7a3d1490-eb62-4747-c702-87d057f0a3e7"
      },
      "source": [
        "tupla1 = (1,2,3,)\n",
        "print(tupla1)"
      ],
      "execution_count": null,
      "outputs": [
        {
          "output_type": "stream",
          "name": "stdout",
          "text": [
            "(1, 2, 3)\n"
          ]
        }
      ]
    },
    {
      "cell_type": "code",
      "metadata": {
        "colab": {
          "base_uri": "https://localhost:8080/"
        },
        "id": "UjGs6r0DpCxe",
        "outputId": "df69b893-4ef8-4466-b84a-644ad31ac2eb"
      },
      "source": [
        "lista1 = [3,4,5]\n",
        "print(lista1)"
      ],
      "execution_count": null,
      "outputs": [
        {
          "output_type": "stream",
          "name": "stdout",
          "text": [
            "[3, 4, 5]\n"
          ]
        }
      ]
    },
    {
      "cell_type": "code",
      "metadata": {
        "colab": {
          "base_uri": "https://localhost:8080/"
        },
        "id": "Ad6YItYVpMD_",
        "outputId": "29e355f2-5d1e-4a2e-dcef-4e7dd6703ac2"
      },
      "source": [
        "lista2 = list(tupla1)\n",
        "print(lista2)"
      ],
      "execution_count": null,
      "outputs": [
        {
          "output_type": "stream",
          "name": "stdout",
          "text": [
            "[1, 2, 3]\n"
          ]
        }
      ]
    },
    {
      "cell_type": "code",
      "metadata": {
        "colab": {
          "base_uri": "https://localhost:8080/"
        },
        "id": "862fDz9lpnp6",
        "outputId": "859afe28-554a-47de-843e-1e8fa5c90eb8"
      },
      "source": [
        "tupla2 = tuple(lista1)\n",
        "print(tupla2)"
      ],
      "execution_count": null,
      "outputs": [
        {
          "output_type": "stream",
          "name": "stdout",
          "text": [
            "(3, 4, 5)\n"
          ]
        }
      ]
    },
    {
      "cell_type": "markdown",
      "metadata": {
        "id": "6dSAoZDap-tG"
      },
      "source": [
        "PARA ACCEDER A LOS INDICES SE ENCIERRAN CON CORCHETES [ ]"
      ]
    },
    {
      "cell_type": "code",
      "metadata": {
        "colab": {
          "base_uri": "https://localhost:8080/"
        },
        "id": "bX3wp4OZp8RY",
        "outputId": "c72553fc-a84b-460c-e285-1a6053e5fb87"
      },
      "source": [
        "lista1 [0] # acced al indice cero "
      ],
      "execution_count": null,
      "outputs": [
        {
          "output_type": "execute_result",
          "data": {
            "text/plain": [
              "3"
            ]
          },
          "metadata": {},
          "execution_count": 71
        }
      ]
    },
    {
      "cell_type": "code",
      "metadata": {
        "colab": {
          "base_uri": "https://localhost:8080/"
        },
        "id": "s_0yyMXLqZeI",
        "outputId": "7b0f3a49-360a-4ca5-d712-ac6a25783e98"
      },
      "source": [
        "tupla1 [1] # accedo al indice 1"
      ],
      "execution_count": null,
      "outputs": [
        {
          "output_type": "execute_result",
          "data": {
            "text/plain": [
              "2"
            ]
          },
          "metadata": {},
          "execution_count": 72
        }
      ]
    },
    {
      "cell_type": "code",
      "metadata": {
        "colab": {
          "base_uri": "https://localhost:8080/"
        },
        "id": "qU5lDx8-qhHi",
        "outputId": "8e0307aa-ca76-4267-c44a-ad00f333c5a7"
      },
      "source": [
        "lista2 [1] = 5 # cambia el indice 1 por el valor 5\n",
        "print(lista2)  # NOTA: las tuplas ni las cadenas de caracteres permiten cambiar valores "
      ],
      "execution_count": null,
      "outputs": [
        {
          "output_type": "stream",
          "name": "stdout",
          "text": [
            "[1, 5, 3]\n"
          ]
        }
      ]
    },
    {
      "cell_type": "markdown",
      "metadata": {
        "id": "QvXb7ETnrfLE"
      },
      "source": [
        "CONVERTIMOS UN STRING A UNA TUPLA \n"
      ]
    },
    {
      "cell_type": "code",
      "metadata": {
        "colab": {
          "base_uri": "https://localhost:8080/"
        },
        "id": "-08WcKZprjUk",
        "outputId": "b8665c9e-e42e-4c55-b2ea-8c939b314501"
      },
      "source": [
        "a = \"este string lo cambiamos a tupla\"\n",
        "print(tuple(a))"
      ],
      "execution_count": null,
      "outputs": [
        {
          "output_type": "stream",
          "name": "stdout",
          "text": [
            "('e', 's', 't', 'e', ' ', 's', 't', 'r', 'i', 'n', 'g', ' ', 'l', 'o', ' ', 'c', 'a', 'm', 'b', 'i', 'a', 'm', 'o', 's', ' ', 'a', ' ', 't', 'u', 'p', 'l', 'a')\n"
          ]
        }
      ]
    },
    {
      "cell_type": "markdown",
      "metadata": {
        "id": "lxKavHKOsdew"
      },
      "source": [
        "MULTIPLICACION DE SECUENCIAS\n"
      ]
    },
    {
      "cell_type": "code",
      "metadata": {
        "colab": {
          "base_uri": "https://localhost:8080/"
        },
        "id": "usQxR6XRsh2C",
        "outputId": "5eac7a98-afee-40ad-9be0-55d76fb33aed"
      },
      "source": [
        "lista3 = [1,2,3,4,5]   # se REPITE LA LISTA n VECES\n",
        "lista = lista3 * 2\n",
        "print(lista)"
      ],
      "execution_count": null,
      "outputs": [
        {
          "output_type": "stream",
          "name": "stdout",
          "text": [
            "[1, 2, 3, 4, 5, 1, 2, 3, 4, 5]\n"
          ]
        }
      ]
    },
    {
      "cell_type": "markdown",
      "metadata": {
        "id": "2H8mVmMctOsa"
      },
      "source": [
        "SABER SI UN ELEMENTO ESTA EN LA LISTA O TUPLA O CADENA \n"
      ]
    },
    {
      "cell_type": "code",
      "metadata": {
        "colab": {
          "base_uri": "https://localhost:8080/"
        },
        "id": "8db4iiENtmsI",
        "outputId": "847f8e9b-4481-4db5-8f6a-dd592a467224"
      },
      "source": [
        "print(6 in lista3)\n",
        "print(3 in lista3)\n",
        "print(4 not in lista3) # es falso por que si está"
      ],
      "execution_count": null,
      "outputs": [
        {
          "output_type": "stream",
          "name": "stdout",
          "text": [
            "False\n",
            "True\n",
            "False\n"
          ]
        }
      ]
    },
    {
      "cell_type": "markdown",
      "metadata": {
        "id": "9_iTNznruDkM"
      },
      "source": [
        "SLICING DE SECUENCIA, TOMAR TROCITOS"
      ]
    },
    {
      "cell_type": "code",
      "metadata": {
        "colab": {
          "base_uri": "https://localhost:8080/"
        },
        "id": "XXVFS0QwuL7I",
        "outputId": "28522a3c-e069-4016-9c06-1855aa07df04"
      },
      "source": [
        "tupla1 = (1,2,3)\n",
        "lista1 = [1,2,3]\n",
        "cadena1 = \"sacar trocitos\"\n",
        "\n",
        "print(tupla1[0])\n",
        "print(lista1[::]) # me da todo\n",
        "print(cadena1[-1])  # el -1 significa que empiece a contar desde atras\n",
        "print(cadena1[:2:1]) # deme hasta el indice 2 de uno en uno \n",
        "print(cadena1[2::2]) # deme todo desde el indice 2 y salte dea dos caracteres\n",
        "print(cadena1[::-1]) # para voltear los elementos\n",
        "print(tupla1[::-1]) "
      ],
      "execution_count": null,
      "outputs": [
        {
          "output_type": "stream",
          "name": "stdout",
          "text": [
            "1\n",
            "[1, 2, 3]\n",
            "s\n",
            "sa\n",
            "crtoio\n",
            "soticort racas\n",
            "(3, 2, 1)\n"
          ]
        }
      ]
    },
    {
      "cell_type": "code",
      "metadata": {
        "colab": {
          "base_uri": "https://localhost:8080/"
        },
        "id": "vEocs8GhxFqr",
        "outputId": "1240102e-281c-42ef-fab5-086b3637b975"
      },
      "source": [
        "print(lista1) # me deberia devolver [1,2,3]\n",
        "lista2 = lista1[:2] # para cambiar el elemento de la lista \n",
        "lista2[0] = 25\n",
        "print(lista2)\n",
        "\n"
      ],
      "execution_count": null,
      "outputs": [
        {
          "output_type": "stream",
          "name": "stdout",
          "text": [
            "[25, 2, 3]\n",
            "[25, 2]\n"
          ]
        }
      ]
    },
    {
      "cell_type": "markdown",
      "metadata": {
        "id": "cOIuS_gdyS_c"
      },
      "source": [
        "para SABER CUANDO APARECE UN ELEMENTO"
      ]
    },
    {
      "cell_type": "code",
      "metadata": {
        "colab": {
          "base_uri": "https://localhost:8080/"
        },
        "id": "KBrPr54LyYxb",
        "outputId": "70727766-5921-4055-da8e-c3c5d47e9259"
      },
      "source": [
        "print(cadena1.index(\"a\")) # le pregunto donde esta la primera a"
      ],
      "execution_count": null,
      "outputs": [
        {
          "output_type": "stream",
          "name": "stdout",
          "text": [
            "1\n"
          ]
        }
      ]
    },
    {
      "cell_type": "markdown",
      "metadata": {
        "id": "5vIsmysGGzJR"
      },
      "source": [
        "CUENTA NUMEROS"
      ]
    },
    {
      "cell_type": "code",
      "metadata": {
        "colab": {
          "base_uri": "https://localhost:8080/"
        },
        "id": "YL8Dqb2UDVvM",
        "outputId": "f751c8b4-dc20-4d8b-be37-878f47e98562"
      },
      "source": [
        "lista = [3,5,23,12,5,36,12,12,4,4,1,2,3]\n",
        "print(lista.count(3))\n",
        "print(lista.count(5))"
      ],
      "execution_count": 120,
      "outputs": [
        {
          "output_type": "stream",
          "name": "stdout",
          "text": [
            "2\n",
            "2\n"
          ]
        }
      ]
    },
    {
      "cell_type": "markdown",
      "metadata": {
        "id": "5NkhVdWpIyT0"
      },
      "source": [
        "COMBINAR UNA LISTA Y UNA TUPLA"
      ]
    },
    {
      "cell_type": "code",
      "metadata": {
        "colab": {
          "base_uri": "https://localhost:8080/"
        },
        "id": "MNJ5whwtHVF4",
        "outputId": "4e412961-59dc-4f8c-b3d8-46eb121ff133"
      },
      "source": [
        "tupla1 = (1,2,3,4,5)\n",
        "lista1 = [\"uno\",\"dos\",\"tres\",\"cuatro\",\"cinco\"]\n",
        "\n",
        "tuplaLista = zip(tupla1, lista1) # DEVUELVE UNA LISTA DE TUPLAS\n",
        "print(list(tuplaLista))"
      ],
      "execution_count": 126,
      "outputs": [
        {
          "output_type": "stream",
          "name": "stdout",
          "text": [
            "[(1, 'uno'), (2, 'dos'), (3, 'tres'), (4, 'cuatro'), (5, 'cinco')]\n"
          ]
        }
      ]
    },
    {
      "cell_type": "markdown",
      "metadata": {
        "id": "P9scxFEaJSge"
      },
      "source": [
        "SECUENCIAS NUMERICAS "
      ]
    },
    {
      "cell_type": "code",
      "metadata": {
        "colab": {
          "base_uri": "https://localhost:8080/"
        },
        "id": "FYoRxl9NJW8n",
        "outputId": "db7eccde-2a2c-4dc1-93f0-0a7fa9551112"
      },
      "source": [
        "lista = range(10)\n",
        "print(lista)"
      ],
      "execution_count": 127,
      "outputs": [
        {
          "output_type": "stream",
          "name": "stdout",
          "text": [
            "range(0, 10)\n"
          ]
        }
      ]
    },
    {
      "cell_type": "code",
      "metadata": {
        "colab": {
          "base_uri": "https://localhost:8080/"
        },
        "id": "OGkTqBbXJfXg",
        "outputId": "11b2fd6e-68d7-4137-f7ef-eff56028ba93"
      },
      "source": [
        "lista = range(10)\n",
        "print(list(lista))"
      ],
      "execution_count": 128,
      "outputs": [
        {
          "output_type": "stream",
          "name": "stdout",
          "text": [
            "[0, 1, 2, 3, 4, 5, 6, 7, 8, 9]\n"
          ]
        }
      ]
    },
    {
      "cell_type": "code",
      "metadata": {
        "colab": {
          "base_uri": "https://localhost:8080/"
        },
        "id": "GGbxpIlKJrjB",
        "outputId": "ce12ce8a-8c63-4358-98f4-e8035237b94d"
      },
      "source": [
        "lista2 = range(1, 39)\n",
        "print(list(lista2))"
      ],
      "execution_count": 132,
      "outputs": [
        {
          "output_type": "stream",
          "name": "stdout",
          "text": [
            "[1, 2, 3, 4, 5, 6, 7, 8, 9, 10, 11, 12, 13, 14, 15, 16, 17, 18, 19, 20, 21, 22, 23, 24, 25, 26, 27, 28, 29, 30, 31, 32, 33, 34, 35, 36, 37, 38]\n"
          ]
        }
      ]
    },
    {
      "cell_type": "code",
      "metadata": {
        "colab": {
          "base_uri": "https://localhost:8080/"
        },
        "id": "38pZXcT-KDZ7",
        "outputId": "3ee45b65-325e-4cb3-a284-e13af97c6d9a"
      },
      "source": [
        "lista3 = range(1, 39, 2)  # me da los numeros de 2 en 2 \n",
        "print(list(lista3))\n",
        "print(tuple(lista3))"
      ],
      "execution_count": 139,
      "outputs": [
        {
          "output_type": "stream",
          "name": "stdout",
          "text": [
            "[1, 3, 5, 7, 9, 11, 13, 15, 17, 19, 21, 23, 25, 27, 29, 31, 33, 35, 37]\n",
            "(1, 3, 5, 7, 9, 11, 13, 15, 17, 19, 21, 23, 25, 27, 29, 31, 33, 35, 37)\n"
          ]
        }
      ]
    },
    {
      "cell_type": "code",
      "metadata": {
        "colab": {
          "base_uri": "https://localhost:8080/"
        },
        "id": "5K-ahk6ELFPJ",
        "outputId": "4bb9039b-5ba8-4367-cfd4-ae542acedce0"
      },
      "source": [
        "lista4 = [1, 3, 5, 7, 9, 11]\n",
        "lista4.append(4) # INSERTA AL FINAL \n",
        "print(lista4)"
      ],
      "execution_count": 141,
      "outputs": [
        {
          "output_type": "stream",
          "name": "stdout",
          "text": [
            "[1, 3, 5, 7, 9, 11, 4]\n"
          ]
        }
      ]
    },
    {
      "cell_type": "code",
      "metadata": {
        "colab": {
          "base_uri": "https://localhost:8080/"
        },
        "id": "Qxpl8UCUL3PQ",
        "outputId": "71830db5-bc47-4d1e-a42c-673bead6269f"
      },
      "source": [
        "lista4.insert(1, 6) # en el indice 1 inserteme el numero 6\n",
        "print(lista4)"
      ],
      "execution_count": 142,
      "outputs": [
        {
          "output_type": "stream",
          "name": "stdout",
          "text": [
            "[1, 6, 3, 5, 7, 9, 11, 4]\n"
          ]
        }
      ]
    },
    {
      "cell_type": "markdown",
      "metadata": {
        "id": "oHiWdJfNMeQu"
      },
      "source": [
        "REEMPLAZAR DATOS"
      ]
    },
    {
      "cell_type": "code",
      "metadata": {
        "colab": {
          "base_uri": "https://localhost:8080/"
        },
        "id": "UMXrRgI_MJ-M",
        "outputId": "3f48a6e6-6a3a-4f26-e9c5-5e3fbf7dd890"
      },
      "source": [
        "lista4 [2:4] = [8,10]\n",
        "print(lista4)"
      ],
      "execution_count": 144,
      "outputs": [
        {
          "output_type": "stream",
          "name": "stdout",
          "text": [
            "[1, 6, 8, 10, 7, 9, 11, 4]\n"
          ]
        }
      ]
    },
    {
      "cell_type": "code",
      "metadata": {
        "colab": {
          "base_uri": "https://localhost:8080/"
        },
        "id": "zfPC1J48L29Z",
        "outputId": "fc2651f5-a3be-4870-e2c7-0046b0920e22"
      },
      "source": [
        "lista4 [2:5] = [12,13]  # como del 2 al 5 hay 3 numeros, inserta los 2 q le indico y desaparece el tercer numero, en este caso el 7\n",
        "print(lista4)"
      ],
      "execution_count": 145,
      "outputs": [
        {
          "output_type": "stream",
          "name": "stdout",
          "text": [
            "[1, 6, 12, 13, 9, 11, 4]\n"
          ]
        }
      ]
    },
    {
      "cell_type": "code",
      "metadata": {
        "id": "DZX0aCrqLqTB"
      },
      "source": [
        "ELIMINAR Y RECUPERAR UN DATO"
      ],
      "execution_count": null,
      "outputs": []
    },
    {
      "cell_type": "code",
      "metadata": {
        "colab": {
          "base_uri": "https://localhost:8080/"
        },
        "id": "AQMpjZcANt7F",
        "outputId": "092bd431-5586-4bbe-8232-524737030441"
      },
      "source": [
        "lista1 = [ 23, 25, 27, 29, 31, 33, 35, 37] \n",
        "lista1.pop(2)   # me eliminó el 27 que estaba en el indice 2\n",
        "print(lista1)\n",
        "lista1.pop()   # POR DEFECTO me eliminó el último elemento por que no le doy el indice como parametro.\n",
        "print(lista1)"
      ],
      "execution_count": 152,
      "outputs": [
        {
          "output_type": "stream",
          "name": "stdout",
          "text": [
            "[23, 25, 29, 31, 33, 35, 37]\n",
            "[23, 25, 29, 31, 33, 35]\n"
          ]
        }
      ]
    },
    {
      "cell_type": "code",
      "metadata": {
        "colab": {
          "base_uri": "https://localhost:8080/"
        },
        "id": "q9oM3VmZOSMC",
        "outputId": "4bb773e2-9fda-480a-b961-371b93d0f3e5"
      },
      "source": [
        "lista1.remove(25)   # elimina de la lista el dato. NOTA: si hay varios, solo elimina el primero\n",
        "print(lista1)"
      ],
      "execution_count": 153,
      "outputs": [
        {
          "output_type": "stream",
          "name": "stdout",
          "text": [
            "[23, 29, 31, 33, 35]\n"
          ]
        }
      ]
    },
    {
      "cell_type": "code",
      "metadata": {
        "colab": {
          "base_uri": "https://localhost:8080/"
        },
        "id": "D8pLsVZpOoId",
        "outputId": "b03221c1-680e-4b6e-d155-0ed954933964"
      },
      "source": [
        "lista = [5,8,4,3,6,7,8,9,1,2,3]  # me ORDENA la lista\n",
        "lista.sort()\n",
        "print(lista)\n",
        "\n",
        "lista.sort(reverse=False)\n",
        "print(lista)\n",
        "\n",
        "lista.sort(reverse=True)\n",
        "print(lista)"
      ],
      "execution_count": 162,
      "outputs": [
        {
          "output_type": "stream",
          "name": "stdout",
          "text": [
            "[1, 2, 3, 3, 4, 5, 6, 7, 8, 8, 9]\n",
            "[1, 2, 3, 3, 4, 5, 6, 7, 8, 8, 9]\n",
            "[9, 8, 8, 7, 6, 5, 4, 3, 3, 2, 1]\n"
          ]
        }
      ]
    },
    {
      "cell_type": "code",
      "metadata": {
        "colab": {
          "base_uri": "https://localhost:8080/"
        },
        "id": "6yzstwXeQjCc",
        "outputId": "2215e5ce-a482-4259-c3aa-7c2e94b8b275"
      },
      "source": [
        "print(lista[::-1])              "
      ],
      "execution_count": 157,
      "outputs": [
        {
          "output_type": "stream",
          "name": "stdout",
          "text": [
            "[9, 8, 8, 7, 6, 5, 4, 3, 3, 2, 1]\n"
          ]
        }
      ]
    },
    {
      "cell_type": "markdown",
      "metadata": {
        "id": "FSJRKdrTSbJU"
      },
      "source": [
        "RECUPERACION INVERSA DE ELEMENTOS"
      ]
    },
    {
      "cell_type": "code",
      "metadata": {
        "colab": {
          "base_uri": "https://localhost:8080/"
        },
        "id": "Zpc7TIZ5Q3Nk",
        "outputId": "b3e44d79-3880-4a55-9db6-882ae9a6d07c"
      },
      "source": [
        "lista.reverse()\n",
        "print(lista)"
      ],
      "execution_count": 159,
      "outputs": [
        {
          "output_type": "stream",
          "name": "stdout",
          "text": [
            "[9, 8, 8, 7, 6, 5, 4, 3, 3, 2, 1]\n"
          ]
        }
      ]
    },
    {
      "cell_type": "markdown",
      "metadata": {
        "id": "H1KklJooTQLC"
      },
      "source": [
        "FUSION DE LISTAS"
      ]
    },
    {
      "cell_type": "code",
      "metadata": {
        "colab": {
          "base_uri": "https://localhost:8080/"
        },
        "id": "kGievNRdSQSm",
        "outputId": "c2249c58-59a0-41d8-a440-e7dcc554c2da"
      },
      "source": [
        "lista1 = [1,3,4,2,5]\n",
        "lista2 = [7,8]\n",
        "lista1.extend(lista2)  # aqui SI MODIFICO LA LISTA UNO \n",
        "print(lista1)\n"
      ],
      "execution_count": 163,
      "outputs": [
        {
          "output_type": "stream",
          "name": "stdout",
          "text": [
            "[1, 3, 4, 2, 5, 7, 8]\n"
          ]
        }
      ]
    },
    {
      "cell_type": "code",
      "metadata": {
        "colab": {
          "base_uri": "https://localhost:8080/"
        },
        "id": "zUd3wZAJTOME",
        "outputId": "4b667c4f-1eab-4082-962d-c2db9c4f130d"
      },
      "source": [
        "lista3 = lista1 + lista2   # aqui NO SE MODIFICA la lista1 se mantiene\n",
        "print(lista3)"
      ],
      "execution_count": 164,
      "outputs": [
        {
          "output_type": "stream",
          "name": "stdout",
          "text": [
            "[1, 3, 4, 2, 5, 7, 8, 7, 8]\n"
          ]
        }
      ]
    },
    {
      "cell_type": "markdown",
      "metadata": {
        "id": "eXhxSnc8UCtK"
      },
      "source": [
        "CONVERSION DE MAYUSCULAS A MINUSCULAS "
      ]
    },
    {
      "cell_type": "code",
      "metadata": {
        "colab": {
          "base_uri": "https://localhost:8080/"
        },
        "id": "pWi9iYI1UKD7",
        "outputId": "0f869b2b-348c-40e9-abf6-df2c4923ec07"
      },
      "source": [
        "lista1 = \" estamos convirtiendo strings a mayusculas \"\n",
        "print(lista1.upper())"
      ],
      "execution_count": 165,
      "outputs": [
        {
          "output_type": "stream",
          "name": "stdout",
          "text": [
            " ESTAMOS CONVIRTIENDO STRINGS A MAYUSCULAS \n"
          ]
        }
      ]
    },
    {
      "cell_type": "code",
      "metadata": {
        "colab": {
          "base_uri": "https://localhost:8080/"
        },
        "id": "76hmfO1MUf-T",
        "outputId": "129865f9-c90c-4ebb-93f8-95728a8d6275"
      },
      "source": [
        "lista2 = \"ESTAMOS CONVIRTIENDO STRINGS A MINUSCULAS\"\n",
        "print(lista2.lower())"
      ],
      "execution_count": 166,
      "outputs": [
        {
          "output_type": "stream",
          "name": "stdout",
          "text": [
            "estamos convirtiendo strings a minusculas\n"
          ]
        }
      ]
    },
    {
      "cell_type": "markdown",
      "metadata": {
        "id": "NA-KE6_6U5vo"
      },
      "source": [
        "SEGMENTAR POR CARACTERES"
      ]
    },
    {
      "cell_type": "code",
      "metadata": {
        "colab": {
          "base_uri": "https://localhost:8080/"
        },
        "id": "FR0kYvuYU5Gn",
        "outputId": "cc2071e9-783c-4bd6-c8f3-7374c2789e3c"
      },
      "source": [
        "cadena1 = \" esto es una prueba de segmentacion \"\n",
        "print(cadena1.split(\"e\"))  # SEPARA cada vez que ENCUENTRE la e \n",
        "print(cadena1.split())  # separa por espacios"
      ],
      "execution_count": 175,
      "outputs": [
        {
          "output_type": "stream",
          "name": "stdout",
          "text": [
            "[' ', 'sto ', 's una pru', 'ba d', ' s', 'gm', 'ntacion ']\n",
            "['esto', 'es', 'una', 'prueba', 'de', 'segmentacion']\n"
          ]
        }
      ]
    },
    {
      "cell_type": "markdown",
      "metadata": {
        "id": "Bl-W_j8dWoHk"
      },
      "source": [
        "REEMPLAZAR CADENAS"
      ]
    },
    {
      "cell_type": "code",
      "metadata": {
        "colab": {
          "base_uri": "https://localhost:8080/"
        },
        "id": "x-44jx0BVX4b",
        "outputId": "433f3351-0cae-4f47-bcc9-090e0c0b3cd5"
      },
      "source": [
        "reemplazar = \" vamos a reemplazar una frace por otra otra vez\"\n",
        "print(reemplazar.replace(\"otra\", \"other\"))\n",
        "print(reemplazar)\n",
        "print(reemplazar.replace(\"otra\", \"other\", 1))  # especifico que solo cambie \"otra\" soilo la primera vez"
      ],
      "execution_count": 185,
      "outputs": [
        {
          "output_type": "stream",
          "name": "stdout",
          "text": [
            " vamos a reemplazar una frace por other other vez\n",
            " vamos a reemplazar una frace por otra otra vez\n",
            " vamos a reemplazar una frace por other otra vez\n"
          ]
        }
      ]
    }
  ]
}