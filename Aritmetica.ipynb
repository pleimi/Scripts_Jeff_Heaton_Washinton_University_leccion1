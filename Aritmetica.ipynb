{
  "nbformat": 4,
  "nbformat_minor": 0,
  "metadata": {
    "colab": {
      "name": "Aritmetica.ipynb",
      "provenance": [],
      "authorship_tag": "ABX9TyOLlsTd8W0cAJKzyj7yXQHW",
      "include_colab_link": true
    },
    "kernelspec": {
      "name": "python3",
      "display_name": "Python 3"
    },
    "language_info": {
      "name": "python"
    }
  },
  "cells": [
    {
      "cell_type": "markdown",
      "metadata": {
        "id": "view-in-github",
        "colab_type": "text"
      },
      "source": [
        "<a href=\"https://colab.research.google.com/github/pleimi/cursos_Jeff_Heaton_Washinton_University_leccion1/blob/main/Aritmetica.ipynb\" target=\"_parent\"><img src=\"https://colab.research.google.com/assets/colab-badge.svg\" alt=\"Open In Colab\"/></a>"
      ]
    },
    {
      "cell_type": "code",
      "metadata": {
        "colab": {
          "base_uri": "https://localhost:8080/"
        },
        "id": "BgbEO3seypDM",
        "outputId": "ca0b74d9-93c4-4d4a-c49e-4600c263e61f"
      },
      "source": [
        "a = 2 + 5  # REFERENCIA https://www.youtube.com/watch?v=MyeCc-Xwi5g&t=11052s\n",
        "print(a)\n"
      ],
      "execution_count": 48,
      "outputs": [
        {
          "output_type": "stream",
          "name": "stdout",
          "text": [
            "7\n"
          ]
        }
      ]
    },
    {
      "cell_type": "code",
      "metadata": {
        "colab": {
          "base_uri": "https://localhost:8080/"
        },
        "id": "xjIhOh4_kUs-",
        "outputId": "8072c6f2-940f-475e-8ffa-406157df5456"
      },
      "source": [
        "b = 2**3\n",
        "print(b)"
      ],
      "execution_count": 49,
      "outputs": [
        {
          "output_type": "stream",
          "name": "stdout",
          "text": [
            "8\n"
          ]
        }
      ]
    },
    {
      "cell_type": "code",
      "metadata": {
        "colab": {
          "base_uri": "https://localhost:8080/"
        },
        "id": "kLtSKTWhkoUT",
        "outputId": "b1b8c8f9-ac8d-48fa-b8e8-1453a113d73c"
      },
      "source": [
        "c = a/b\n",
        "a = 8 \n",
        "b = 2\n",
        "print(c)"
      ],
      "execution_count": 52,
      "outputs": [
        {
          "output_type": "stream",
          "name": "stdout",
          "text": [
            "4.0\n"
          ]
        }
      ]
    },
    {
      "cell_type": "code",
      "metadata": {
        "colab": {
          "base_uri": "https://localhost:8080/"
        },
        "id": "F9pAV8CDlAl0",
        "outputId": "306e0f81-c2f6-45dd-8cb1-68cff00c7961"
      },
      "source": [
        "d = a % b #  el modulo  % me devuelve lo que sobra de la division \n",
        "a = 9\n",
        "b = 2\n",
        "print(d)"
      ],
      "execution_count": 54,
      "outputs": [
        {
          "output_type": "stream",
          "name": "stdout",
          "text": [
            "1\n"
          ]
        }
      ]
    },
    {
      "cell_type": "code",
      "metadata": {
        "colab": {
          "base_uri": "https://localhost:8080/"
        },
        "id": "HzqtIvKjlwjy",
        "outputId": "e42aed0d-5300-4700-9162-91c9d0471514"
      },
      "source": [
        "d = a // b #  la division ENTERA // me devuelve solo el entero de la division \n",
        "a = 9\n",
        "b = 2\n",
        "print(d)"
      ],
      "execution_count": 55,
      "outputs": [
        {
          "output_type": "stream",
          "name": "stdout",
          "text": [
            "4\n"
          ]
        }
      ]
    },
    {
      "cell_type": "markdown",
      "metadata": {
        "id": "ZTomjilTmR-H"
      },
      "source": [
        "OPERACIONES LOGICAS "
      ]
    },
    {
      "cell_type": "code",
      "metadata": {
        "colab": {
          "base_uri": "https://localhost:8080/"
        },
        "id": "AiyJNBfhmG4M",
        "outputId": "90d7e929-f394-43fd-e614-07c35389d5df"
      },
      "source": [
        "# Y tambien OR tambien XOR ( SON EXPRESIONES BOOLEANAS )\n",
        "a = 2\n",
        "b = 3 \n",
        "c = a > b \n",
        "print(c)\n",
        "c = a < b\n",
        "print(c)\n",
        "d = a > 0 and b < 2\n",
        "print(d)\n",
        "a > 0 or b < 2\n"
      ],
      "execution_count": 64,
      "outputs": [
        {
          "output_type": "stream",
          "name": "stdout",
          "text": [
            "False\n",
            "True\n",
            "False\n"
          ]
        },
        {
          "output_type": "execute_result",
          "data": {
            "text/plain": [
              "True"
            ]
          },
          "metadata": {},
          "execution_count": 64
        }
      ]
    },
    {
      "cell_type": "markdown",
      "metadata": {
        "id": "1Mvu8DzvoQC6"
      },
      "source": [
        "CONVERTIR TUPLAS A LISTAS Y BICEVERSA \n"
      ]
    },
    {
      "cell_type": "code",
      "metadata": {
        "colab": {
          "base_uri": "https://localhost:8080/"
        },
        "id": "vYClbQAzo1um",
        "outputId": "7a3d1490-eb62-4747-c702-87d057f0a3e7"
      },
      "source": [
        "tupla1 = (1,2,3,)\n",
        "print(tupla1)"
      ],
      "execution_count": 65,
      "outputs": [
        {
          "output_type": "stream",
          "name": "stdout",
          "text": [
            "(1, 2, 3)\n"
          ]
        }
      ]
    },
    {
      "cell_type": "code",
      "metadata": {
        "colab": {
          "base_uri": "https://localhost:8080/"
        },
        "id": "UjGs6r0DpCxe",
        "outputId": "df69b893-4ef8-4466-b84a-644ad31ac2eb"
      },
      "source": [
        "lista1 = [3,4,5]\n",
        "print(lista1)"
      ],
      "execution_count": 66,
      "outputs": [
        {
          "output_type": "stream",
          "name": "stdout",
          "text": [
            "[3, 4, 5]\n"
          ]
        }
      ]
    },
    {
      "cell_type": "code",
      "metadata": {
        "colab": {
          "base_uri": "https://localhost:8080/"
        },
        "id": "Ad6YItYVpMD_",
        "outputId": "29e355f2-5d1e-4a2e-dcef-4e7dd6703ac2"
      },
      "source": [
        "lista2 = list(tupla1)\n",
        "print(lista2)"
      ],
      "execution_count": 69,
      "outputs": [
        {
          "output_type": "stream",
          "name": "stdout",
          "text": [
            "[1, 2, 3]\n"
          ]
        }
      ]
    },
    {
      "cell_type": "code",
      "metadata": {
        "colab": {
          "base_uri": "https://localhost:8080/"
        },
        "id": "862fDz9lpnp6",
        "outputId": "859afe28-554a-47de-843e-1e8fa5c90eb8"
      },
      "source": [
        "tupla2 = tuple(lista1)\n",
        "print(tupla2)"
      ],
      "execution_count": 70,
      "outputs": [
        {
          "output_type": "stream",
          "name": "stdout",
          "text": [
            "(3, 4, 5)\n"
          ]
        }
      ]
    },
    {
      "cell_type": "markdown",
      "metadata": {
        "id": "6dSAoZDap-tG"
      },
      "source": [
        "PARA ACCEDER A LOS INDICES SE ENCIERRAN CON CORCHETES [ ]"
      ]
    },
    {
      "cell_type": "code",
      "metadata": {
        "colab": {
          "base_uri": "https://localhost:8080/"
        },
        "id": "bX3wp4OZp8RY",
        "outputId": "c72553fc-a84b-460c-e285-1a6053e5fb87"
      },
      "source": [
        "lista1 [0] # acced al indice cero "
      ],
      "execution_count": 71,
      "outputs": [
        {
          "output_type": "execute_result",
          "data": {
            "text/plain": [
              "3"
            ]
          },
          "metadata": {},
          "execution_count": 71
        }
      ]
    },
    {
      "cell_type": "code",
      "metadata": {
        "colab": {
          "base_uri": "https://localhost:8080/"
        },
        "id": "s_0yyMXLqZeI",
        "outputId": "7b0f3a49-360a-4ca5-d712-ac6a25783e98"
      },
      "source": [
        "tupla1 [1] # accedo al indice 1"
      ],
      "execution_count": 72,
      "outputs": [
        {
          "output_type": "execute_result",
          "data": {
            "text/plain": [
              "2"
            ]
          },
          "metadata": {},
          "execution_count": 72
        }
      ]
    },
    {
      "cell_type": "code",
      "metadata": {
        "colab": {
          "base_uri": "https://localhost:8080/"
        },
        "id": "qU5lDx8-qhHi",
        "outputId": "8e0307aa-ca76-4267-c44a-ad00f333c5a7"
      },
      "source": [
        "lista2 [1] = 5 # cambia el indice 1 por el valor 5\n",
        "print(lista2)  # NOTA: las tuplas ni las cadenas de caracteres permiten cambiar valores "
      ],
      "execution_count": 76,
      "outputs": [
        {
          "output_type": "stream",
          "name": "stdout",
          "text": [
            "[1, 5, 3]\n"
          ]
        }
      ]
    },
    {
      "cell_type": "markdown",
      "metadata": {
        "id": "QvXb7ETnrfLE"
      },
      "source": [
        "CONVERTIMOS UN STRING A UNA TUPLA \n"
      ]
    },
    {
      "cell_type": "code",
      "metadata": {
        "colab": {
          "base_uri": "https://localhost:8080/"
        },
        "id": "-08WcKZprjUk",
        "outputId": "b8665c9e-e42e-4c55-b2ea-8c939b314501"
      },
      "source": [
        "a = \"este string lo cambiamos a tupla\"\n",
        "print(tuple(a))"
      ],
      "execution_count": 77,
      "outputs": [
        {
          "output_type": "stream",
          "name": "stdout",
          "text": [
            "('e', 's', 't', 'e', ' ', 's', 't', 'r', 'i', 'n', 'g', ' ', 'l', 'o', ' ', 'c', 'a', 'm', 'b', 'i', 'a', 'm', 'o', 's', ' ', 'a', ' ', 't', 'u', 'p', 'l', 'a')\n"
          ]
        }
      ]
    },
    {
      "cell_type": "markdown",
      "metadata": {
        "id": "lxKavHKOsdew"
      },
      "source": [
        "MULTIPLICACION DE SECUENCIAS\n"
      ]
    },
    {
      "cell_type": "code",
      "metadata": {
        "colab": {
          "base_uri": "https://localhost:8080/"
        },
        "id": "usQxR6XRsh2C",
        "outputId": "5eac7a98-afee-40ad-9be0-55d76fb33aed"
      },
      "source": [
        "lista3 = [1,2,3,4,5]   # se REPITE LA LISTA n VECES\n",
        "lista = lista3 * 2\n",
        "print(lista)"
      ],
      "execution_count": 80,
      "outputs": [
        {
          "output_type": "stream",
          "name": "stdout",
          "text": [
            "[1, 2, 3, 4, 5, 1, 2, 3, 4, 5]\n"
          ]
        }
      ]
    },
    {
      "cell_type": "markdown",
      "metadata": {
        "id": "2H8mVmMctOsa"
      },
      "source": [
        "SABER SI UN ELEMENTO ESTA EN LA LISTA O TUPLA O CADENA \n"
      ]
    },
    {
      "cell_type": "code",
      "metadata": {
        "colab": {
          "base_uri": "https://localhost:8080/"
        },
        "id": "8db4iiENtmsI",
        "outputId": "847f8e9b-4481-4db5-8f6a-dd592a467224"
      },
      "source": [
        "print(6 in lista3)\n",
        "print(3 in lista3)\n",
        "print(4 not in lista3) # es falso por que si está"
      ],
      "execution_count": 83,
      "outputs": [
        {
          "output_type": "stream",
          "name": "stdout",
          "text": [
            "False\n",
            "True\n",
            "False\n"
          ]
        }
      ]
    },
    {
      "cell_type": "markdown",
      "metadata": {
        "id": "9_iTNznruDkM"
      },
      "source": [
        "SLICING DE SECUENCIA, TOMAR TROCITOS"
      ]
    },
    {
      "cell_type": "code",
      "metadata": {
        "colab": {
          "base_uri": "https://localhost:8080/"
        },
        "id": "XXVFS0QwuL7I",
        "outputId": "28522a3c-e069-4016-9c06-1855aa07df04"
      },
      "source": [
        "tupla1 = (1,2,3)\n",
        "lista1 = [1,2,3]\n",
        "cadena1 = \"sacar trocitos\"\n",
        "\n",
        "print(tupla1[0])\n",
        "print(lista1[::]) # me da todo\n",
        "print(cadena1[-1])  # el -1 significa que empiece a contar desde atras\n",
        "print(cadena1[:2:1]) # deme hasta el indice 2 de uno en uno \n",
        "print(cadena1[2::2]) # deme todo desde el indice 2 y salte dea dos caracteres\n",
        "print(cadena1[::-1]) # para voltear los elementos\n",
        "print(tupla1[::-1]) "
      ],
      "execution_count": 94,
      "outputs": [
        {
          "output_type": "stream",
          "name": "stdout",
          "text": [
            "1\n",
            "[1, 2, 3]\n",
            "s\n",
            "sa\n",
            "crtoio\n",
            "soticort racas\n",
            "(3, 2, 1)\n"
          ]
        }
      ]
    },
    {
      "cell_type": "code",
      "metadata": {
        "colab": {
          "base_uri": "https://localhost:8080/"
        },
        "id": "vEocs8GhxFqr",
        "outputId": "1240102e-281c-42ef-fab5-086b3637b975"
      },
      "source": [
        "print(lista1) # me deberia devolver [1,2,3]\n",
        "lista2 = lista1[:2] # para cambiar el elemento de la lista \n",
        "lista2[0] = 25\n",
        "print(lista2)\n",
        "\n"
      ],
      "execution_count": 110,
      "outputs": [
        {
          "output_type": "stream",
          "name": "stdout",
          "text": [
            "[25, 2, 3]\n",
            "[25, 2]\n"
          ]
        }
      ]
    },
    {
      "cell_type": "markdown",
      "metadata": {
        "id": "cOIuS_gdyS_c"
      },
      "source": [
        "para SABER CUANDO APARECE UN ELEMENTO"
      ]
    },
    {
      "cell_type": "code",
      "metadata": {
        "colab": {
          "base_uri": "https://localhost:8080/"
        },
        "id": "KBrPr54LyYxb",
        "outputId": "70727766-5921-4055-da8e-c3c5d47e9259"
      },
      "source": [
        "print(cadena1.index(\"a\")) # le pregunto donde esta la primera a"
      ],
      "execution_count": 104,
      "outputs": [
        {
          "output_type": "stream",
          "name": "stdout",
          "text": [
            "1\n"
          ]
        }
      ]
    }
  ]
}