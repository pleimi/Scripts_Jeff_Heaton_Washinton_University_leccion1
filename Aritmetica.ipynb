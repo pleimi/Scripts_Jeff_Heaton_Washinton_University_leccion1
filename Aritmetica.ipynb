{
  "nbformat": 4,
  "nbformat_minor": 0,
  "metadata": {
    "colab": {
      "name": "Aritmetica.ipynb",
      "provenance": [],
      "authorship_tag": "ABX9TyOOr/zYOGkkvKLC+t8jdzqM",
      "include_colab_link": true
    },
    "kernelspec": {
      "name": "python3",
      "display_name": "Python 3"
    },
    "language_info": {
      "name": "python"
    }
  },
  "cells": [
    {
      "cell_type": "markdown",
      "metadata": {
        "id": "view-in-github",
        "colab_type": "text"
      },
      "source": [
        "<a href=\"https://colab.research.google.com/github/pleimi/cursos_Jeff_Heaton_Washinton_University_leccion1/blob/main/Aritmetica.ipynb\" target=\"_parent\"><img src=\"https://colab.research.google.com/assets/colab-badge.svg\" alt=\"Open In Colab\"/></a>"
      ]
    },
    {
      "cell_type": "code",
      "metadata": {
        "colab": {
          "base_uri": "https://localhost:8080/"
        },
        "id": "BgbEO3seypDM",
        "outputId": "ca0b74d9-93c4-4d4a-c49e-4600c263e61f"
      },
      "source": [
        "a = 2 + 5  # REFERENCIA https://www.youtube.com/watch?v=MyeCc-Xwi5g&t=11052s\n",
        "print(a)\n"
      ],
      "execution_count": 48,
      "outputs": [
        {
          "output_type": "stream",
          "name": "stdout",
          "text": [
            "7\n"
          ]
        }
      ]
    },
    {
      "cell_type": "code",
      "metadata": {
        "colab": {
          "base_uri": "https://localhost:8080/"
        },
        "id": "xjIhOh4_kUs-",
        "outputId": "8072c6f2-940f-475e-8ffa-406157df5456"
      },
      "source": [
        "b = 2**3\n",
        "print(b)"
      ],
      "execution_count": 49,
      "outputs": [
        {
          "output_type": "stream",
          "name": "stdout",
          "text": [
            "8\n"
          ]
        }
      ]
    },
    {
      "cell_type": "code",
      "metadata": {
        "colab": {
          "base_uri": "https://localhost:8080/"
        },
        "id": "kLtSKTWhkoUT",
        "outputId": "b1b8c8f9-ac8d-48fa-b8e8-1453a113d73c"
      },
      "source": [
        "c = a/b\n",
        "a = 8 \n",
        "b = 2\n",
        "print(c)"
      ],
      "execution_count": 52,
      "outputs": [
        {
          "output_type": "stream",
          "name": "stdout",
          "text": [
            "4.0\n"
          ]
        }
      ]
    },
    {
      "cell_type": "code",
      "metadata": {
        "id": "F9pAV8CDlAl0"
      },
      "source": [
        ""
      ],
      "execution_count": null,
      "outputs": []
    }
  ]
}