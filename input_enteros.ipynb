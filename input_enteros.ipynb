{
  "nbformat": 4,
  "nbformat_minor": 0,
  "metadata": {
    "colab": {
      "name": "input_enteros.ipynb",
      "provenance": [],
      "authorship_tag": "ABX9TyP9/yQfZw/5uiZgV0nzmXtO",
      "include_colab_link": true
    },
    "kernelspec": {
      "name": "python3",
      "display_name": "Python 3"
    },
    "language_info": {
      "name": "python"
    }
  },
  "cells": [
    {
      "cell_type": "markdown",
      "metadata": {
        "id": "view-in-github",
        "colab_type": "text"
      },
      "source": [
        "<a href=\"https://colab.research.google.com/github/pleimi/cursos_Jeff_Heaton_Washinton_University_leccion1/blob/main/input_enteros.ipynb\" target=\"_parent\"><img src=\"https://colab.research.google.com/assets/colab-badge.svg\" alt=\"Open In Colab\"/></a>"
      ]
    },
    {
      "cell_type": "code",
      "metadata": {
        "colab": {
          "base_uri": "https://localhost:8080/"
        },
        "id": "zzT7GWc1BdUt",
        "outputId": "731b8188-62cc-4112-b657-5e9a25c86c54"
      },
      "source": [
        "lst = [] #aqui vamos a almacenar los digitos \n",
        "def string_int(my_data):\n",
        "    for i in my_data:\n",
        "      lst.append(int(i)) # con lst.append(int(i)) se imprime un entero\n",
        "    print(lst) \n",
        "user_input = input(\"ingrese el número: \")\n",
        "string_int(user_input)"
      ],
      "execution_count": 3,
      "outputs": [
        {
          "output_type": "stream",
          "name": "stdout",
          "text": [
            "ingrese el número: 0255\n",
            "[0, 2, 5, 5]\n"
          ]
        }
      ]
    }
  ]
}