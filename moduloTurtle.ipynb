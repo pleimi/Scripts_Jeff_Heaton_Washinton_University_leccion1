{
  "nbformat": 4,
  "nbformat_minor": 0,
  "metadata": {
    "colab": {
      "name": "moduloTurtle.ipynb",
      "provenance": [],
      "authorship_tag": "ABX9TyNcQtbb8lTlQUCvij0glDRS",
      "include_colab_link": true
    },
    "kernelspec": {
      "name": "python3",
      "display_name": "Python 3"
    },
    "language_info": {
      "name": "python"
    }
  },
  "cells": [
    {
      "cell_type": "markdown",
      "metadata": {
        "id": "view-in-github",
        "colab_type": "text"
      },
      "source": [
        "<a href=\"https://colab.research.google.com/github/pleimi/cursos_Jeff_Heaton_Washinton_University_leccion1/blob/main/moduloTurtle.ipynb\" target=\"_parent\"><img src=\"https://colab.research.google.com/assets/colab-badge.svg\" alt=\"Open In Colab\"/></a>"
      ]
    },
    {
      "cell_type": "code",
      "metadata": {
        "colab": {
          "base_uri": "https://localhost:8080/"
        },
        "id": "Qr6AbR4_hee5",
        "outputId": "44c48907-08f3-4972-ed83-668414967c3a"
      },
      "source": [
        "!pip install Colabturtle              # referencia https://www.youtube.com/watch?v=c3OybHfqE44\n"
      ],
      "execution_count": 4,
      "outputs": [
        {
          "output_type": "stream",
          "name": "stdout",
          "text": [
            "Collecting Colabturtle\n",
            "  Downloading ColabTurtle-2.1.0.tar.gz (6.8 kB)\n",
            "Building wheels for collected packages: Colabturtle\n",
            "  Building wheel for Colabturtle (setup.py) ... \u001b[?25l\u001b[?25hdone\n",
            "  Created wheel for Colabturtle: filename=ColabTurtle-2.1.0-py3-none-any.whl size=7655 sha256=63a96f9ae24c52f4dfb1a67a78bcd54f192d956372f59c6bad95b5797f5d6df3\n",
            "  Stored in directory: /root/.cache/pip/wheels/0d/ab/65/cc4478508751448dfb4ecb20a6533082855c227dfce8c13902\n",
            "Successfully built Colabturtle\n",
            "Installing collected packages: Colabturtle\n",
            "Successfully installed Colabturtle-2.1.0\n"
          ]
        }
      ]
    },
    {
      "cell_type": "code",
      "metadata": {
        "id": "d3QNYYNbktoW"
      },
      "source": [
        "import ColabTurtle"
      ],
      "execution_count": 5,
      "outputs": []
    },
    {
      "cell_type": "code",
      "metadata": {
        "id": "HBlKZJgrk3WA"
      },
      "source": [
        "from ColabTurtle.Turtle import *\n",
        "initializeTurtle()"
      ],
      "execution_count": null,
      "outputs": []
    }
  ]
}