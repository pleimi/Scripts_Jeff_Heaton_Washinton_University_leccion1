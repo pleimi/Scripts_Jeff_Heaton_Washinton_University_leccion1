{
  "nbformat": 4,
  "nbformat_minor": 0,
  "metadata": {
    "colab": {
      "name": "Untitled2.ipynb",
      "provenance": [],
      "authorship_tag": "ABX9TyPCfsKY5m+t1JdcNmbsPVfj",
      "include_colab_link": true
    },
    "kernelspec": {
      "name": "python3",
      "display_name": "Python 3"
    },
    "language_info": {
      "name": "python"
    }
  },
  "cells": [
    {
      "cell_type": "markdown",
      "metadata": {
        "id": "view-in-github",
        "colab_type": "text"
      },
      "source": [
        "<a href=\"https://colab.research.google.com/github/pleimi/cursos_Jeff_Heaton_Washinton_University_leccion1/blob/main/Untitled2.ipynb\" target=\"_parent\"><img src=\"https://colab.research.google.com/assets/colab-badge.svg\" alt=\"Open In Colab\"/></a>"
      ]
    },
    {
      "cell_type": "code",
      "metadata": {
        "colab": {
          "base_uri": "https://localhost:8080/"
        },
        "id": "oc5-Slv_2mAN",
        "outputId": "17f947ba-1f6b-40c1-c541-6b95ef7b0504"
      },
      "source": [
        "from collections import defaultdict                            # escepción 700 es (t) me la lee como 70, es decir, b REVIZAR\n",
        "from collections import Counter\n",
        "\n",
        "codigoIngresado = input(\"por favor ingrese el codigo: \" ) \n",
        "#print(\"El código es: \" + codigoIngresado)\n",
        "\n",
        "letras = ['a', 'b', 'c', 'd', 'e', 'f', 'g', 'h', 'i', 'j', 'k', 'l', 'm', 'n', 'o', 'p', 'q', 'r', 's', 't', 'u', 'v', 'w', 'x', 'y']\n",
        "valores = ['17', '34', '51', '68', '85', '102', '119', '136', '153', '170', '187', '204', '221', '238', '255', '272', '289', '306', '323', '340', '357', '374', '391', '408', '425']\n",
        "valoresIndiceCero = dict(zip(valores,letras))\n",
        "print(valoresIndiceCero)\n",
        "\n",
        "lst = []\n",
        "lst.extend(codigoIngresado)\n",
        "print(lst)\n",
        "indiceCero = (codigoIngresado[0])\n",
        "indiceUno = (codigoIngresado[1])\n",
        "indiceDos = (codigoIngresado[2])\n",
        "indiceTres = (codigoIngresado[3])        # http://index-of.es/Varios-2/Fluent%20Python%20Clear%20Concise%20and%20Effective%20Programming.pdf (libro de python)\n",
        "primeros4Indices = (indiceCero+indiceUno+indiceDos+indiceTres)              # diccionario https://www.youtube.com/watch?v=vAy4IM7NLIQ\n",
        "print(primeros4Indices)\n",
        "\n",
        "primeros4Indices = [indiceCero,indiceUno,indiceDos,indiceTres]\n",
        "primeros3Indices = [indiceCero,indiceUno,indiceDos]\n",
        "primeros2Indices = [indiceCero,indiceUno]\n",
        "primerIndice = [indiceCero]\n",
        "print(primeros4Indices)\n",
        "print(primeros3Indices)\n",
        "print(primeros2Indices)\n",
        "print(primerIndice)\n",
        "\n",
        "formato4 = \"\".join([str(n) for n in primeros4Indices])  # referencia: QUITAR COMAS Y CORCHETE PARA UNIR LOS CARACTERES https://www.youtube.com/watch?v=eb1Jq3r5V1s\n",
        "#print(formato4)\n",
        "\n",
        "formato3 = \"\".join([str(n) for n in primeros3Indices])  # referencia: QUITAR COMAS Y CORCHETE PARA UNIR LOS CARACTERES https://www.youtube.com/watch?v=eb1Jq3r5V1s\n",
        "#print(formato3)\n",
        "\n",
        "formato2 = \"\".join([str(n) for n in primeros2Indices])  # referencia: QUITAR COMAS Y CORCHETE PARA UNIR LOS CARACTERES https://www.youtube.com/watch?v=eb1Jq3r5V1s\n",
        "#print(formato2)\n",
        "\n",
        "formato1 = \"\".join([str(n) for n in primerIndice])  # referencia: QUITAR COMAS Y CORCHETE PARA UNIR LOS CARACTERES https://www.youtube.com/watch?v=eb1Jq3r5V1s\n",
        "#print(formato1)\n",
        "\n",
        "\n",
        "if formato4 in codigoIngresado:\n",
        "    primerSerie = (valoresIndiceCero.get(formato4))\n",
        "    print(primerSerie)\n",
        "\n",
        "if formato3 in valoresIndiceCero:\n",
        "    primerSerie = (valoresIndiceCero.get(formato3))\n",
        "    print(primerSerie)\n",
        "\n",
        "if formato2 in valoresIndiceCero:\n",
        "    primerSerie = (valoresIndiceCero.get(formato2))\n",
        "    print(primerSerie)\n",
        "\n",
        "if formato1 in valoresIndiceCero:\n",
        "    primerSerie = (valoresIndiceCero.get(formato1))\n",
        "    print(primerSerie)\n",
        "\n",
        "else:\n",
        "    print(\"listo\")\n"
      ],
      "execution_count": 1,
      "outputs": [
        {
          "output_type": "stream",
          "name": "stdout",
          "text": [
            "por favor ingrese el codigo: 34351245\n",
            "{'17': 'a', '34': 'b', '51': 'c', '68': 'd', '85': 'e', '102': 'f', '119': 'g', '136': 'h', '153': 'i', '170': 'j', '187': 'k', '204': 'l', '221': 'm', '238': 'n', '255': 'o', '272': 'p', '289': 'q', '306': 'r', '323': 's', '340': 't', '357': 'u', '374': 'v', '391': 'w', '408': 'x', '425': 'y'}\n",
            "['3', '4', '3', '5', '1', '2', '4', '5']\n",
            "3435\n",
            "['3', '4', '3', '5']\n",
            "['3', '4', '3']\n",
            "['3', '4']\n",
            "['3']\n",
            "None\n",
            "b\n",
            "listo\n"
          ]
        }
      ]
    }
  ]
}