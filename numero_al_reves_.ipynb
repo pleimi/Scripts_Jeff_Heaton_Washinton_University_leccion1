{
  "nbformat": 4,
  "nbformat_minor": 0,
  "metadata": {
    "colab": {
      "name": "numero al reves .ipynb",
      "provenance": [],
      "authorship_tag": "ABX9TyPXbCNFFBDlFUv+uAN4hupH",
      "include_colab_link": true
    },
    "kernelspec": {
      "name": "python3",
      "display_name": "Python 3"
    },
    "language_info": {
      "name": "python"
    }
  },
  "cells": [
    {
      "cell_type": "markdown",
      "metadata": {
        "id": "view-in-github",
        "colab_type": "text"
      },
      "source": [
        "<a href=\"https://colab.research.google.com/github/pleimi/cursos_Jeff_Heaton_Washinton_University_leccion1/blob/main/numero_al_reves_.ipynb\" target=\"_parent\"><img src=\"https://colab.research.google.com/assets/colab-badge.svg\" alt=\"Open In Colab\"/></a>"
      ]
    },
    {
      "cell_type": "markdown",
      "metadata": {
        "id": "2bZ9Ru_zqlza"
      },
      "source": [
        "## Escriba un numero entero de 4 cifras, y ordenelo al reves \n"
      ]
    },
    {
      "cell_type": "code",
      "metadata": {
        "colab": {
          "base_uri": "https://localhost:8080/"
        },
        "id": "EmNfPtfiqcwA",
        "outputId": "fa39e4b2-e40d-455b-9085-2236c02a418f"
      },
      "source": [
        "A = int(input(\"ingrese un número de 4 cifras\")) # ejemplo 4538 por 8354  https://www.youtube.com/watch?v=utiqzBKFjfI\n",
        "\n",
        "c4 = A / 10\n",
        "c_modulo = A % 10 # obtenemos el modulo que en este caso es el 8\n",
        "d_modulo = A % 100 # devuelve 38 \n",
        "d1_modulo = ( (A % 100) / 10 ) # devuelve 3.8\n",
        "d2_modulo = int((A % 100) / 10 ) # asi nos devuelve el penultimo nuemro, es decir, 3 \n",
        "e_modulo = A % 1000\n",
        "e1_modulo = int((A % 1000 ) / 100 )\n",
        "f_modulo = (A % 1000) # 4538 dividido mil es 4 por lo tanto el residuo es 538\n",
        "f1_modulo = A - (A % 1000)\n",
        "f2_modulo = ((A - (A % 1000)) / 1000) \n",
        "f3_modulo = int((A - (A % 1000)) / 1000) # le hacemos casting agregando el int\n",
        "print(A)\n",
        "print(c4)\n",
        "print(c_modulo)\n",
        "print(d_modulo)\n",
        "print(d1_modulo)\n",
        "print(d2_modulo)\n",
        "print(e_modulo)\n",
        "print(e1_modulo)\n",
        "print(f_modulo)\n",
        "print(f1_modulo)\n",
        "print(f2_modulo)\n",
        "print(f3_modulo)\n",
        "\n",
        "print(c_modulo)\n",
        "print(d2_modulo)\n",
        "print(e1_modulo)\n",
        "print(f3_modulo)\n",
        "\n",
        "print(c_modulo+d2_modulo+e1_modulo+f3_modulo) # aqui las estoy sumando\n",
        "print('c_modulo'+'d2_modulo'+'e1_modulo'+'f3_modulo') # aqui estoy imprimiendo puros strings \n",
        "print(str(c_modulo)+str(d2_modulo)+str(e1_modulo)+str(f3_modulo)) # como eran enteros, ahora los convierto a string \n"
      ],
      "execution_count": 55,
      "outputs": [
        {
          "output_type": "stream",
          "name": "stdout",
          "text": [
            "ingrese un número de 4 cifras4538\n",
            "4538\n",
            "453.8\n",
            "8\n",
            "38\n",
            "3.8\n",
            "3\n",
            "538\n",
            "5\n",
            "538\n",
            "4000\n",
            "4.0\n",
            "4\n",
            "8\n",
            "3\n",
            "5\n",
            "4\n",
            "20\n",
            "c_modulod2_moduloe1_modulof3_modulo\n",
            "8354\n"
          ]
        }
      ]
    }
  ]
}