{
  "nbformat": 4,
  "nbformat_minor": 0,
  "metadata": {
    "colab": {
      "name": "copiaDeAsiv1.ipynb",
      "provenance": [],
      "include_colab_link": true
    },
    "kernelspec": {
      "name": "python3",
      "display_name": "Python 3"
    },
    "language_info": {
      "name": "python"
    }
  },
  "cells": [
    {
      "cell_type": "markdown",
      "metadata": {
        "id": "view-in-github",
        "colab_type": "text"
      },
      "source": [
        "<a href=\"https://colab.research.google.com/github/pleimi/cursos_Jeff_Heaton_Washinton_University_leccion1/blob/main/copiaDeAsiv1.ipynb\" target=\"_parent\"><img src=\"https://colab.research.google.com/assets/colab-badge.svg\" alt=\"Open In Colab\"/></a>"
      ]
    },
    {
      "cell_type": "code",
      "metadata": {
        "colab": {
          "base_uri": "https://localhost:8080/",
          "height": 205
        },
        "id": "Uad7BT3xAP1z",
        "outputId": "58eccd30-fde0-491c-bf60-88de073c8b26"
      },
      "source": [
        "from collections import defaultdict                            # escepción 700 es (t) me la lee como 70, es decir, b REVIZAR\n",
        "from collections import Counter\n",
        "\n",
        "codigoIngresado = input(\"por favor ingrese el codigo: \" ) \n",
        "#print(\"El código es: \" + codigoIngresado)\n",
        "\n",
        "letras = ['a', 'b', 'c', 'd', 'e', 'f', 'g', 'h', 'i', 'j', 'k', 'l', 'm', 'n', 'o', 'p', 'q', 'r', 's', 't', 'u', 'v', 'w', 'x', 'y']\n",
        "valores = ['35', '70', '105', '140', '175', '210', '245', '280', '315', '350', '385', '420', '455', '490', '525', '560', '595', '630', '665', '700', '735', '770', '805', '840', '875']\n",
        "\n",
        "\n",
        "\n",
        "valoresIndiceCero = dict(zip(valores,letras))\n",
        "#print(valoresIndiceCero)\n",
        "\n",
        "lst = []\n",
        "lst.extend(codigoIngresado)\n",
        "print(lst)\n",
        "indiceCero = (codigoIngresado[0])\n",
        "indiceUno = (codigoIngresado[1])\n",
        "indiceDos = (codigoIngresado[2])\n",
        "indiceTres = (codigoIngresado[3])        # http://index-of.es/Varios-2/Fluent%20Python%20Clear%20Concise%20and%20Effective%20Programming.pdf (libro de python)\n",
        "primeros4Indices = (indiceCero+indiceUno+indiceDos+indiceTres)              # diccionario https://www.youtube.com/watch?v=vAy4IM7NLIQ\n",
        "print(primeros4Indices)\n",
        "''''''\n",
        "primeros4Indices = [indiceCero,indiceUno,indiceDos,indiceTres]\n",
        "primeros3Indices = [indiceCero,indiceUno,indiceDos]\n",
        "primeros2Indices = [indiceCero,indiceUno]\n",
        "primerIndice = [indiceCero]\n",
        "print(primeros4Indices)\n",
        "print(primeros3Indices)\n",
        "print(primeros2Indices)\n",
        "print(primerIndice)\n",
        "\n",
        "formato4 = \"\".join([str(n) for n in primeros4Indices])  # referencia: QUITAR COMAS Y CORCHETE PARA UNIR LOS CARACTERES https://www.youtube.com/watch?v=eb1Jq3r5V1s\n",
        "#print(formato4)\n",
        "\n",
        "formato3 = \"\".join([str(n) for n in primeros3Indices])  # referencia: QUITAR COMAS Y CORCHETE PARA UNIR LOS CARACTERES https://www.youtube.com/watch?v=eb1Jq3r5V1s\n",
        "#print(formato3)\n",
        "\n",
        "formato2 = \"\".join([str(n) for n in primeros2Indices])  # referencia: QUITAR COMAS Y CORCHETE PARA UNIR LOS CARACTERES https://www.youtube.com/watch?v=eb1Jq3r5V1s\n",
        "#print(formato2)\n",
        "\n",
        "formato1 = \"\".join([str(n) for n in primerIndice])  # referencia: QUITAR COMAS Y CORCHETE PARA UNIR LOS CARACTERES https://www.youtube.com/watch?v=eb1Jq3r5V1s\n",
        "#print(formato1)\n",
        "\n",
        "\n",
        "if formato4 in codigoIngresado:\n",
        "    primerSerie = (valoresIndiceCero.get(formato4))\n",
        "    print(primerSerie)\n",
        "\n",
        "if formato3 in valoresIndiceCero:\n",
        "    primerSerie = (valoresIndiceCero.get(formato3))\n",
        "    print(primerSerie)\n",
        "\n",
        "if formato2 in valoresIndiceCero:\n",
        "    primerSerie = (valoresIndiceCero.get(formato2))\n",
        "    print(primerSerie)\n",
        "\n",
        "if formato1 in valoresIndiceCero:\n",
        "    primerSerie = (valoresIndiceCero.get(formato1))\n",
        "    print(primerSerie)\n",
        "\n",
        "'''\n",
        "valorDePrimerSerie = dict(zip(letras,valores))\n",
        "print(valorDePrimerSerie)\n",
        "''''''\n",
        "primerSerieEncontrada = (valorDePrimerSerie.get(primerSerie))\n",
        "print(primerSerieEncontrada)\n",
        "\n",
        "print(codigoIngresado) \n",
        "'''\n",
        "'''\n",
        "lst = []\n",
        "lst.extend(codigoIngresado)\n",
        "print(lst)\n",
        "\n",
        "lst = []\n",
        "lst.extend(primerSerieEncontrada)\n",
        "print(lst)\n",
        "\n",
        "print(len(codigoIngresado))\n",
        "\n",
        "cantidadDeLetras = (len(primerSerieEncontrada))\n",
        "print(cantidadDeLetras)\n",
        "\n",
        "\n",
        "segundos4Indices = codigoIngresado[cantidadDeLetras:]\n",
        "print(segundos4Indices)\n",
        "\n",
        "print(\"los segundos 4 indices son: \" + segundos4Indices)\n",
        "'''\n",
        "\n",
        "\n",
        "\n",
        "\n",
        "\n",
        "\n"
      ],
      "execution_count": 1,
      "outputs": [
        {
          "output_type": "stream",
          "name": "stdout",
          "text": [
            "por favor ingrese el codigo: 35124578\n",
            "['3', '5', '1', '2', '4', '5', '7', '8']\n",
            "3512\n",
            "['3', '5', '1', '2']\n",
            "['3', '5', '1']\n",
            "['3', '5']\n",
            "['3']\n",
            "None\n",
            "a\n"
          ]
        },
        {
          "output_type": "execute_result",
          "data": {
            "application/vnd.google.colaboratory.intrinsic+json": {
              "type": "string"
            },
            "text/plain": [
              "'\\nlst = []\\nlst.extend(codigoIngresado)\\nprint(lst)\\n\\nlst = []\\nlst.extend(primerSerieEncontrada)\\nprint(lst)\\n\\nprint(len(codigoIngresado))\\n\\ncantidadDeLetras = (len(primerSerieEncontrada))\\nprint(cantidadDeLetras)\\n\\n\\nsegundos4Indices = codigoIngresado[cantidadDeLetras:]\\nprint(segundos4Indices)\\n\\nprint(\"los segundos 4 indices son: \" + segundos4Indices)\\n'"
            ]
          },
          "metadata": {},
          "execution_count": 1
        }
      ]
    }
  ]
}