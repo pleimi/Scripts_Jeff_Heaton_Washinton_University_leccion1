{
  "nbformat": 4,
  "nbformat_minor": 0,
  "metadata": {
    "colab": {
      "name": "leccion3JeffHeaton.ipynb",
      "provenance": [],
      "authorship_tag": "ABX9TyMNL35O0bq1wRLCCXdVJVB8",
      "include_colab_link": true
    },
    "kernelspec": {
      "name": "python3",
      "display_name": "Python 3"
    },
    "language_info": {
      "name": "python"
    }
  },
  "cells": [
    {
      "cell_type": "markdown",
      "metadata": {
        "id": "view-in-github",
        "colab_type": "text"
      },
      "source": [
        "<a href=\"https://colab.research.google.com/github/pleimi/Scripts_Jeff_Heaton_Washinton_University_leccion1/blob/main/leccion3JeffHeaton.ipynb\" target=\"_parent\"><img src=\"https://colab.research.google.com/assets/colab-badge.svg\" alt=\"Open In Colab\"/></a>"
      ]
    },
    {
      "cell_type": "markdown",
      "metadata": {
        "id": "DEjB6y5sKRYV"
      },
      "source": [
        ""
      ]
    },
    {
      "cell_type": "markdown",
      "metadata": {
        "id": "odyVOtYyK1Rf"
      },
      "source": [
        "Este código es para VERIFICAR si tensorflow esta corriendo o no."
      ]
    },
    {
      "cell_type": "code",
      "metadata": {
        "id": "bTbRQvBqFd46"
      },
      "source": [
        "try:\n",
        "    from google.colab import drive   #  https://www.youtube.com/watch?v=kcGx2I5akSs&list=PLjy4p-07OYzulelvJ5KVaT2pDlxivl_BN  \n",
        "    %tensorflow_version 2.x          #  https://colab.research.google.com/github/jeffheaton/t81_558_deep_learning/blob/master/t81_558_class_01_3_python_collections.ipynb\n",
        "    COLAB = True\n",
        "    print(\"Note: using Google CoLab\")\n",
        "except:\n",
        "    print(\"Note: not using Google CoLab\")\n",
        "    COLAB = False # para comprobar que programa estamos usando"
      ],
      "execution_count": null,
      "outputs": []
    },
    {
      "cell_type": "markdown",
      "metadata": {
        "id": "OIOTezbiN3N-"
      },
      "source": [
        ""
      ]
    },
    {
      "cell_type": "markdown",
      "metadata": {
        "id": "1oizFCwpN4F2"
      },
      "source": [
        "Esta es la diferencia entre tuplas y listas "
      ]
    },
    {
      "cell_type": "code",
      "metadata": {
        "colab": {
          "base_uri": "https://localhost:8080/",
          "height": 129
        },
        "id": "T5jkQcETN1-Z",
        "outputId": "fefabcbc-5a93-47a8-8fa6-74994a3e16f2"
      },
      "source": [
        "1 = ['j','u','a','n','c','r','l','o','s']   # encuentra el error\n",
        "print(1)"
      ],
      "execution_count": null,
      "outputs": [
        {
          "output_type": "error",
          "ename": "SyntaxError",
          "evalue": "ignored",
          "traceback": [
            "\u001b[0;36m  File \u001b[0;32m\"<ipython-input-2-7eecd8a36850>\"\u001b[0;36m, line \u001b[0;32m1\u001b[0m\n\u001b[0;31m    1 = ['j','u','a','n','c','r','l','o','s']\u001b[0m\n\u001b[0m                                             ^\u001b[0m\n\u001b[0;31mSyntaxError\u001b[0m\u001b[0;31m:\u001b[0m can't assign to literal\n"
          ]
        }
      ]
    },
    {
      "cell_type": "code",
      "metadata": {
        "colab": {
          "base_uri": "https://localhost:8080/"
        },
        "id": "HA0VD0IWqqVF",
        "outputId": "6fe5bb16-f5b6-484a-b52a-5795e68dce77"
      },
      "source": [
        "l = ['j','u','a','n','c','a','r','l','o','s']  # encuentra el error\n",
        "print(1)"
      ],
      "execution_count": null,
      "outputs": [
        {
          "output_type": "stream",
          "text": [
            "1\n"
          ],
          "name": "stdout"
        }
      ]
    },
    {
      "cell_type": "code",
      "metadata": {
        "colab": {
          "base_uri": "https://localhost:8080/"
        },
        "id": "fvq4LMlnq1Kb",
        "outputId": "d37505b4-0e39-4ecb-e6f4-4b23ccc330f3"
      },
      "source": [
        "l = ['j','u','a','n','c','a','r','l','o','s']  # si tiene corchetes es lista, la cual es mutable = cambia\n",
        "print(l)"
      ],
      "execution_count": null,
      "outputs": [
        {
          "output_type": "stream",
          "text": [
            "['j', 'u', 'a', 'n', 'c', 'a', 'r', 'l', 'o', 's']\n"
          ],
          "name": "stdout"
        }
      ]
    },
    {
      "cell_type": "code",
      "metadata": {
        "colab": {
          "base_uri": "https://localhost:8080/"
        },
        "id": "2aaTcVc1raWj",
        "outputId": "62a4a441-8f33-4ab0-b1c0-2b0e99dd1187"
      },
      "source": [
        "t = ('j','u','a','n','c','a','r','l','o','s')  # si tiene parentesis es tupla (mas rápido de iterar), es inmutable = no cambian sus elementos\n",
        "print(t)"
      ],
      "execution_count": null,
      "outputs": [
        {
          "output_type": "stream",
          "text": [
            "('j', 'u', 'a', 'n', 'c', 'a', 'r', 'l', 'o', 's')\n"
          ],
          "name": "stdout"
        }
      ]
    },
    {
      "cell_type": "code",
      "metadata": {
        "colab": {
          "base_uri": "https://localhost:8080/"
        },
        "id": "0_VEtnARv4AI",
        "outputId": "a56ff82b-0faa-459c-cc6e-3dfbea0d8182"
      },
      "source": [
        "l = ['j','u','a','n','c','a','r','l','o','s']\n",
        "l[5] = \"cambiado el elemento del indice 5\"\n",
        "print(l)"
      ],
      "execution_count": null,
      "outputs": [
        {
          "output_type": "stream",
          "text": [
            "['j', 'u', 'a', 'n', 'c', 'cambiado el elemento del indice 5', 'r', 'l', 'o', 's']\n"
          ],
          "name": "stdout"
        }
      ]
    },
    {
      "cell_type": "code",
      "metadata": {
        "colab": {
          "base_uri": "https://localhost:8080/"
        },
        "id": "u4Bd9ml4yYWE",
        "outputId": "079a6fb9-d802-4940-c1bb-9e485bdbfdb3"
      },
      "source": [
        "for s in l:  # este codigo itera sobre los elementos \n",
        "  print(s)"
      ],
      "execution_count": null,
      "outputs": [
        {
          "output_type": "stream",
          "text": [
            "j\n",
            "u\n",
            "a\n",
            "n\n",
            "c\n",
            "cambiado el elemento del indice 5\n",
            "r\n",
            "l\n",
            "o\n",
            "s\n"
          ],
          "name": "stdout"
        }
      ]
    },
    {
      "cell_type": "code",
      "metadata": {
        "id": "xULWS4YUzcDd",
        "colab": {
          "base_uri": "https://localhost:8080/"
        },
        "outputId": "36d73bd5-fdde-45d3-94a8-3d4eba5cef77"
      },
      "source": [
        "for i,l in enumerate (l):   # encontrar el indice de los elementos\n",
        "  print(f\"{i}:{l}\") \n",
        "\n"
      ],
      "execution_count": 26,
      "outputs": [
        {
          "output_type": "stream",
          "text": [
            "0:j\n",
            "1:u\n",
            "2:a\n",
            "3:n\n",
            "4:c\n",
            "5:cambiado el elemento del indice 5\n",
            "6:r\n",
            "7:l\n",
            "8:o\n",
            "9:s\n"
          ],
          "name": "stdout"
        }
      ]
    },
    {
      "cell_type": "markdown",
      "metadata": {
        "id": "lcbs82Df8bPs"
      },
      "source": [
        "Se puede AGREGAR en las listas, elementos duplicados. pero las TUPLAS NO permiten modificaciones. "
      ]
    },
    {
      "cell_type": "code",
      "metadata": {
        "colab": {
          "base_uri": "https://localhost:8080/"
        },
        "id": "veCkRnZ89Yzu",
        "outputId": "84179b07-c3cc-4a9b-b771-7908f58e60ca"
      },
      "source": [
        "c = []\n",
        "\n",
        "c.append('j')\n",
        "c.append('u')\n",
        "c.append('a')\n",
        "c.append('n')\n",
        "c.append('c')\n",
        "c.append('a')\n",
        "c.append('r')\n",
        "c.append('l')\n",
        "c.append('o')\n",
        "c.append('s')\n",
        "c.append('uno')\n",
        "print(c)\n"
      ],
      "execution_count": 31,
      "outputs": [
        {
          "output_type": "stream",
          "text": [
            "['j', 'u', 'a', 'n', 'c', 'a', 'r', 'l', 'o', 's', 'uno']\n"
          ],
          "name": "stdout"
        }
      ]
    },
    {
      "cell_type": "code",
      "metadata": {
        "colab": {
          "base_uri": "https://localhost:8080/"
        },
        "id": "OdLu66kKAMYX",
        "outputId": "a086693a-fb1e-4345-bcb8-fcbea232e275"
      },
      "source": [
        "print(c[6])  # para ENCONTRAR un elemento"
      ],
      "execution_count": 35,
      "outputs": [
        {
          "output_type": "stream",
          "text": [
            "r\n"
          ],
          "name": "stdout"
        }
      ]
    },
    {
      "cell_type": "code",
      "metadata": {
        "colab": {
          "base_uri": "https://localhost:8080/"
        },
        "id": "VdvV9sBJAxGO",
        "outputId": "c33f479b-dfa1-4b90-fd79-355ec7f14147"
      },
      "source": [
        "for i,l in enumerate(c):  # para saber cual es el indice de un elemento\n",
        "  print(f\"{i}:{l}\")"
      ],
      "execution_count": 37,
      "outputs": [
        {
          "output_type": "stream",
          "text": [
            "0:j\n",
            "1:u\n",
            "2:a\n",
            "3:n\n",
            "4:c\n",
            "5:a\n",
            "6:r\n",
            "7:l\n",
            "8:o\n",
            "9:s\n",
            "10:uno\n"
          ],
          "name": "stdout"
        }
      ]
    },
    {
      "cell_type": "code",
      "metadata": {
        "colab": {
          "base_uri": "https://localhost:8080/"
        },
        "id": "4WV6nanZBLof",
        "outputId": "c778c6a9-b0f4-4b60-e9fc-bb26cfe48a8d"
      },
      "source": [
        "print(c[8])  # para ENCONTRAR un elemento "
      ],
      "execution_count": 39,
      "outputs": [
        {
          "output_type": "stream",
          "text": [
            "o\n"
          ],
          "name": "stdout"
        }
      ]
    },
    {
      "cell_type": "code",
      "metadata": {
        "colab": {
          "base_uri": "https://localhost:8080/",
          "height": 231
        },
        "id": "eiKjTEDOC9aJ",
        "outputId": "52ba21d8-0d7d-44c0-c56b-209d18ecbb22"
      },
      "source": [
        "# para INSERTAR \n",
        "\n",
        "d = ('J','U','A','N' )  # el errr es por que es una tupla\n",
        "print(d)\n",
        "d.insert(0,'2')\n",
        "print(d)\n"
      ],
      "execution_count": 44,
      "outputs": [
        {
          "output_type": "stream",
          "text": [
            "('J', 'U', 'A', 'N')\n"
          ],
          "name": "stdout"
        },
        {
          "output_type": "error",
          "ename": "AttributeError",
          "evalue": "ignored",
          "traceback": [
            "\u001b[0;31m---------------------------------------------------------------------------\u001b[0m",
            "\u001b[0;31mAttributeError\u001b[0m                            Traceback (most recent call last)",
            "\u001b[0;32m<ipython-input-44-a8520a046415>\u001b[0m in \u001b[0;36m<module>\u001b[0;34m()\u001b[0m\n\u001b[1;32m      3\u001b[0m \u001b[0md\u001b[0m \u001b[0;34m=\u001b[0m \u001b[0;34m(\u001b[0m\u001b[0;34m'J'\u001b[0m\u001b[0;34m,\u001b[0m\u001b[0;34m'U'\u001b[0m\u001b[0;34m,\u001b[0m\u001b[0;34m'A'\u001b[0m\u001b[0;34m,\u001b[0m\u001b[0;34m'N'\u001b[0m \u001b[0;34m)\u001b[0m\u001b[0;34m\u001b[0m\u001b[0;34m\u001b[0m\u001b[0m\n\u001b[1;32m      4\u001b[0m \u001b[0mprint\u001b[0m\u001b[0;34m(\u001b[0m\u001b[0md\u001b[0m\u001b[0;34m)\u001b[0m\u001b[0;34m\u001b[0m\u001b[0;34m\u001b[0m\u001b[0m\n\u001b[0;32m----> 5\u001b[0;31m \u001b[0md\u001b[0m\u001b[0;34m.\u001b[0m\u001b[0minsert\u001b[0m\u001b[0;34m(\u001b[0m\u001b[0;36m0\u001b[0m\u001b[0;34m,\u001b[0m\u001b[0;34m'2'\u001b[0m\u001b[0;34m)\u001b[0m\u001b[0;34m\u001b[0m\u001b[0;34m\u001b[0m\u001b[0m\n\u001b[0m\u001b[1;32m      6\u001b[0m \u001b[0mprint\u001b[0m\u001b[0;34m(\u001b[0m\u001b[0md\u001b[0m\u001b[0;34m)\u001b[0m\u001b[0;34m\u001b[0m\u001b[0;34m\u001b[0m\u001b[0m\n",
            "\u001b[0;31mAttributeError\u001b[0m: 'tuple' object has no attribute 'insert'"
          ]
        }
      ]
    },
    {
      "cell_type": "code",
      "metadata": {
        "colab": {
          "base_uri": "https://localhost:8080/"
        },
        "id": "A2tXk3dSER3I",
        "outputId": "4b430d1f-5b6f-4436-fd37-24ca93de1363"
      },
      "source": [
        "# para INSERTAR \n",
        "\n",
        "d = ['J','U','A','N']  # como es LISTA si se puede agregar\n",
        "print(d)\n",
        "d.insert(0,'2')\n",
        "print(d)\n",
        "# remover \n",
        "d.remove('J')\n",
        "print(d)\n",
        "# remover segun un indice \n",
        "del d[3]\n",
        "print(d)"
      ],
      "execution_count": 48,
      "outputs": [
        {
          "output_type": "stream",
          "text": [
            "['J', 'U', 'A', 'N']\n",
            "['2', 'J', 'U', 'A', 'N']\n",
            "['2', 'U', 'A', 'N']\n",
            "['2', 'U', 'A']\n"
          ],
          "name": "stdout"
        }
      ]
    },
    {
      "cell_type": "code",
      "metadata": {
        "colab": {
          "base_uri": "https://localhost:8080/"
        },
        "id": "RwTvhDnBGoBh",
        "outputId": "ad778e28-7f93-44b4-d0de-cbbf3367a57c"
      },
      "source": [
        "s = set()\n",
        "s = {'a', 'b', 'c'}\n",
        "s = set(['a', 'b', 'c'])\n",
        "print(s)\n"
      ],
      "execution_count": 64,
      "outputs": [
        {
          "output_type": "stream",
          "text": [
            "{'b', 'a', 'c'}\n"
          ],
          "name": "stdout"
        }
      ]
    },
    {
      "cell_type": "code",
      "metadata": {
        "colab": {
          "base_uri": "https://localhost:8080/"
        },
        "id": "_O5-GZyoJDi6",
        "outputId": "b65b2fa8-45df-47f5-803b-eec2f8d9bbcb"
      },
      "source": [
        "# para agregar elementos pero SET no admite multiplicados \n",
        "\n",
        "c = set()\n",
        "c.add('j')\n",
        "c.add('u')\n",
        "c.add('a')\n",
        "c.add('n')\n",
        "c.add('c')\n",
        "c.add('a')\n",
        "c.add('r')\n",
        "c.add('l')\n",
        "c.add('o')\n",
        "c.add('s')\n",
        "print(c)\n",
        "\n",
        "\n"
      ],
      "execution_count": 65,
      "outputs": [
        {
          "output_type": "stream",
          "text": [
            "{'o', 's', 'a', 'l', 'n', 'j', 'u', 'r', 'c'}\n"
          ],
          "name": "stdout"
        }
      ]
    },
    {
      "cell_type": "code",
      "metadata": {
        "colab": {
          "base_uri": "https://localhost:8080/"
        },
        "id": "qWBpacCPKK3p",
        "outputId": "aef009dc-9bc2-406a-918c-1655feeb9e23"
      },
      "source": [
        "a = [2, 10, 3, 11, 10, 3, 2, 1]\n",
        "for i, x in enumerate(a):         # cambiar numeros mayores a 5 por 5 \n",
        "    if x>5:\n",
        "      a[i] = 5\n",
        "print(a)"
      ],
      "execution_count": 88,
      "outputs": [
        {
          "output_type": "stream",
          "text": [
            "[2, 5, 3, 5, 5, 3, 2, 1]\n"
          ],
          "name": "stdout"
        }
      ]
    }
  ]
}