{
  "nbformat": 4,
  "nbformat_minor": 0,
  "metadata": {
    "colab": {
      "name": "convierte_decimal_a_binario.ipynb",
      "provenance": [],
      "authorship_tag": "ABX9TyOnpUYNaezUArMj5ecI7e9f",
      "include_colab_link": true
    },
    "kernelspec": {
      "name": "python3",
      "display_name": "Python 3"
    },
    "language_info": {
      "name": "python"
    }
  },
  "cells": [
    {
      "cell_type": "markdown",
      "metadata": {
        "id": "view-in-github",
        "colab_type": "text"
      },
      "source": [
        "<a href=\"https://colab.research.google.com/github/pleimi/cursos_Jeff_Heaton_Washinton_University_leccion1/blob/main/convierte_decimal_a_binario.ipynb\" target=\"_parent\"><img src=\"https://colab.research.google.com/assets/colab-badge.svg\" alt=\"Open In Colab\"/></a>"
      ]
    },
    {
      "cell_type": "code",
      "metadata": {
        "colab": {
          "base_uri": "https://localhost:8080/"
        },
        "id": "aAINu-3UoBOp",
        "outputId": "8e84b211-adf0-495f-d409-10e2bf62a79e"
      },
      "source": [
        "def binario(decimal):  # referencia https://www.youtube.com/watch?v=RwgRuc1s4uQ\n",
        "  binario = \"\"\n",
        "  while decimal // 2 !=0:\n",
        "    binario = str(decimal % 2) + binario\n",
        "    decimal = decimal // 2 \n",
        "  return str(decimal) + binario\n",
        "\n",
        "numero = int(input(\"introduce el numero que quieres convertir a binario: \"))\n",
        "print(binario(numero))\n",
        "numero = int(input(\"introduce el numero que quieres convertir a binario: \"))\n",
        "print(binario(numero))\n",
        "numero = int(input(\"introduce el numero que quieres convertir a binario: \"))\n",
        "print(binario(numero))"
      ],
      "execution_count": null,
      "outputs": [
        {
          "output_type": "stream",
          "text": [
            "introduce el numero que quieres convertir a binario: 4\n",
            "100\n",
            "introduce el numero que quieres convertir a binario: 5\n",
            "101\n",
            "introduce el numero que quieres convertir a binario: 6\n",
            "110\n"
          ],
          "name": "stdout"
        }
      ]
    }
  ]
}