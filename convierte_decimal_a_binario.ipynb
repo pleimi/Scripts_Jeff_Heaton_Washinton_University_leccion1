{
  "nbformat": 4,
  "nbformat_minor": 0,
  "metadata": {
    "colab": {
      "name": "convierte_decimal_a_binario.ipynb",
      "provenance": [],
      "authorship_tag": "ABX9TyNa1fPz0FfgTuHkT+wG1nMS",
      "include_colab_link": true
    },
    "kernelspec": {
      "name": "python3",
      "display_name": "Python 3"
    },
    "language_info": {
      "name": "python"
    },
    "accelerator": "GPU"
  },
  "cells": [
    {
      "cell_type": "markdown",
      "metadata": {
        "id": "view-in-github",
        "colab_type": "text"
      },
      "source": [
        "<a href=\"https://colab.research.google.com/github/pleimi/cursos_Jeff_Heaton_Washinton_University_leccion1/blob/main/convierte_decimal_a_binario.ipynb\" target=\"_parent\"><img src=\"https://colab.research.google.com/assets/colab-badge.svg\" alt=\"Open In Colab\"/></a>"
      ]
    },
    {
      "cell_type": "markdown",
      "metadata": {
        "id": "_8oIuFEIJow6"
      },
      "source": [
        "ENCONTRAR IP Y NOMBRE DE MI COMPU"
      ]
    },
    {
      "cell_type": "code",
      "metadata": {
        "colab": {
          "base_uri": "https://localhost:8080/"
        },
        "id": "u3AvuoqMJnuO",
        "outputId": "d48d1dc7-36dc-4760-8675-691a697adb75"
      },
      "source": [
        "import socket\n",
        "\n",
        "hostname = socket.gethostname()\n",
        "ip = socket.gethostbyname(hostname)\n",
        "\n",
        "print(\"El nombre de mi ordenador es: \" + hostname)\n",
        "print(\"Mi IP es: \" + ip)\n"
      ],
      "execution_count": 10,
      "outputs": [
        {
          "output_type": "stream",
          "text": [
            "El nombre de mi ordenador es: f15bb43e8d65\n",
            "Mi IP es: 172.28.0.2\n"
          ],
          "name": "stdout"
        }
      ]
    },
    {
      "cell_type": "markdown",
      "metadata": {
        "id": "Kj7upAxdL_Y_"
      },
      "source": [
        "SCANER DE PUERTOS "
      ]
    },
    {
      "cell_type": "code",
      "metadata": {
        "colab": {
          "base_uri": "https://localhost:8080/"
        },
        "id": "NHdc5YJDJniO",
        "outputId": "670650b8-a0fa-4eff-c709-60298836a0f9"
      },
      "source": [
        "import sys\n",
        "import socket\n",
        "\n",
        "objetivo = socket.gethostbyname(input(\"ingrese su IP: \"))\n",
        "\n",
        "print(\"Escaneando objetivo: \" + objetivo)\n",
        "\n",
        "try:\n",
        "  for port in range(1, 150):\n",
        "      s = socket.socket(socket.AF_INET, socket.SOCK_STREAM)\n",
        "      socket.setdefaulttimeout(1)\n",
        "      resultado = s.connect_ex((objetivo, port))\n",
        "      if resultado == 0:\n",
        "         print(\"el puerto {} esta abierto\".format(port))\n",
        "  s.close()\n",
        "\n",
        "except:\n",
        "  print(\"\\n Saliendo...\")\n",
        "  sys.exit(0)\n",
        "\n",
        "\n",
        "\n"
      ],
      "execution_count": 26,
      "outputs": [
        {
          "output_type": "stream",
          "text": [
            "ingrese su IP: 172.28.0.2\n",
            "Escaneando objetivo: 172.28.0.2\n"
          ],
          "name": "stdout"
        }
      ]
    },
    {
      "cell_type": "code",
      "metadata": {
        "colab": {
          "base_uri": "https://localhost:8080/"
        },
        "id": "aAINu-3UoBOp",
        "outputId": "8e84b211-adf0-495f-d409-10e2bf62a79e"
      },
      "source": [
        "def binario(decimal):  # referencia https://www.youtube.com/watch?v=RwgRuc1s4uQ\n",
        "  binario = \"\"\n",
        "  while decimal // 2 !=0:\n",
        "    binario = str(decimal % 2) + binario\n",
        "    decimal = decimal // 2 \n",
        "  return str(decimal) + binario\n",
        "\n",
        "numero = int(input(\"introduce el numero que quieres convertir a binario: \"))\n",
        "print(binario(numero))\n",
        "numero = int(input(\"introduce el numero que quieres convertir a binario: \"))\n",
        "print(binario(numero))\n",
        "numero = int(input(\"introduce el numero que quieres convertir a binario: \"))\n",
        "print(binario(numero))"
      ],
      "execution_count": null,
      "outputs": [
        {
          "output_type": "stream",
          "text": [
            "introduce el numero que quieres convertir a binario: 4\n",
            "100\n",
            "introduce el numero que quieres convertir a binario: 5\n",
            "101\n",
            "introduce el numero que quieres convertir a binario: 6\n",
            "110\n"
          ],
          "name": "stdout"
        }
      ]
    },
    {
      "cell_type": "code",
      "metadata": {
        "id": "8B_FKnYVQ9Gx"
      },
      "source": [
        "CRAQUEADOR DE CONTRASEÑAS \n"
      ],
      "execution_count": null,
      "outputs": []
    },
    {
      "cell_type": "code",
      "metadata": {
        "id": "MU8RWJtfRJSw"
      },
      "source": [
        "import hashlib\n",
        "\n",
        "encontrada = 0 \n",
        "imput_hash = input(\"inserte la contraseña hasheada: \")\n",
        "pass_doc = input(\"inserte el diccionario: \")\n",
        "\n",
        "try:\n",
        "  pass_file = open(pass_doc, \"r\")\n",
        "except:\n",
        "  print(\"!Error! la contraseña\" + pass_doc + \"no se ha encontrado\")\n",
        "\n",
        "for palabra in pass_file:\n",
        "    palabra_cifrada = palabra.encode('utf-8')\n",
        "    palabra_hasheada = hashlib.md5(palabra_cifrada.strip())\n",
        "    digest = palabra_hasheada.hexdigest()\n",
        "\n",
        "    if digest == input_hash:\n",
        "        print(\"Contraseña encontrada!!! \\n la contraseña es: \" + palabra)\n",
        "        encontrada = 1\n",
        "        break\n",
        "\n",
        "if not encontrada:\n",
        "    print(\"La contraseña no ha sido encontrada en el archivo \" + pass_doc )\n",
        "\n",
        "\n",
        "  \n"
      ],
      "execution_count": null,
      "outputs": []
    }
  ]
}