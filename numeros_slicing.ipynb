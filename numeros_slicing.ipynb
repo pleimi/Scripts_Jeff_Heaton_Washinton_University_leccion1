{
  "nbformat": 4,
  "nbformat_minor": 0,
  "metadata": {
    "colab": {
      "name": "numeros_slicing.ipynb",
      "provenance": [],
      "authorship_tag": "ABX9TyNjHsRP+lk4gGWTmxLECpjw",
      "include_colab_link": true
    },
    "kernelspec": {
      "name": "python3",
      "display_name": "Python 3"
    },
    "language_info": {
      "name": "python"
    }
  },
  "cells": [
    {
      "cell_type": "markdown",
      "metadata": {
        "id": "view-in-github",
        "colab_type": "text"
      },
      "source": [
        "<a href=\"https://colab.research.google.com/github/pleimi/cursos_Jeff_Heaton_Washinton_University_leccion1/blob/main/numeros_slicing.ipynb\" target=\"_parent\"><img src=\"https://colab.research.google.com/assets/colab-badge.svg\" alt=\"Open In Colab\"/></a>"
      ]
    },
    {
      "cell_type": "code",
      "metadata": {
        "colab": {
          "base_uri": "https://localhost:8080/"
        },
        "id": "8GrAZdWZ2sGk",
        "outputId": "56c3cb10-7c9f-471c-ad14-ea3cc4536877"
      },
      "source": [
        "a = 4+4  # referencia: https://www.youtube.com/watch?v=ppz1e_ceeIw\n",
        "\n",
        "b = 4.5 + 4.56\n",
        "\n",
        "c = 7 % 4 # dividir por el modulos es para saber cuanto sobra ( asi sabemos si es par o impar )\n",
        "\n",
        "\n",
        "print(a, b, c)"
      ],
      "execution_count": 35,
      "outputs": [
        {
          "output_type": "stream",
          "text": [
            "8 9.059999999999999 3\n"
          ],
          "name": "stdout"
        }
      ]
    },
    {
      "cell_type": "markdown",
      "metadata": {
        "id": "hgqPhsKhAQma"
      },
      "source": [
        "RESTAR DOS VARIABLES"
      ]
    },
    {
      "cell_type": "code",
      "metadata": {
        "colab": {
          "base_uri": "https://localhost:8080/"
        },
        "id": "eFIH3lb5APbc",
        "outputId": "f9893010-7194-4c70-c89d-e3ba11ccd277"
      },
      "source": [
        "vida = 100\n",
        "daño = 25\n",
        "\n",
        "print (vida - daño)\n",
        "type(vida)"
      ],
      "execution_count": 37,
      "outputs": [
        {
          "output_type": "stream",
          "text": [
            "75\n"
          ],
          "name": "stdout"
        },
        {
          "output_type": "execute_result",
          "data": {
            "text/plain": [
              "int"
            ]
          },
          "metadata": {},
          "execution_count": 37
        }
      ]
    },
    {
      "cell_type": "markdown",
      "metadata": {
        "id": "f9VlU6J0BP8-"
      },
      "source": [
        "los SLICING son para agarrar indices "
      ]
    },
    {
      "cell_type": "code",
      "metadata": {
        "id": "tlvSdQZbBPJQ"
      },
      "source": [
        "#  con corchetes se toma un indice [] puede ser un grupo de caracteres\n",
        " # se forma con un INICIO un FINAL y un PASO ( es de cir,  cuanto me voy a saltar para agarrar el que se necesita)\n",
        "   # ejemplo [0:65:3] inicia en 3 va hasta 8 y me agarra cada 2 "
      ],
      "execution_count": null,
      "outputs": []
    },
    {
      "cell_type": "code",
      "metadata": {
        "colab": {
          "base_uri": "https://localhost:8080/"
        },
        "id": "-zkzE3T8DIo6",
        "outputId": "aa54d8ad-622f-4cb1-a35f-3e43e4cc8ac6"
      },
      "source": [
        "mi_ejemplo = \"este es un ejemplo de slicing en python para volvernos unos duros\"\n",
        "mi_ejemplo_separado = \"este es un ejemplo de slicing en python \\n para volvernos unos duros\" #  alt 90 \n",
        "print(mi_ejemplo)\n",
        "print(mi_ejemplo_separado)\n",
        "print(mi_ejemplo[0:65:3])\n",
        "print(len(mi_ejemplo))"
      ],
      "execution_count": 47,
      "outputs": [
        {
          "output_type": "stream",
          "text": [
            "este es un ejemplo de slicing en python para volvernos unos duros\n",
            "este es un ejemplo de slicing en python \n",
            " para volvernos unos duros\n",
            "eesnjp  ineph rvvn odo\n",
            "65\n"
          ],
          "name": "stdout"
        }
      ]
    },
    {
      "cell_type": "code",
      "metadata": {
        "colab": {
          "base_uri": "https://localhost:8080/"
        },
        "id": "wFOl-FYvHqHB",
        "outputId": "918298e9-cf86-46e4-84da-98d669c95194"
      },
      "source": [
        "name = \"san\"\n",
        "print(name)\n",
        "print(name[:])  # tambien [::]\n",
        "ultimas_letras = name[1:]\n",
        "print(ultimas_letras)\n",
        "print('p' + ultimas_letras)"
      ],
      "execution_count": 85,
      "outputs": [
        {
          "output_type": "stream",
          "text": [
            "san\n",
            "san\n",
            "an\n",
            "pan\n"
          ],
          "name": "stdout"
        }
      ]
    },
    {
      "cell_type": "code",
      "metadata": {
        "id": "Yh3nMXYhJpJJ"
      },
      "source": [
        ""
      ],
      "execution_count": null,
      "outputs": []
    },
    {
      "cell_type": "code",
      "metadata": {
        "colab": {
          "base_uri": "https://localhost:8080/"
        },
        "id": "KnP-1TGBLq7_",
        "outputId": "fe7c863a-beee-4112-8372-cb13a651ec0a"
      },
      "source": [
        "name = ['sam']\n",
        "name[0] = 'p'\n",
        "print(name)"
      ],
      "execution_count": 68,
      "outputs": [
        {
          "output_type": "stream",
          "text": [
            "['p']\n"
          ],
          "name": "stdout"
        }
      ]
    },
    {
      "cell_type": "code",
      "metadata": {
        "colab": {
          "base_uri": "https://localhost:8080/"
        },
        "id": "W711k5u5Mp1Z",
        "outputId": "c118b25d-7835-444e-8aff-1b79c5375310"
      },
      "source": [
        "name = ['s','a','m']\n",
        "name[0] = 'p'\n",
        "print(name)"
      ],
      "execution_count": 65,
      "outputs": [
        {
          "output_type": "stream",
          "text": [
            "['p', 'a', 'm']\n"
          ],
          "name": "stdout"
        }
      ]
    },
    {
      "cell_type": "code",
      "metadata": {
        "colab": {
          "base_uri": "https://localhost:8080/"
        },
        "id": "GpCFU-EtOB1U",
        "outputId": "3a2d26cf-8bc4-419a-df47-3c35ad4532ea"
      },
      "source": [
        "name = \"san\"\n",
        "print(name)\n",
        "print(name[:])\n",
        "ultimas_letras = name[1:]\n",
        "print(ultimas_letras)\n",
        "print('p' + ultimas_letras) # cambia la s por p"
      ],
      "execution_count": 80,
      "outputs": [
        {
          "output_type": "stream",
          "text": [
            "san\n",
            "san\n",
            "an\n",
            "pan\n"
          ],
          "name": "stdout"
        }
      ]
    },
    {
      "cell_type": "markdown",
      "metadata": {
        "id": "BsNrvZpOG7c8"
      },
      "source": [
        "MULTIPLICAR CARACTERES "
      ]
    },
    {
      "cell_type": "code",
      "metadata": {
        "colab": {
          "base_uri": "https://localhost:8080/"
        },
        "id": "HiUejyc0wXWX",
        "outputId": "e15b60aa-30b1-4386-9f72-0a3b15528775"
      },
      "source": [
        "letra = 'j'\n",
        "muchas_letras = letra * 20\n",
        "print(muchas_letras)"
      ],
      "execution_count": 83,
      "outputs": [
        {
          "output_type": "stream",
          "text": [
            "jjjjjjjjjjjjjjjjjjjj\n"
          ],
          "name": "stdout"
        }
      ]
    },
    {
      "cell_type": "markdown",
      "metadata": {
        "id": "RJnEaTueHn7V"
      },
      "source": [
        "pasar de MINUSCULAS a MAYUSCULAS "
      ]
    },
    {
      "cell_type": "code",
      "metadata": {
        "colab": {
          "base_uri": "https://localhost:8080/"
        },
        "id": "y5LqJMjnHzsD",
        "outputId": "83897c3c-cb32-4af1-9e33-a087b93a7892"
      },
      "source": [
        "palabra_mayuscula = 'paLaBra Minuscula'\n",
        "palabra_M = palabra_mayuscula.upper()\n",
        "print(palabra_M) "
      ],
      "execution_count": 91,
      "outputs": [
        {
          "output_type": "stream",
          "text": [
            "PALABRA MINUSCULA\n"
          ],
          "name": "stdout"
        }
      ]
    },
    {
      "cell_type": "code",
      "metadata": {
        "colab": {
          "base_uri": "https://localhost:8080/"
        },
        "id": "fDUlW0tkLLZV",
        "outputId": "7c145e00-0074-4cc8-c4c1-65189d59707c"
      },
      "source": [
        "palabra_minuscula = 'paLaBra Minuscula'\n",
        "palabra_m = palabra_minuscula.lower()\n",
        "print(palabra_m) "
      ],
      "execution_count": 92,
      "outputs": [
        {
          "output_type": "stream",
          "text": [
            "palabra minuscula\n"
          ],
          "name": "stdout"
        }
      ]
    },
    {
      "cell_type": "code",
      "metadata": {
        "colab": {
          "base_uri": "https://localhost:8080/"
        },
        "id": "iMJAgtN7LuBc",
        "outputId": "113d21f1-9657-4850-8492-eeaf0affc81d"
      },
      "source": [
        "concatenar = '2' + '3'\n",
        "print(concatenar) # tener cuidado con el resultado mostrado al pasar de texto a numeros"
      ],
      "execution_count": 94,
      "outputs": [
        {
          "output_type": "stream",
          "text": [
            "23\n"
          ],
          "name": "stdout"
        }
      ]
    },
    {
      "cell_type": "markdown",
      "metadata": {
        "id": "F70kOEdAOh7o"
      },
      "source": [
        "para SEPARAR PALABRAS"
      ]
    },
    {
      "cell_type": "code",
      "metadata": {
        "colab": {
          "base_uri": "https://localhost:8080/"
        },
        "id": "a3LmG2CyMNII",
        "outputId": "22010aff-7820-42bd-afe8-27aa28949f7e"
      },
      "source": [
        "separar_palabras = \"juan carlos el gambler\"\n",
        "separar_palabras = separar_palabras.split('a')\n",
        "print(separar_palabras)"
      ],
      "execution_count": 107,
      "outputs": [
        {
          "output_type": "stream",
          "text": [
            "['ju', 'n c', 'rlos el g', 'mbler']\n"
          ],
          "name": "stdout"
        }
      ]
    },
    {
      "cell_type": "markdown",
      "metadata": {
        "id": "vPnyJKD8O_F8"
      },
      "source": [
        ""
      ]
    },
    {
      "cell_type": "markdown",
      "metadata": {
        "id": "ifW_w4aWPLkj"
      },
      "source": [
        "separa cuando tiene una barra \n"
      ]
    },
    {
      "cell_type": "code",
      "metadata": {
        "colab": {
          "base_uri": "https://localhost:8080/"
        },
        "id": "KJHAoynxPRO9",
        "outputId": "bf83b099-8a7c-45fe-ec5e-d1eaed5a69b2"
      },
      "source": [
        "barra = \"juan carlos el soñador \"\n",
        "barra = barra.split('│')  # pendiente la funcion de la barra\n",
        "print(barra)\n"
      ],
      "execution_count": 114,
      "outputs": [
        {
          "output_type": "stream",
          "text": [
            "['juan carlos el soñador ']\n"
          ],
          "name": "stdout"
        }
      ]
    },
    {
      "cell_type": "markdown",
      "metadata": {
        "id": "fKPHuZRmRhGF"
      },
      "source": [
        "utilización de la función .FORMAT"
      ]
    },
    {
      "cell_type": "code",
      "metadata": {
        "colab": {
          "base_uri": "https://localhost:8080/"
        },
        "id": "uMT8WHz6RuZW",
        "outputId": "13afff9a-8333-4521-cd89-8d68ccb72cab"
      },
      "source": [
        "print(\"de esta manera podemos insertar {}\".format('texto'))"
      ],
      "execution_count": 118,
      "outputs": [
        {
          "output_type": "stream",
          "text": [
            "de esta manera podemos insertar texto\n"
          ],
          "name": "stdout"
        }
      ]
    },
    {
      "cell_type": "code",
      "metadata": {
        "colab": {
          "base_uri": "https://localhost:8080/"
        },
        "id": "fWc48QegTWEi",
        "outputId": "098cd4b8-240c-45a6-efb3-2722473f349e"
      },
      "source": [
        "print( \"de {} manera {} insertar lo que {}\".format('esta','podemos','queramos'))"
      ],
      "execution_count": 120,
      "outputs": [
        {
          "output_type": "stream",
          "text": [
            "de esta manera podemos insertar lo que queramos\n"
          ],
          "name": "stdout"
        }
      ]
    },
    {
      "cell_type": "code",
      "metadata": {
        "colab": {
          "base_uri": "https://localhost:8080/"
        },
        "id": "QZNpOI5lU91y",
        "outputId": "cde634a1-b6df-46c9-c128-8902b221536c"
      },
      "source": [
        "print( \"de {0} manera {1} insertar lo que {2}\".format('esta','podemos','queramos')) # insertamos por indice"
      ],
      "execution_count": 134,
      "outputs": [
        {
          "output_type": "stream",
          "text": [
            "de esta manera podemos insertar lo que queramos\n"
          ],
          "name": "stdout"
        }
      ]
    },
    {
      "cell_type": "code",
      "metadata": {
        "colab": {
          "base_uri": "https://localhost:8080/"
        },
        "id": "z936iNZfWz4Z",
        "outputId": "4253573b-aed7-49b4-e183-c0a890c74841"
      },
      "source": [
        "print( \"de {e} manera {p} insertar lo que {q}\".format(e='esta',p='podemos',q='queramos')) # insertamos por variable"
      ],
      "execution_count": 137,
      "outputs": [
        {
          "output_type": "stream",
          "text": [
            "de esta manera podemos insertar lo que queramos\n"
          ],
          "name": "stdout"
        }
      ]
    },
    {
      "cell_type": "code",
      "metadata": {
        "colab": {
          "base_uri": "https://localhost:8080/"
        },
        "id": "CIUYNZp7XsfJ",
        "outputId": "7959bf28-bbb8-41c4-a15b-2a61384c94de"
      },
      "source": [
        "decimales = 100/888 # se concatena un float\n",
        "print(decimales)\n",
        "# el 1 (width) es el valor y el 3 es la precisión (f)\n",
        "print(\"el resultado es {d:1.3f}\".format(d=decimales))"
      ],
      "execution_count": 146,
      "outputs": [
        {
          "output_type": "stream",
          "text": [
            "0.11261261261261261\n",
            "el resultado es 0.113\n"
          ],
          "name": "stdout"
        }
      ]
    },
    {
      "cell_type": "code",
      "metadata": {
        "colab": {
          "base_uri": "https://localhost:8080/"
        },
        "id": "jUz2kprvbaER",
        "outputId": "75f9599f-6527-444d-a622-4d0302683ff4"
      },
      "source": [
        "nombre = 'juan carlos'\n",
        "edad = 50 \n",
        "print(\"mi nombre es {}\".format(nombre))\n",
        "print(f\"mi nombre es {nombre} y mi edad es {edad} años\")"
      ],
      "execution_count": 156,
      "outputs": [
        {
          "output_type": "stream",
          "text": [
            "mi nombre es juan carlos\n",
            "mi nombre es juan carlos y mi edad es 50 años\n"
          ],
          "name": "stdout"
        }
      ]
    }
  ]
}