{
  "nbformat": 4,
  "nbformat_minor": 0,
  "metadata": {
    "colab": {
      "name": "numeros_slicing.ipynb",
      "provenance": [],
      "authorship_tag": "ABX9TyMRR0+zB8g7I6tiQ4YK3T3F",
      "include_colab_link": true
    },
    "kernelspec": {
      "name": "python3",
      "display_name": "Python 3"
    },
    "language_info": {
      "name": "python"
    }
  },
  "cells": [
    {
      "cell_type": "markdown",
      "metadata": {
        "id": "view-in-github",
        "colab_type": "text"
      },
      "source": [
        "<a href=\"https://colab.research.google.com/github/pleimi/cursos_Jeff_Heaton_Washinton_University_leccion1/blob/main/numeros_slicing.ipynb\" target=\"_parent\"><img src=\"https://colab.research.google.com/assets/colab-badge.svg\" alt=\"Open In Colab\"/></a>"
      ]
    },
    {
      "cell_type": "code",
      "metadata": {
        "colab": {
          "base_uri": "https://localhost:8080/"
        },
        "id": "8GrAZdWZ2sGk",
        "outputId": "56c3cb10-7c9f-471c-ad14-ea3cc4536877"
      },
      "source": [
        "a = 4+4  # referencia: https://www.youtube.com/watch?v=ppz1e_ceeIw\n",
        "\n",
        "b = 4.5 + 4.56\n",
        "\n",
        "c = 7 % 4 # dividir por el modulos es para saber cuanto sobra ( asi sabemos si es par o impar )\n",
        "\n",
        "\n",
        "print(a, b, c)"
      ],
      "execution_count": null,
      "outputs": [
        {
          "output_type": "stream",
          "text": [
            "8 9.059999999999999 3\n"
          ],
          "name": "stdout"
        }
      ]
    },
    {
      "cell_type": "markdown",
      "metadata": {
        "id": "hgqPhsKhAQma"
      },
      "source": [
        "RESTAR DOS VARIABLES"
      ]
    },
    {
      "cell_type": "code",
      "metadata": {
        "colab": {
          "base_uri": "https://localhost:8080/"
        },
        "id": "eFIH3lb5APbc",
        "outputId": "f9893010-7194-4c70-c89d-e3ba11ccd277"
      },
      "source": [
        "vida = 100\n",
        "daño = 25\n",
        "\n",
        "print (vida - daño)\n",
        "type(vida)"
      ],
      "execution_count": null,
      "outputs": [
        {
          "output_type": "stream",
          "text": [
            "75\n"
          ],
          "name": "stdout"
        },
        {
          "output_type": "execute_result",
          "data": {
            "text/plain": [
              "int"
            ]
          },
          "metadata": {},
          "execution_count": 37
        }
      ]
    },
    {
      "cell_type": "markdown",
      "metadata": {
        "id": "f9VlU6J0BP8-"
      },
      "source": [
        "los SLICING son para agarrar indices "
      ]
    },
    {
      "cell_type": "code",
      "metadata": {
        "id": "tlvSdQZbBPJQ"
      },
      "source": [
        "#  con corchetes se toma un indice [] puede ser un grupo de caracteres\n",
        " # se forma con un INICIO un FINAL y un PASO ( es de cir,  cuanto me voy a saltar para agarrar el que se necesita)\n",
        "   # ejemplo [0:65:3] inicia en 3 va hasta 8 y me agarra cada 2 "
      ],
      "execution_count": null,
      "outputs": []
    },
    {
      "cell_type": "code",
      "metadata": {
        "colab": {
          "base_uri": "https://localhost:8080/"
        },
        "id": "-zkzE3T8DIo6",
        "outputId": "aa54d8ad-622f-4cb1-a35f-3e43e4cc8ac6"
      },
      "source": [
        "mi_ejemplo = \"este es un ejemplo de slicing en python para volvernos unos duros\"\n",
        "mi_ejemplo_separado = \"este es un ejemplo de slicing en python \\n para volvernos unos duros\" #  alt 90 \n",
        "print(mi_ejemplo)\n",
        "print(mi_ejemplo_separado)\n",
        "print(mi_ejemplo[0:65:3])\n",
        "print(len(mi_ejemplo))"
      ],
      "execution_count": null,
      "outputs": [
        {
          "output_type": "stream",
          "text": [
            "este es un ejemplo de slicing en python para volvernos unos duros\n",
            "este es un ejemplo de slicing en python \n",
            " para volvernos unos duros\n",
            "eesnjp  ineph rvvn odo\n",
            "65\n"
          ],
          "name": "stdout"
        }
      ]
    },
    {
      "cell_type": "code",
      "metadata": {
        "colab": {
          "base_uri": "https://localhost:8080/"
        },
        "id": "wFOl-FYvHqHB",
        "outputId": "918298e9-cf86-46e4-84da-98d669c95194"
      },
      "source": [
        "name = \"san\"\n",
        "print(name)\n",
        "print(name[:])  # tambien [::]\n",
        "ultimas_letras = name[1:]\n",
        "print(ultimas_letras)\n",
        "print('p' + ultimas_letras)"
      ],
      "execution_count": null,
      "outputs": [
        {
          "output_type": "stream",
          "text": [
            "san\n",
            "san\n",
            "an\n",
            "pan\n"
          ],
          "name": "stdout"
        }
      ]
    },
    {
      "cell_type": "code",
      "metadata": {
        "id": "Yh3nMXYhJpJJ"
      },
      "source": [
        ""
      ],
      "execution_count": null,
      "outputs": []
    },
    {
      "cell_type": "code",
      "metadata": {
        "colab": {
          "base_uri": "https://localhost:8080/"
        },
        "id": "KnP-1TGBLq7_",
        "outputId": "fe7c863a-beee-4112-8372-cb13a651ec0a"
      },
      "source": [
        "name = ['sam']\n",
        "name[0] = 'p'\n",
        "print(name)"
      ],
      "execution_count": null,
      "outputs": [
        {
          "output_type": "stream",
          "text": [
            "['p']\n"
          ],
          "name": "stdout"
        }
      ]
    },
    {
      "cell_type": "code",
      "metadata": {
        "colab": {
          "base_uri": "https://localhost:8080/"
        },
        "id": "W711k5u5Mp1Z",
        "outputId": "c118b25d-7835-444e-8aff-1b79c5375310"
      },
      "source": [
        "name = ['s','a','m']\n",
        "name[0] = 'p'\n",
        "print(name)"
      ],
      "execution_count": null,
      "outputs": [
        {
          "output_type": "stream",
          "text": [
            "['p', 'a', 'm']\n"
          ],
          "name": "stdout"
        }
      ]
    },
    {
      "cell_type": "code",
      "metadata": {
        "colab": {
          "base_uri": "https://localhost:8080/"
        },
        "id": "GpCFU-EtOB1U",
        "outputId": "3a2d26cf-8bc4-419a-df47-3c35ad4532ea"
      },
      "source": [
        "name = \"san\"\n",
        "print(name)\n",
        "print(name[:])\n",
        "ultimas_letras = name[1:]\n",
        "print(ultimas_letras)\n",
        "print('p' + ultimas_letras) # cambia la s por p"
      ],
      "execution_count": null,
      "outputs": [
        {
          "output_type": "stream",
          "text": [
            "san\n",
            "san\n",
            "an\n",
            "pan\n"
          ],
          "name": "stdout"
        }
      ]
    },
    {
      "cell_type": "markdown",
      "metadata": {
        "id": "BsNrvZpOG7c8"
      },
      "source": [
        "MULTIPLICAR CARACTERES "
      ]
    },
    {
      "cell_type": "code",
      "metadata": {
        "colab": {
          "base_uri": "https://localhost:8080/"
        },
        "id": "HiUejyc0wXWX",
        "outputId": "e15b60aa-30b1-4386-9f72-0a3b15528775"
      },
      "source": [
        "letra = 'j'\n",
        "muchas_letras = letra * 20\n",
        "print(muchas_letras)"
      ],
      "execution_count": null,
      "outputs": [
        {
          "output_type": "stream",
          "text": [
            "jjjjjjjjjjjjjjjjjjjj\n"
          ],
          "name": "stdout"
        }
      ]
    },
    {
      "cell_type": "markdown",
      "metadata": {
        "id": "RJnEaTueHn7V"
      },
      "source": [
        "pasar de MINUSCULAS a MAYUSCULAS "
      ]
    },
    {
      "cell_type": "code",
      "metadata": {
        "colab": {
          "base_uri": "https://localhost:8080/"
        },
        "id": "y5LqJMjnHzsD",
        "outputId": "83897c3c-cb32-4af1-9e33-a087b93a7892"
      },
      "source": [
        "palabra_mayuscula = 'paLaBra Minuscula'\n",
        "palabra_M = palabra_mayuscula.upper()\n",
        "print(palabra_M) "
      ],
      "execution_count": null,
      "outputs": [
        {
          "output_type": "stream",
          "text": [
            "PALABRA MINUSCULA\n"
          ],
          "name": "stdout"
        }
      ]
    },
    {
      "cell_type": "code",
      "metadata": {
        "colab": {
          "base_uri": "https://localhost:8080/"
        },
        "id": "fDUlW0tkLLZV",
        "outputId": "7c145e00-0074-4cc8-c4c1-65189d59707c"
      },
      "source": [
        "palabra_minuscula = 'paLaBra Minuscula'\n",
        "palabra_m = palabra_minuscula.lower()\n",
        "print(palabra_m) "
      ],
      "execution_count": null,
      "outputs": [
        {
          "output_type": "stream",
          "text": [
            "palabra minuscula\n"
          ],
          "name": "stdout"
        }
      ]
    },
    {
      "cell_type": "code",
      "metadata": {
        "colab": {
          "base_uri": "https://localhost:8080/"
        },
        "id": "iMJAgtN7LuBc",
        "outputId": "113d21f1-9657-4850-8492-eeaf0affc81d"
      },
      "source": [
        "concatenar = '2' + '3'\n",
        "print(concatenar) # tener cuidado con el resultado mostrado al pasar de texto a numeros"
      ],
      "execution_count": null,
      "outputs": [
        {
          "output_type": "stream",
          "text": [
            "23\n"
          ],
          "name": "stdout"
        }
      ]
    },
    {
      "cell_type": "markdown",
      "metadata": {
        "id": "F70kOEdAOh7o"
      },
      "source": [
        "para SEPARAR PALABRAS"
      ]
    },
    {
      "cell_type": "code",
      "metadata": {
        "colab": {
          "base_uri": "https://localhost:8080/"
        },
        "id": "a3LmG2CyMNII",
        "outputId": "22010aff-7820-42bd-afe8-27aa28949f7e"
      },
      "source": [
        "separar_palabras = \"juan carlos el gambler\"\n",
        "separar_palabras = separar_palabras.split('a')\n",
        "print(separar_palabras)"
      ],
      "execution_count": null,
      "outputs": [
        {
          "output_type": "stream",
          "text": [
            "['ju', 'n c', 'rlos el g', 'mbler']\n"
          ],
          "name": "stdout"
        }
      ]
    },
    {
      "cell_type": "markdown",
      "metadata": {
        "id": "vPnyJKD8O_F8"
      },
      "source": [
        ""
      ]
    },
    {
      "cell_type": "markdown",
      "metadata": {
        "id": "ifW_w4aWPLkj"
      },
      "source": [
        "separa cuando tiene una barra \n"
      ]
    },
    {
      "cell_type": "code",
      "metadata": {
        "colab": {
          "base_uri": "https://localhost:8080/"
        },
        "id": "KJHAoynxPRO9",
        "outputId": "bf83b099-8a7c-45fe-ec5e-d1eaed5a69b2"
      },
      "source": [
        "barra = \"juan carlos el soñador \"\n",
        "barra = barra.split('│')  # pendiente la funcion de la barra\n",
        "print(barra)\n"
      ],
      "execution_count": null,
      "outputs": [
        {
          "output_type": "stream",
          "text": [
            "['juan carlos el soñador ']\n"
          ],
          "name": "stdout"
        }
      ]
    },
    {
      "cell_type": "markdown",
      "metadata": {
        "id": "fKPHuZRmRhGF"
      },
      "source": [
        "utilización de la función .FORMAT"
      ]
    },
    {
      "cell_type": "code",
      "metadata": {
        "colab": {
          "base_uri": "https://localhost:8080/"
        },
        "id": "uMT8WHz6RuZW",
        "outputId": "13afff9a-8333-4521-cd89-8d68ccb72cab"
      },
      "source": [
        "print(\"de esta manera podemos insertar {}\".format('texto'))"
      ],
      "execution_count": null,
      "outputs": [
        {
          "output_type": "stream",
          "text": [
            "de esta manera podemos insertar texto\n"
          ],
          "name": "stdout"
        }
      ]
    },
    {
      "cell_type": "code",
      "metadata": {
        "colab": {
          "base_uri": "https://localhost:8080/"
        },
        "id": "fWc48QegTWEi",
        "outputId": "098cd4b8-240c-45a6-efb3-2722473f349e"
      },
      "source": [
        "print( \"de {} manera {} insertar lo que {}\".format('esta','podemos','queramos'))"
      ],
      "execution_count": null,
      "outputs": [
        {
          "output_type": "stream",
          "text": [
            "de esta manera podemos insertar lo que queramos\n"
          ],
          "name": "stdout"
        }
      ]
    },
    {
      "cell_type": "code",
      "metadata": {
        "colab": {
          "base_uri": "https://localhost:8080/"
        },
        "id": "QZNpOI5lU91y",
        "outputId": "cde634a1-b6df-46c9-c128-8902b221536c"
      },
      "source": [
        "print( \"de {0} manera {1} insertar lo que {2}\".format('esta','podemos','queramos')) # insertamos por indice"
      ],
      "execution_count": null,
      "outputs": [
        {
          "output_type": "stream",
          "text": [
            "de esta manera podemos insertar lo que queramos\n"
          ],
          "name": "stdout"
        }
      ]
    },
    {
      "cell_type": "code",
      "metadata": {
        "colab": {
          "base_uri": "https://localhost:8080/"
        },
        "id": "z936iNZfWz4Z",
        "outputId": "4253573b-aed7-49b4-e183-c0a890c74841"
      },
      "source": [
        "print( \"de {e} manera {p} insertar lo que {q}\".format(e='esta',p='podemos',q='queramos')) # insertamos por variable"
      ],
      "execution_count": null,
      "outputs": [
        {
          "output_type": "stream",
          "text": [
            "de esta manera podemos insertar lo que queramos\n"
          ],
          "name": "stdout"
        }
      ]
    },
    {
      "cell_type": "code",
      "metadata": {
        "colab": {
          "base_uri": "https://localhost:8080/"
        },
        "id": "CIUYNZp7XsfJ",
        "outputId": "7959bf28-bbb8-41c4-a15b-2a61384c94de"
      },
      "source": [
        "decimales = 100/888 # se concatena un float\n",
        "print(decimales)\n",
        "# el 1 (width) es el valor y el 3 es la precisión (f)\n",
        "print(\"el resultado es {d:1.3f}\".format(d=decimales))"
      ],
      "execution_count": null,
      "outputs": [
        {
          "output_type": "stream",
          "text": [
            "0.11261261261261261\n",
            "el resultado es 0.113\n"
          ],
          "name": "stdout"
        }
      ]
    },
    {
      "cell_type": "code",
      "metadata": {
        "colab": {
          "base_uri": "https://localhost:8080/"
        },
        "id": "jUz2kprvbaER",
        "outputId": "75f9599f-6527-444d-a622-4d0302683ff4"
      },
      "source": [
        "nombre = 'juan carlos'\n",
        "edad = 50 \n",
        "print(\"mi nombre es {}\".format(nombre))\n",
        "print(f\"mi nombre es {nombre} y mi edad es {edad} años\")"
      ],
      "execution_count": null,
      "outputs": [
        {
          "output_type": "stream",
          "text": [
            "mi nombre es juan carlos\n",
            "mi nombre es juan carlos y mi edad es 50 años\n"
          ],
          "name": "stdout"
        }
      ]
    },
    {
      "cell_type": "markdown",
      "metadata": {
        "id": "0A540fz6e2DV"
      },
      "source": [
        "LISTAS; son secuencias MUTABLES, se utilizan los corchetes alt 91/93"
      ]
    },
    {
      "cell_type": "code",
      "metadata": {
        "colab": {
          "base_uri": "https://localhost:8080/"
        },
        "id": "X3vM9RdIffRy",
        "outputId": "b5adeecb-13be-4473-c224-d68adb7c850d"
      },
      "source": [
        "lista_de_prueba = [1,2,3]\n",
        "print(lista_de_prueba)"
      ],
      "execution_count": null,
      "outputs": [
        {
          "output_type": "stream",
          "text": [
            "[1, 2, 3]\n"
          ],
          "name": "stdout"
        }
      ]
    },
    {
      "cell_type": "code",
      "metadata": {
        "colab": {
          "base_uri": "https://localhost:8080/"
        },
        "id": "zQBzsWE5gBXP",
        "outputId": "b75ea235-9a66-4659-d5e9-20b9524e5ed5"
      },
      "source": [
        "lista_de_prueba = [\"cadena\",1,2,3]\n",
        "print(lista_de_prueba)\n",
        "lista_de_prueba = [\"cadena\",1,2,3]\n",
        "print(len(lista_de_prueba))  # muestra la longitud (cantidad de elementos) de la lista"
      ],
      "execution_count": null,
      "outputs": [
        {
          "output_type": "stream",
          "text": [
            "['cadena', 1, 2, 3]\n",
            "4\n"
          ],
          "name": "stdout"
        }
      ]
    },
    {
      "cell_type": "code",
      "metadata": {
        "colab": {
          "base_uri": "https://localhost:8080/"
        },
        "id": "7FfF1ru_g1id",
        "outputId": "f1389444-e219-4135-d8c0-d68fc70369e8"
      },
      "source": [
        "lista_de_prueba = ['uno''dos''tres']\n",
        "print(lista_de_prueba)\n",
        "lista_de_prueba = ['uno','dos','tres']\n",
        "print(lista_de_prueba)\n",
        "lista_de_prueba_con_5 = ['uno','dos','tres','cuatro','cinco']\n",
        "print(lista_de_prueba_con_5)\n",
        "print(lista_de_prueba_con_5[2:]) # hacemos slicing desde el indice 2\n"
      ],
      "execution_count": null,
      "outputs": [
        {
          "output_type": "stream",
          "text": [
            "['unodostres']\n",
            "['uno', 'dos', 'tres']\n",
            "['uno', 'dos', 'tres', 'cuatro', 'cinco']\n",
            "['tres', 'cuatro', 'cinco']\n"
          ],
          "name": "stdout"
        }
      ]
    },
    {
      "cell_type": "code",
      "metadata": {
        "colab": {
          "base_uri": "https://localhost:8080/"
        },
        "id": "dd5m3E0chsVw",
        "outputId": "0b34c133-0621-45cf-c005-cb530682d702"
      },
      "source": [
        "lista1 = ['uno','dos','tres']\n",
        "print(lista1)\n",
        "lista2 = ['cuatro','cinco','seis']\n",
        "print(lista2)\n",
        "nueva_lista = lista1 + lista2  # concatena listas \n",
        "print(nueva_lista)\n",
        "nueva_lista.copy\n",
        "print(nueva_lista)\n",
        "nueva_lista [1] = 'juan carlos' # reemplazamos de la lista el indice 1, es decir el item 'dos'\n",
        "print(nueva_lista)\n",
        "nueva_lista.append(3) # agrega un item al final de la lista\n",
        "print(nueva_lista)\n",
        "nueva_lista.clear() # vacia la lista\n",
        "print(nueva_lista)\n",
        "\n"
      ],
      "execution_count": null,
      "outputs": [
        {
          "output_type": "stream",
          "text": [
            "['uno', 'dos', 'tres']\n",
            "['cuatro', 'cinco', 'seis']\n",
            "['uno', 'dos', 'tres', 'cuatro', 'cinco', 'seis']\n",
            "['uno', 'dos', 'tres', 'cuatro', 'cinco', 'seis']\n",
            "['uno', 'juan carlos', 'tres', 'cuatro', 'cinco', 'seis']\n",
            "['uno', 'juan carlos', 'tres', 'cuatro', 'cinco', 'seis', 3]\n",
            "[]\n"
          ],
          "name": "stdout"
        }
      ]
    },
    {
      "cell_type": "code",
      "metadata": {
        "colab": {
          "base_uri": "https://localhost:8080/"
        },
        "id": "KWa71lcImTVf",
        "outputId": "759e85b1-587c-4709-e66a-bb81e57b8296"
      },
      "source": [
        "lista1 = ['uno','dos','tres']\n",
        "print(lista1)\n",
        "lista1.pop()\n",
        "print(lista1)\n",
        "item_popeado = lista1.pop(-1)\n",
        "print(item_popeado)\n",
        "lista1.insert(0,'1')\n",
        "print(lista1)\n",
        "lista1.remove('uno')\n",
        "print(lista1)\n",
        "lista1.extend('cuatrocientos')\n",
        "print(lista1)\n",
        "lista1.append('cuatro')\n",
        "print(lista1)\n",
        "lista1.count('cuatros')\n",
        "\n",
        "\n",
        "\n"
      ],
      "execution_count": null,
      "outputs": [
        {
          "output_type": "stream",
          "text": [
            "['uno', 'dos', 'tres']\n",
            "['uno', 'dos']\n",
            "dos\n",
            "['1', 'uno']\n",
            "['1']\n",
            "['1', 'c', 'u', 'a', 't', 'r', 'o', 'c', 'i', 'e', 'n', 't', 'o', 's']\n",
            "['1', 'c', 'u', 'a', 't', 'r', 'o', 'c', 'i', 'e', 'n', 't', 'o', 's', 'cuatro']\n"
          ],
          "name": "stdout"
        },
        {
          "output_type": "execute_result",
          "data": {
            "text/plain": [
              "0"
            ]
          },
          "metadata": {},
          "execution_count": 1
        }
      ]
    },
    {
      "cell_type": "markdown",
      "metadata": {
        "id": "PY9c4uS-HLLj"
      },
      "source": [
        "DICCIONARIOS mapeos desordenados para guardar objetos En lugar de indece se busca es por clave"
      ]
    },
    {
      "cell_type": "code",
      "metadata": {
        "colab": {
          "base_uri": "https://localhost:8080/"
        },
        "id": "FKm1gC_QG3hT",
        "outputId": "c64dd483-d1b6-4096-febf-7b489f39e0b8"
      },
      "source": [
        "diccionario1 = {'clave1':'valor1','clave2':'valor2','clave3':'valor3'}\n",
        "print(diccionario1)"
      ],
      "execution_count": null,
      "outputs": [
        {
          "output_type": "stream",
          "text": [
            "{'clave1': 'valor1', 'clave2': 'valor2', 'clave3': 'valor3'}\n"
          ],
          "name": "stdout"
        }
      ]
    },
    {
      "cell_type": "code",
      "metadata": {
        "colab": {
          "base_uri": "https://localhost:8080/"
        },
        "id": "gIIiR_fBI6ls",
        "outputId": "d0528fea-af19-4345-f4be-5f367f36a652"
      },
      "source": [
        "print(diccionario1['clave1'])"
      ],
      "execution_count": null,
      "outputs": [
        {
          "output_type": "stream",
          "text": [
            "valor1\n"
          ],
          "name": "stdout"
        }
      ]
    },
    {
      "cell_type": "code",
      "metadata": {
        "colab": {
          "base_uri": "https://localhost:8080/"
        },
        "id": "ja-JT7YPLgYV",
        "outputId": "9e67fdf2-315b-48c5-faa8-e02a6bc82ec6"
      },
      "source": [
        "numeros = {'1':'uno','2':'dos','3':'tres','4':'cuatro','5':'cinco'}\n",
        "print(numeros)\n",
        "print(numeros['5'])\n",
        "diccionario = {'1':'uno','2':'dos','manzanas':'2:90','criptomonedas':['bitcoin','etherium'],'4':'cuatro','5':'cinco'}\n",
        "print(diccionario)  # se pueden insertar listas dentro de los diccionarios  \n",
        "print(diccionario['criptomonedas'][1].upper())\n",
        "diccionario ['gaseosa'] = 1000 # asi podemos AGREGAR VALORES al diccionario  y cambiar su valor \n",
        "print(diccionario) \n",
        "print(diccionario.keys()) # para ver TODAS LAS CLAVES\n",
        "print(diccionario.values()) #para ver TODOS LOS VALORES\n",
        "print(diccionario.items()) # me devuelve los elementos en PARENTESIS"
      ],
      "execution_count": null,
      "outputs": [
        {
          "output_type": "stream",
          "text": [
            "{'1': 'uno', '2': 'dos', '3': 'tres', '4': 'cuatro', '5': 'cinco'}\n",
            "cinco\n",
            "{'1': 'uno', '2': 'dos', 'manzanas': '2:90', 'criptomonedas': ['bitcoin', 'etherium'], '4': 'cuatro', '5': 'cinco'}\n",
            "ETHERIUM\n",
            "{'1': 'uno', '2': 'dos', 'manzanas': '2:90', 'criptomonedas': ['bitcoin', 'etherium'], '4': 'cuatro', '5': 'cinco', 'gaseosa': 1000}\n",
            "dict_keys(['1', '2', 'manzanas', 'criptomonedas', '4', '5', 'gaseosa'])\n",
            "dict_values(['uno', 'dos', '2:90', ['bitcoin', 'etherium'], 'cuatro', 'cinco', 1000])\n",
            "dict_items([('1', 'uno'), ('2', 'dos'), ('manzanas', '2:90'), ('criptomonedas', ['bitcoin', 'etherium']), ('4', 'cuatro'), ('5', 'cinco'), ('gaseosa', 1000)])\n"
          ],
          "name": "stdout"
        }
      ]
    },
    {
      "cell_type": "code",
      "metadata": {
        "id": "knBtznv4U1cS"
      },
      "source": [
        "TUPLAS se usa para no asignar items por error, los elementos no pueden ser re-asignados son INMUTABLES"
      ],
      "execution_count": null,
      "outputs": []
    },
    {
      "cell_type": "code",
      "metadata": {
        "colab": {
          "base_uri": "https://localhost:8080/"
        },
        "id": "_-VXwBLpVRV-",
        "outputId": "9990028d-cf8d-48f3-ea29-c0d480976af4"
      },
      "source": [
        "t = (1,4,3) # con parentesis es tupla \n",
        "m = ('a,a,b')\n",
        "print(m)\n",
        "print(m.count('a')) \n",
        "print(m.find('a')) \n",
        "print(t)\n",
        "\n",
        "t = [1,1,2,3] # con corchetes es LISTA\n",
        "print(t)\n",
        "print(t.count(1))\n"
      ],
      "execution_count": null,
      "outputs": [
        {
          "output_type": "stream",
          "text": [
            "a,a,b\n",
            "2\n",
            "0\n",
            "(1, 4, 3)\n",
            "[1, 1, 2, 3]\n",
            "2\n"
          ],
          "name": "stdout"
        }
      ]
    },
    {
      "cell_type": "markdown",
      "metadata": {
        "id": "RURe6iCUZir2"
      },
      "source": [
        "SET son listas donde los elementos NO se pueden REPETIR son valores únicos, me devuelve valores sin repetir, los SET no tienen orden "
      ]
    },
    {
      "cell_type": "code",
      "metadata": {
        "colab": {
          "base_uri": "https://localhost:8080/"
        },
        "id": "23gm5fl2a0AA",
        "outputId": "2c8f46fe-d5a2-46ca-b487-63fd513cda3a"
      },
      "source": [
        "mi_lista = [1111111111,'aaaaaaaa',2]\n",
        "mi_set = (1,1,1,1,1,33,33,1,'aa','a','a,a','aaa',2)  #es SET por que tiene parentesis como la tupla \n",
        "print(mi_lista)\n",
        "print(mi_set)\n",
        "print(set(mi_lista))\n",
        "#mi_set [4] = '34' # este es un error puesto que el SET NO PERMITE agregar por incide, la lista SI\n",
        "#mi_set.add(8)\n",
        "print(set(mi_set)) # muestra los elementos separados por coma, sir repetirlos "
      ],
      "execution_count": null,
      "outputs": [
        {
          "output_type": "stream",
          "text": [
            "[1111111111, 'aaaaaaaa', 2]\n",
            "(1, 1, 1, 1, 1, 33, 33, 1, 'aa', 'a', 'a,a', 'aaa', 2)\n",
            "{'aaaaaaaa', 2, 1111111111}\n",
            "{1, 33, 2, 'a', 'aaa', 'a,a', 'aa'}\n"
          ],
          "name": "stdout"
        }
      ]
    },
    {
      "cell_type": "markdown",
      "metadata": {
        "id": "10YBZiFAuwey"
      },
      "source": [
        "valores BOOLEANOS "
      ]
    },
    {
      "cell_type": "code",
      "metadata": {
        "id": "5d1F5tgbu0HL",
        "colab": {
          "base_uri": "https://localhost:8080/"
        },
        "outputId": "1c76cc0b-156b-4e31-b30e-f3e4059f3789"
      },
      "source": [
        "print(type(False)) # me dice que tipo de operador es, si False o TRUE"
      ],
      "execution_count": null,
      "outputs": [
        {
          "output_type": "stream",
          "text": [
            "<class 'bool'>\n"
          ],
          "name": "stdout"
        }
      ]
    },
    {
      "cell_type": "markdown",
      "metadata": {
        "id": "tsKhd-YfyMmg"
      },
      "source": [
        "OPERADORES DE COMPARACION "
      ]
    },
    {
      "cell_type": "code",
      "metadata": {
        "id": "YUSnnBS9wsWG",
        "colab": {
          "base_uri": "https://localhost:8080/"
        },
        "outputId": "5be1f5db-2c13-4a78-a67d-b33b511dda3a"
      },
      "source": [
        "print(1 > 3) # mayor que\n",
        "print(5 < 7) # menor que\n",
        "print(2 >= 2) # mayor o igual que\n",
        "print(3 <= 2) # menor o igual que \n",
        "print(5 == 5) # absolutamente igual ( cuando es solo un igual es por que el valor de la derecha se le esta asignando a una variable ej. x = 5 )\n",
        "print('hola' == 'hola') # me devuelve TRUE ( verdadero )"
      ],
      "execution_count": null,
      "outputs": [
        {
          "output_type": "stream",
          "text": [
            "False\n",
            "True\n",
            "True\n",
            "False\n",
            "True\n",
            "True\n"
          ],
          "name": "stdout"
        }
      ]
    },
    {
      "cell_type": "markdown",
      "metadata": {
        "id": "jAkIVvYM0NRY"
      },
      "source": [
        "OPERADORES LOGICOS ej. AND( y ), or ( o ), NOT (no) "
      ]
    },
    {
      "cell_type": "code",
      "metadata": {
        "id": "2pEoG9ebxRbr",
        "colab": {
          "base_uri": "https://localhost:8080/"
        },
        "outputId": "3e768575-05eb-400e-dae8-2e53e25702f1"
      },
      "source": [
        "print(1 < 2 and 2 < 3) # ambas condiciones son verdaderas\n",
        "print(4 == 4 or 't' == 'h') # es verdadero puesto que cualquiera de los 2 es verdadero ( TRUE)\n",
        "print(not 6 > 7) # el not me devuelve lo CONTRARIOde de la condicion, por eso en este caso es VERDADERO"
      ],
      "execution_count": null,
      "outputs": [
        {
          "output_type": "stream",
          "text": [
            "True\n",
            "True\n",
            "True\n"
          ],
          "name": "stdout"
        }
      ]
    },
    {
      "cell_type": "markdown",
      "metadata": {
        "id": "LWt3xhd-3M9g"
      },
      "source": [
        "DECLARACIONES se utilizan para controlar el flujo lógico del programa, tales como IF o también ELIF o tambien la condición ELSE si ninguan de las anteriores se da.  "
      ]
    },
    {
      "cell_type": "code",
      "metadata": {
        "id": "VuyhIY9y3w0L",
        "outputId": "35fccbd1-060d-4601-d5e1-b364e1cf4fbc",
        "colab": {
          "base_uri": "https://localhost:8080/"
        }
      },
      "source": [
        "hambre = True # en caso de que sea falso, False, mem mostraria else\n",
        "\n",
        "if hambre:\n",
        "  print(\"tenemos hambre\")\n",
        "else:\n",
        "  print(\"Estamos llenos\")"
      ],
      "execution_count": 6,
      "outputs": [
        {
          "output_type": "stream",
          "text": [
            "Estamos llenos\n"
          ],
          "name": "stdout"
        }
      ]
    },
    {
      "cell_type": "code",
      "metadata": {
        "id": "cecWAMYHJvX0",
        "outputId": "fb696d2f-5eeb-4299-a49f-63bcf2f4690c",
        "colab": {
          "base_uri": "https://localhost:8080/"
        }
      },
      "source": [
        "hambre = False\n",
        "sed = False\n",
        "\n",
        "if hambre and not sed:\n",
        "    print(\"tenemos hambre\")\n",
        "elif hambre == True and sed == True:\n",
        "    print(\"tenemos hambre y sed\")\n",
        "else:\n",
        "    print(\"estamos llenos\")\n"
      ],
      "execution_count": 34,
      "outputs": [
        {
          "output_type": "stream",
          "text": [
            "estamos llenos\n"
          ],
          "name": "stdout"
        }
      ]
    },
    {
      "cell_type": "markdown",
      "metadata": {
        "id": "G0AWcns7Pv51"
      },
      "source": [
        "ITERACION con el ciclo FOR"
      ]
    },
    {
      "cell_type": "code",
      "metadata": {
        "id": "YMvVyIpQQ4Ur",
        "outputId": "97c71093-4346-48a1-cd65-a70d59eb2924",
        "colab": {
          "base_uri": "https://localhost:8080/"
        }
      },
      "source": [
        "mi_lista = [1,3,4,5,6,7,8,9,10]\n",
        "\n",
        "for num in mi_lista:\n",
        "  print(num)"
      ],
      "execution_count": 40,
      "outputs": [
        {
          "output_type": "stream",
          "text": [
            "1\n",
            "3\n",
            "4\n",
            "5\n",
            "6\n",
            "7\n",
            "8\n",
            "9\n",
            "10\n"
          ],
          "name": "stdout"
        }
      ]
    },
    {
      "cell_type": "code",
      "metadata": {
        "id": "f7vQ65wKSvQq",
        "outputId": "bf6b2435-253b-4555-844c-8cb0caa3c6c1",
        "colab": {
          "base_uri": "https://localhost:8080/"
        }
      },
      "source": [
        "mi_lista = [1,3,4,5,6,7,8,9,10]\n",
        "\n",
        "for num in mi_lista:\n",
        "  print('hola')"
      ],
      "execution_count": 41,
      "outputs": [
        {
          "output_type": "stream",
          "text": [
            "hola\n",
            "hola\n",
            "hola\n",
            "hola\n",
            "hola\n",
            "hola\n",
            "hola\n",
            "hola\n",
            "hola\n"
          ],
          "name": "stdout"
        }
      ]
    },
    {
      "cell_type": "code",
      "metadata": {
        "id": "Jn-8nsyDRjxF"
      },
      "source": [
        "NUMEROS PARES"
      ],
      "execution_count": null,
      "outputs": []
    },
    {
      "cell_type": "markdown",
      "metadata": {
        "id": "Nau2srkOW_vL"
      },
      "source": [
        ""
      ]
    },
    {
      "cell_type": "code",
      "metadata": {
        "id": "6pnJ3o2KXD8-",
        "outputId": "bef22337-d24c-4e19-fd76-523331b19bcd",
        "colab": {
          "base_uri": "https://localhost:8080/"
        }
      },
      "source": [
        "mi_lista = [1,3,4,5,6,7,8,9,10]\n",
        "\n",
        "for num in mi_lista:\n",
        "  if num % 2 == 0:\n",
        "    print(\"numeros pares \") # muestra cuatro fraces iguales ya que hay 4 pares en la lista "
      ],
      "execution_count": 44,
      "outputs": [
        {
          "output_type": "stream",
          "text": [
            "numeros pares \n",
            "numeros pares \n",
            "numeros pares \n",
            "numeros pares \n"
          ],
          "name": "stdout"
        }
      ]
    },
    {
      "cell_type": "code",
      "metadata": {
        "id": "GKbuuFQwYZjP",
        "outputId": "e5de9731-0af7-494b-a4fd-67a6085a5a58",
        "colab": {
          "base_uri": "https://localhost:8080/"
        }
      },
      "source": [
        "mi_lista = [1,2,3,4,5,6,7,8,9,10]\n",
        "\n",
        "for num in mi_lista:\n",
        "  if num % 2 == 0: # extrae los numeros pares de la lista\n",
        "    print(num) "
      ],
      "execution_count": 45,
      "outputs": [
        {
          "output_type": "stream",
          "text": [
            "2\n",
            "4\n",
            "6\n",
            "8\n",
            "10\n"
          ],
          "name": "stdout"
        }
      ]
    },
    {
      "cell_type": "code",
      "metadata": {
        "id": "va6BSsgrZHls",
        "outputId": "d3c13b23-d0f6-4ccf-b610-4b9c36743ce3",
        "colab": {
          "base_uri": "https://localhost:8080/"
        }
      },
      "source": [
        "mi_lista = [1,2,3,4,5,6,7,8,9,10]\n",
        "\n",
        "for jamon in mi_lista:\n",
        "  if jamon % 2 == 0:\n",
        "    print(jamon)\n",
        "  else:\n",
        "    print(f'Estos son los numeros impares: {jamon}' )"
      ],
      "execution_count": 50,
      "outputs": [
        {
          "output_type": "stream",
          "text": [
            "Estos son los numeros impares: 1\n",
            "2\n",
            "Estos son los numeros impares: 3\n",
            "4\n",
            "Estos son los numeros impares: 5\n",
            "6\n",
            "Estos son los numeros impares: 7\n",
            "8\n",
            "Estos son los numeros impares: 9\n",
            "10\n"
          ],
          "name": "stdout"
        }
      ]
    },
    {
      "cell_type": "code",
      "metadata": {
        "id": "eXau_AE_adwq",
        "outputId": "eb1d838f-d348-43ab-e4e0-9addc655113d",
        "colab": {
          "base_uri": "https://localhost:8080/"
        }
      },
      "source": [
        "mi_lista = [1,2,3,4,5,6,7,8,9,10]\n",
        "\n",
        "suma_lista = 22 # convierte la lista a decena ej 1(10) o 2(20)... y le suma el valor asignado\n",
        "\n",
        "for tin in mi_lista:\n",
        "  suma_lista = suma_lista + num \n",
        "  print(suma_lista) \n",
        "\n"
      ],
      "execution_count": 85,
      "outputs": [
        {
          "output_type": "stream",
          "text": [
            "32\n",
            "42\n",
            "52\n",
            "62\n",
            "72\n",
            "82\n",
            "92\n",
            "102\n",
            "112\n",
            "122\n"
          ],
          "name": "stdout"
        }
      ]
    },
    {
      "cell_type": "code",
      "metadata": {
        "id": "InKO4ItEdk4X",
        "outputId": "2bb9b18c-199c-48fb-e115-a52be7686651",
        "colab": {
          "base_uri": "https://localhost:8080/"
        }
      },
      "source": [
        "mi_lista = [1,2,3,4,5,6,7,8,9,10]\n",
        "\n",
        "suma_lista = 0\n",
        "\n",
        "for sum in mi_lista:\n",
        "  suma_lista = suma_lista + sum # suma los dos primeros numeros y luego suma el total anterior con el siguiente numero\n",
        "  print(suma_lista) "
      ],
      "execution_count": 88,
      "outputs": [
        {
          "output_type": "stream",
          "text": [
            "1\n",
            "3\n",
            "6\n",
            "10\n",
            "15\n",
            "21\n",
            "28\n",
            "36\n",
            "45\n",
            "55\n"
          ],
          "name": "stdout"
        }
      ]
    }
  ]
}