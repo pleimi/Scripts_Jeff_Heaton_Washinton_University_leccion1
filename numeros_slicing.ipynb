{
  "nbformat": 4,
  "nbformat_minor": 0,
  "metadata": {
    "colab": {
      "name": "numeros_slicing.ipynb",
      "provenance": [],
      "authorship_tag": "ABX9TyPCt1lcZ8zUHpL306dRQhaf",
      "include_colab_link": true
    },
    "kernelspec": {
      "name": "python3",
      "display_name": "Python 3"
    },
    "language_info": {
      "name": "python"
    }
  },
  "cells": [
    {
      "cell_type": "markdown",
      "metadata": {
        "id": "view-in-github",
        "colab_type": "text"
      },
      "source": [
        "<a href=\"https://colab.research.google.com/github/pleimi/cursos_Jeff_Heaton_Washinton_University_leccion1/blob/main/numeros_slicing.ipynb\" target=\"_parent\"><img src=\"https://colab.research.google.com/assets/colab-badge.svg\" alt=\"Open In Colab\"/></a>"
      ]
    },
    {
      "cell_type": "code",
      "metadata": {
        "colab": {
          "base_uri": "https://localhost:8080/"
        },
        "id": "8GrAZdWZ2sGk",
        "outputId": "56c3cb10-7c9f-471c-ad14-ea3cc4536877"
      },
      "source": [
        "a = 4+4  # referencia: https://www.youtube.com/watch?v=ppz1e_ceeIw\n",
        "\n",
        "b = 4.5 + 4.56\n",
        "\n",
        "c = 7 % 4 # dividir por el modulos es para saber cuanto sobra ( asi sabemos si es par o impar )\n",
        "\n",
        "\n",
        "print(a, b, c)"
      ],
      "execution_count": null,
      "outputs": [
        {
          "output_type": "stream",
          "text": [
            "8 9.059999999999999 3\n"
          ],
          "name": "stdout"
        }
      ]
    },
    {
      "cell_type": "markdown",
      "metadata": {
        "id": "hgqPhsKhAQma"
      },
      "source": [
        "RESTAR DOS VARIABLES"
      ]
    },
    {
      "cell_type": "code",
      "metadata": {
        "colab": {
          "base_uri": "https://localhost:8080/"
        },
        "id": "eFIH3lb5APbc",
        "outputId": "f9893010-7194-4c70-c89d-e3ba11ccd277"
      },
      "source": [
        "vida = 100\n",
        "daño = 25\n",
        "\n",
        "print (vida - daño)\n",
        "type(vida)"
      ],
      "execution_count": null,
      "outputs": [
        {
          "output_type": "stream",
          "text": [
            "75\n"
          ],
          "name": "stdout"
        },
        {
          "output_type": "execute_result",
          "data": {
            "text/plain": [
              "int"
            ]
          },
          "metadata": {},
          "execution_count": 37
        }
      ]
    },
    {
      "cell_type": "markdown",
      "metadata": {
        "id": "f9VlU6J0BP8-"
      },
      "source": [
        "los SLICING son para agarrar indices "
      ]
    },
    {
      "cell_type": "code",
      "metadata": {
        "id": "tlvSdQZbBPJQ"
      },
      "source": [
        "#  con corchetes se toma un indice [] puede ser un grupo de caracteres\n",
        " # se forma con un INICIO un FINAL y un PASO ( es de cir,  cuanto me voy a saltar para agarrar el que se necesita)\n",
        "   # ejemplo [0:65:3] inicia en 3 va hasta 8 y me agarra cada 2 "
      ],
      "execution_count": null,
      "outputs": []
    },
    {
      "cell_type": "code",
      "metadata": {
        "colab": {
          "base_uri": "https://localhost:8080/"
        },
        "id": "-zkzE3T8DIo6",
        "outputId": "aa54d8ad-622f-4cb1-a35f-3e43e4cc8ac6"
      },
      "source": [
        "mi_ejemplo = \"este es un ejemplo de slicing en python para volvernos unos duros\"\n",
        "mi_ejemplo_separado = \"este es un ejemplo de slicing en python \\n para volvernos unos duros\" #  alt 90 \n",
        "print(mi_ejemplo)\n",
        "print(mi_ejemplo_separado)\n",
        "print(mi_ejemplo[0:65:3])\n",
        "print(len(mi_ejemplo))"
      ],
      "execution_count": null,
      "outputs": [
        {
          "output_type": "stream",
          "text": [
            "este es un ejemplo de slicing en python para volvernos unos duros\n",
            "este es un ejemplo de slicing en python \n",
            " para volvernos unos duros\n",
            "eesnjp  ineph rvvn odo\n",
            "65\n"
          ],
          "name": "stdout"
        }
      ]
    },
    {
      "cell_type": "code",
      "metadata": {
        "colab": {
          "base_uri": "https://localhost:8080/"
        },
        "id": "wFOl-FYvHqHB",
        "outputId": "918298e9-cf86-46e4-84da-98d669c95194"
      },
      "source": [
        "name = \"san\"\n",
        "print(name)\n",
        "print(name[:])  # tambien [::]\n",
        "ultimas_letras = name[1:]\n",
        "print(ultimas_letras)\n",
        "print('p' + ultimas_letras)"
      ],
      "execution_count": null,
      "outputs": [
        {
          "output_type": "stream",
          "text": [
            "san\n",
            "san\n",
            "an\n",
            "pan\n"
          ],
          "name": "stdout"
        }
      ]
    },
    {
      "cell_type": "code",
      "metadata": {
        "id": "Yh3nMXYhJpJJ"
      },
      "source": [
        ""
      ],
      "execution_count": null,
      "outputs": []
    },
    {
      "cell_type": "code",
      "metadata": {
        "colab": {
          "base_uri": "https://localhost:8080/"
        },
        "id": "KnP-1TGBLq7_",
        "outputId": "fe7c863a-beee-4112-8372-cb13a651ec0a"
      },
      "source": [
        "name = ['sam']\n",
        "name[0] = 'p'\n",
        "print(name)"
      ],
      "execution_count": null,
      "outputs": [
        {
          "output_type": "stream",
          "text": [
            "['p']\n"
          ],
          "name": "stdout"
        }
      ]
    },
    {
      "cell_type": "code",
      "metadata": {
        "colab": {
          "base_uri": "https://localhost:8080/"
        },
        "id": "W711k5u5Mp1Z",
        "outputId": "c118b25d-7835-444e-8aff-1b79c5375310"
      },
      "source": [
        "name = ['s','a','m']\n",
        "name[0] = 'p'\n",
        "print(name)"
      ],
      "execution_count": null,
      "outputs": [
        {
          "output_type": "stream",
          "text": [
            "['p', 'a', 'm']\n"
          ],
          "name": "stdout"
        }
      ]
    },
    {
      "cell_type": "code",
      "metadata": {
        "colab": {
          "base_uri": "https://localhost:8080/"
        },
        "id": "GpCFU-EtOB1U",
        "outputId": "3a2d26cf-8bc4-419a-df47-3c35ad4532ea"
      },
      "source": [
        "name = \"san\"\n",
        "print(name)\n",
        "print(name[:])\n",
        "ultimas_letras = name[1:]\n",
        "print(ultimas_letras)\n",
        "print('p' + ultimas_letras) # cambia la s por p"
      ],
      "execution_count": null,
      "outputs": [
        {
          "output_type": "stream",
          "text": [
            "san\n",
            "san\n",
            "an\n",
            "pan\n"
          ],
          "name": "stdout"
        }
      ]
    },
    {
      "cell_type": "markdown",
      "metadata": {
        "id": "BsNrvZpOG7c8"
      },
      "source": [
        "MULTIPLICAR CARACTERES "
      ]
    },
    {
      "cell_type": "code",
      "metadata": {
        "colab": {
          "base_uri": "https://localhost:8080/"
        },
        "id": "HiUejyc0wXWX",
        "outputId": "e15b60aa-30b1-4386-9f72-0a3b15528775"
      },
      "source": [
        "letra = 'j'\n",
        "muchas_letras = letra * 20\n",
        "print(muchas_letras)"
      ],
      "execution_count": null,
      "outputs": [
        {
          "output_type": "stream",
          "text": [
            "jjjjjjjjjjjjjjjjjjjj\n"
          ],
          "name": "stdout"
        }
      ]
    },
    {
      "cell_type": "markdown",
      "metadata": {
        "id": "RJnEaTueHn7V"
      },
      "source": [
        "pasar de MINUSCULAS a MAYUSCULAS "
      ]
    },
    {
      "cell_type": "code",
      "metadata": {
        "colab": {
          "base_uri": "https://localhost:8080/"
        },
        "id": "y5LqJMjnHzsD",
        "outputId": "83897c3c-cb32-4af1-9e33-a087b93a7892"
      },
      "source": [
        "palabra_mayuscula = 'paLaBra Minuscula'\n",
        "palabra_M = palabra_mayuscula.upper()\n",
        "print(palabra_M) "
      ],
      "execution_count": null,
      "outputs": [
        {
          "output_type": "stream",
          "text": [
            "PALABRA MINUSCULA\n"
          ],
          "name": "stdout"
        }
      ]
    },
    {
      "cell_type": "code",
      "metadata": {
        "colab": {
          "base_uri": "https://localhost:8080/"
        },
        "id": "fDUlW0tkLLZV",
        "outputId": "7c145e00-0074-4cc8-c4c1-65189d59707c"
      },
      "source": [
        "palabra_minuscula = 'paLaBra Minuscula'\n",
        "palabra_m = palabra_minuscula.lower()\n",
        "print(palabra_m) "
      ],
      "execution_count": null,
      "outputs": [
        {
          "output_type": "stream",
          "text": [
            "palabra minuscula\n"
          ],
          "name": "stdout"
        }
      ]
    },
    {
      "cell_type": "code",
      "metadata": {
        "colab": {
          "base_uri": "https://localhost:8080/"
        },
        "id": "iMJAgtN7LuBc",
        "outputId": "113d21f1-9657-4850-8492-eeaf0affc81d"
      },
      "source": [
        "concatenar = '2' + '3'\n",
        "print(concatenar) # tener cuidado con el resultado mostrado al pasar de texto a numeros"
      ],
      "execution_count": null,
      "outputs": [
        {
          "output_type": "stream",
          "text": [
            "23\n"
          ],
          "name": "stdout"
        }
      ]
    },
    {
      "cell_type": "markdown",
      "metadata": {
        "id": "F70kOEdAOh7o"
      },
      "source": [
        "para SEPARAR PALABRAS"
      ]
    },
    {
      "cell_type": "code",
      "metadata": {
        "colab": {
          "base_uri": "https://localhost:8080/"
        },
        "id": "a3LmG2CyMNII",
        "outputId": "22010aff-7820-42bd-afe8-27aa28949f7e"
      },
      "source": [
        "separar_palabras = \"juan carlos el gambler\"\n",
        "separar_palabras = separar_palabras.split('a')\n",
        "print(separar_palabras)"
      ],
      "execution_count": null,
      "outputs": [
        {
          "output_type": "stream",
          "text": [
            "['ju', 'n c', 'rlos el g', 'mbler']\n"
          ],
          "name": "stdout"
        }
      ]
    },
    {
      "cell_type": "markdown",
      "metadata": {
        "id": "vPnyJKD8O_F8"
      },
      "source": [
        ""
      ]
    },
    {
      "cell_type": "markdown",
      "metadata": {
        "id": "ifW_w4aWPLkj"
      },
      "source": [
        "separa cuando tiene una barra \n"
      ]
    },
    {
      "cell_type": "code",
      "metadata": {
        "colab": {
          "base_uri": "https://localhost:8080/"
        },
        "id": "KJHAoynxPRO9",
        "outputId": "bf83b099-8a7c-45fe-ec5e-d1eaed5a69b2"
      },
      "source": [
        "barra = \"juan carlos el soñador \"\n",
        "barra = barra.split('│')  # pendiente la funcion de la barra\n",
        "print(barra)\n"
      ],
      "execution_count": null,
      "outputs": [
        {
          "output_type": "stream",
          "text": [
            "['juan carlos el soñador ']\n"
          ],
          "name": "stdout"
        }
      ]
    },
    {
      "cell_type": "markdown",
      "metadata": {
        "id": "fKPHuZRmRhGF"
      },
      "source": [
        "utilización de la función .FORMAT"
      ]
    },
    {
      "cell_type": "code",
      "metadata": {
        "colab": {
          "base_uri": "https://localhost:8080/"
        },
        "id": "uMT8WHz6RuZW",
        "outputId": "13afff9a-8333-4521-cd89-8d68ccb72cab"
      },
      "source": [
        "print(\"de esta manera podemos insertar {}\".format('texto'))"
      ],
      "execution_count": null,
      "outputs": [
        {
          "output_type": "stream",
          "text": [
            "de esta manera podemos insertar texto\n"
          ],
          "name": "stdout"
        }
      ]
    },
    {
      "cell_type": "code",
      "metadata": {
        "colab": {
          "base_uri": "https://localhost:8080/"
        },
        "id": "fWc48QegTWEi",
        "outputId": "098cd4b8-240c-45a6-efb3-2722473f349e"
      },
      "source": [
        "print( \"de {} manera {} insertar lo que {}\".format('esta','podemos','queramos'))"
      ],
      "execution_count": null,
      "outputs": [
        {
          "output_type": "stream",
          "text": [
            "de esta manera podemos insertar lo que queramos\n"
          ],
          "name": "stdout"
        }
      ]
    },
    {
      "cell_type": "code",
      "metadata": {
        "colab": {
          "base_uri": "https://localhost:8080/"
        },
        "id": "QZNpOI5lU91y",
        "outputId": "cde634a1-b6df-46c9-c128-8902b221536c"
      },
      "source": [
        "print( \"de {0} manera {1} insertar lo que {2}\".format('esta','podemos','queramos')) # insertamos por indice"
      ],
      "execution_count": null,
      "outputs": [
        {
          "output_type": "stream",
          "text": [
            "de esta manera podemos insertar lo que queramos\n"
          ],
          "name": "stdout"
        }
      ]
    },
    {
      "cell_type": "code",
      "metadata": {
        "colab": {
          "base_uri": "https://localhost:8080/"
        },
        "id": "z936iNZfWz4Z",
        "outputId": "4253573b-aed7-49b4-e183-c0a890c74841"
      },
      "source": [
        "print( \"de {e} manera {p} insertar lo que {q}\".format(e='esta',p='podemos',q='queramos')) # insertamos por variable"
      ],
      "execution_count": null,
      "outputs": [
        {
          "output_type": "stream",
          "text": [
            "de esta manera podemos insertar lo que queramos\n"
          ],
          "name": "stdout"
        }
      ]
    },
    {
      "cell_type": "code",
      "metadata": {
        "colab": {
          "base_uri": "https://localhost:8080/"
        },
        "id": "CIUYNZp7XsfJ",
        "outputId": "7959bf28-bbb8-41c4-a15b-2a61384c94de"
      },
      "source": [
        "decimales = 100/888 # se concatena un float\n",
        "print(decimales)\n",
        "# el 1 (width) es el valor y el 3 es la precisión (f)\n",
        "print(\"el resultado es {d:1.3f}\".format(d=decimales))"
      ],
      "execution_count": null,
      "outputs": [
        {
          "output_type": "stream",
          "text": [
            "0.11261261261261261\n",
            "el resultado es 0.113\n"
          ],
          "name": "stdout"
        }
      ]
    },
    {
      "cell_type": "code",
      "metadata": {
        "colab": {
          "base_uri": "https://localhost:8080/"
        },
        "id": "jUz2kprvbaER",
        "outputId": "75f9599f-6527-444d-a622-4d0302683ff4"
      },
      "source": [
        "nombre = 'juan carlos'\n",
        "edad = 50 \n",
        "print(\"mi nombre es {}\".format(nombre))\n",
        "print(f\"mi nombre es {nombre} y mi edad es {edad} años\")"
      ],
      "execution_count": null,
      "outputs": [
        {
          "output_type": "stream",
          "text": [
            "mi nombre es juan carlos\n",
            "mi nombre es juan carlos y mi edad es 50 años\n"
          ],
          "name": "stdout"
        }
      ]
    },
    {
      "cell_type": "markdown",
      "metadata": {
        "id": "0A540fz6e2DV"
      },
      "source": [
        "LISTAS; son secuencias MUTABLES, se utilizan los corchetes alt 91/93"
      ]
    },
    {
      "cell_type": "code",
      "metadata": {
        "colab": {
          "base_uri": "https://localhost:8080/"
        },
        "id": "X3vM9RdIffRy",
        "outputId": "b5adeecb-13be-4473-c224-d68adb7c850d"
      },
      "source": [
        "lista_de_prueba = [1,2,3]\n",
        "print(lista_de_prueba)"
      ],
      "execution_count": null,
      "outputs": [
        {
          "output_type": "stream",
          "text": [
            "[1, 2, 3]\n"
          ],
          "name": "stdout"
        }
      ]
    },
    {
      "cell_type": "code",
      "metadata": {
        "colab": {
          "base_uri": "https://localhost:8080/"
        },
        "id": "zQBzsWE5gBXP",
        "outputId": "b75ea235-9a66-4659-d5e9-20b9524e5ed5"
      },
      "source": [
        "lista_de_prueba = [\"cadena\",1,2,3]\n",
        "print(lista_de_prueba)\n",
        "lista_de_prueba = [\"cadena\",1,2,3]\n",
        "print(len(lista_de_prueba))  # muestra la longitud (cantidad de elementos) de la lista"
      ],
      "execution_count": null,
      "outputs": [
        {
          "output_type": "stream",
          "text": [
            "['cadena', 1, 2, 3]\n",
            "4\n"
          ],
          "name": "stdout"
        }
      ]
    },
    {
      "cell_type": "code",
      "metadata": {
        "colab": {
          "base_uri": "https://localhost:8080/"
        },
        "id": "7FfF1ru_g1id",
        "outputId": "f1389444-e219-4135-d8c0-d68fc70369e8"
      },
      "source": [
        "lista_de_prueba = ['uno''dos''tres']\n",
        "print(lista_de_prueba)\n",
        "lista_de_prueba = ['uno','dos','tres']\n",
        "print(lista_de_prueba)\n",
        "lista_de_prueba_con_5 = ['uno','dos','tres','cuatro','cinco']\n",
        "print(lista_de_prueba_con_5)\n",
        "print(lista_de_prueba_con_5[2:]) # hacemos slicing desde el indice 2\n"
      ],
      "execution_count": null,
      "outputs": [
        {
          "output_type": "stream",
          "text": [
            "['unodostres']\n",
            "['uno', 'dos', 'tres']\n",
            "['uno', 'dos', 'tres', 'cuatro', 'cinco']\n",
            "['tres', 'cuatro', 'cinco']\n"
          ],
          "name": "stdout"
        }
      ]
    },
    {
      "cell_type": "code",
      "metadata": {
        "colab": {
          "base_uri": "https://localhost:8080/"
        },
        "id": "dd5m3E0chsVw",
        "outputId": "0b34c133-0621-45cf-c005-cb530682d702"
      },
      "source": [
        "lista1 = ['uno','dos','tres']\n",
        "print(lista1)\n",
        "lista2 = ['cuatro','cinco','seis']\n",
        "print(lista2)\n",
        "nueva_lista = lista1 + lista2  # concatena listas \n",
        "print(nueva_lista)\n",
        "nueva_lista.copy\n",
        "print(nueva_lista)\n",
        "nueva_lista [1] = 'juan carlos' # reemplazamos de la lista el indice 1, es decir el item 'dos'\n",
        "print(nueva_lista)\n",
        "nueva_lista.append(3) # agrega un item al final de la lista\n",
        "print(nueva_lista)\n",
        "nueva_lista.clear() # vacia la lista\n",
        "print(nueva_lista)\n",
        "\n"
      ],
      "execution_count": null,
      "outputs": [
        {
          "output_type": "stream",
          "text": [
            "['uno', 'dos', 'tres']\n",
            "['cuatro', 'cinco', 'seis']\n",
            "['uno', 'dos', 'tres', 'cuatro', 'cinco', 'seis']\n",
            "['uno', 'dos', 'tres', 'cuatro', 'cinco', 'seis']\n",
            "['uno', 'juan carlos', 'tres', 'cuatro', 'cinco', 'seis']\n",
            "['uno', 'juan carlos', 'tres', 'cuatro', 'cinco', 'seis', 3]\n",
            "[]\n"
          ],
          "name": "stdout"
        }
      ]
    },
    {
      "cell_type": "code",
      "metadata": {
        "colab": {
          "base_uri": "https://localhost:8080/"
        },
        "id": "KWa71lcImTVf",
        "outputId": "759e85b1-587c-4709-e66a-bb81e57b8296"
      },
      "source": [
        "lista1 = ['uno','dos','tres']\n",
        "print(lista1)\n",
        "lista1.pop()\n",
        "print(lista1)\n",
        "item_popeado = lista1.pop(-1)\n",
        "print(item_popeado)\n",
        "lista1.insert(0,'1')\n",
        "print(lista1)\n",
        "lista1.remove('uno')\n",
        "print(lista1)\n",
        "lista1.extend('cuatrocientos')\n",
        "print(lista1)\n",
        "lista1.append('cuatro')\n",
        "print(lista1)\n",
        "lista1.count('cuatros')\n",
        "\n",
        "\n",
        "\n"
      ],
      "execution_count": null,
      "outputs": [
        {
          "output_type": "stream",
          "text": [
            "['uno', 'dos', 'tres']\n",
            "['uno', 'dos']\n",
            "dos\n",
            "['1', 'uno']\n",
            "['1']\n",
            "['1', 'c', 'u', 'a', 't', 'r', 'o', 'c', 'i', 'e', 'n', 't', 'o', 's']\n",
            "['1', 'c', 'u', 'a', 't', 'r', 'o', 'c', 'i', 'e', 'n', 't', 'o', 's', 'cuatro']\n"
          ],
          "name": "stdout"
        },
        {
          "output_type": "execute_result",
          "data": {
            "text/plain": [
              "0"
            ]
          },
          "metadata": {},
          "execution_count": 1
        }
      ]
    },
    {
      "cell_type": "markdown",
      "metadata": {
        "id": "PY9c4uS-HLLj"
      },
      "source": [
        "DICCIONARIOS mapeos desordenados para guardar objetos En lugar de indece se busca es por clave"
      ]
    },
    {
      "cell_type": "code",
      "metadata": {
        "id": "FKm1gC_QG3hT",
        "outputId": "c64dd483-d1b6-4096-febf-7b489f39e0b8",
        "colab": {
          "base_uri": "https://localhost:8080/"
        }
      },
      "source": [
        "diccionario1 = {'clave1':'valor1','clave2':'valor2','clave3':'valor3'}\n",
        "print(diccionario1)"
      ],
      "execution_count": 1,
      "outputs": [
        {
          "output_type": "stream",
          "text": [
            "{'clave1': 'valor1', 'clave2': 'valor2', 'clave3': 'valor3'}\n"
          ],
          "name": "stdout"
        }
      ]
    },
    {
      "cell_type": "code",
      "metadata": {
        "id": "gIIiR_fBI6ls",
        "outputId": "d0528fea-af19-4345-f4be-5f367f36a652",
        "colab": {
          "base_uri": "https://localhost:8080/"
        }
      },
      "source": [
        "print(diccionario1['clave1'])"
      ],
      "execution_count": 4,
      "outputs": [
        {
          "output_type": "stream",
          "text": [
            "valor1\n"
          ],
          "name": "stdout"
        }
      ]
    },
    {
      "cell_type": "code",
      "metadata": {
        "id": "ja-JT7YPLgYV",
        "outputId": "9e67fdf2-315b-48c5-faa8-e02a6bc82ec6",
        "colab": {
          "base_uri": "https://localhost:8080/"
        }
      },
      "source": [
        "numeros = {'1':'uno','2':'dos','3':'tres','4':'cuatro','5':'cinco'}\n",
        "print(numeros)\n",
        "print(numeros['5'])\n",
        "diccionario = {'1':'uno','2':'dos','manzanas':'2:90','criptomonedas':['bitcoin','etherium'],'4':'cuatro','5':'cinco'}\n",
        "print(diccionario)  # se pueden insertar listas dentro de los diccionarios  \n",
        "print(diccionario['criptomonedas'][1].upper())\n",
        "diccionario ['gaseosa'] = 1000 # asi podemos AGREGAR VALORES al diccionario  y cambiar su valor \n",
        "print(diccionario) \n",
        "print(diccionario.keys()) # para ver TODAS LAS CLAVES\n",
        "print(diccionario.values()) #para ver TODOS LOS VALORES\n",
        "print(diccionario.items()) # me devuelve los elementos en PARENTESIS"
      ],
      "execution_count": 27,
      "outputs": [
        {
          "output_type": "stream",
          "text": [
            "{'1': 'uno', '2': 'dos', '3': 'tres', '4': 'cuatro', '5': 'cinco'}\n",
            "cinco\n",
            "{'1': 'uno', '2': 'dos', 'manzanas': '2:90', 'criptomonedas': ['bitcoin', 'etherium'], '4': 'cuatro', '5': 'cinco'}\n",
            "ETHERIUM\n",
            "{'1': 'uno', '2': 'dos', 'manzanas': '2:90', 'criptomonedas': ['bitcoin', 'etherium'], '4': 'cuatro', '5': 'cinco', 'gaseosa': 1000}\n",
            "dict_keys(['1', '2', 'manzanas', 'criptomonedas', '4', '5', 'gaseosa'])\n",
            "dict_values(['uno', 'dos', '2:90', ['bitcoin', 'etherium'], 'cuatro', 'cinco', 1000])\n",
            "dict_items([('1', 'uno'), ('2', 'dos'), ('manzanas', '2:90'), ('criptomonedas', ['bitcoin', 'etherium']), ('4', 'cuatro'), ('5', 'cinco'), ('gaseosa', 1000)])\n"
          ],
          "name": "stdout"
        }
      ]
    },
    {
      "cell_type": "code",
      "metadata": {
        "id": "knBtznv4U1cS"
      },
      "source": [
        "TUPLAS se usa para no asignar items por error, los elementos no pueden ser re-asignados son INMUTABLES"
      ],
      "execution_count": null,
      "outputs": []
    },
    {
      "cell_type": "code",
      "metadata": {
        "id": "_-VXwBLpVRV-",
        "outputId": "9990028d-cf8d-48f3-ea29-c0d480976af4",
        "colab": {
          "base_uri": "https://localhost:8080/"
        }
      },
      "source": [
        "t = (1,4,3) # con parentesis es tupla \n",
        "m = ('a,a,b')\n",
        "print(m)\n",
        "print(m.count('a')) \n",
        "print(m.find('a')) \n",
        "print(t)\n",
        "\n",
        "t = [1,1,2,3] # con corchetes es LISTA\n",
        "print(t)\n",
        "print(t.count(1))\n"
      ],
      "execution_count": 48,
      "outputs": [
        {
          "output_type": "stream",
          "text": [
            "a,a,b\n",
            "2\n",
            "0\n",
            "(1, 4, 3)\n",
            "[1, 1, 2, 3]\n",
            "2\n"
          ],
          "name": "stdout"
        }
      ]
    },
    {
      "cell_type": "markdown",
      "metadata": {
        "id": "RURe6iCUZir2"
      },
      "source": [
        "SET son listas donde los elementos NO se pueden REPETIR son valores únicos, me devuelve valores sin repetir"
      ]
    },
    {
      "cell_type": "code",
      "metadata": {
        "id": "23gm5fl2a0AA",
        "outputId": "ca9c7374-4840-4615-ed6f-ea54a32e4ead",
        "colab": {
          "base_uri": "https://localhost:8080/"
        }
      },
      "source": [
        "mi_lista = [1111111111,'aaaaaaaa',2]\n",
        "mi_lista1 = [1,1,1,1,1,33,33,1,'aa','a','a,a','aaa',2] \n",
        "print(mi_lista)\n",
        "print(mi_lista1)\n",
        "print(set(mi_lista))\n",
        "print(set(mi_lista1)) # muestra los elementos separados por coma, sir repetirlos "
      ],
      "execution_count": 59,
      "outputs": [
        {
          "output_type": "stream",
          "text": [
            "[1111111111, 'aaaaaaaa', 2]\n",
            "[1, 1, 1, 1, 1, 33, 33, 1, 'aa', 'a', 'a,a', 'aaa', 2]\n",
            "{'aaaaaaaa', 2, 1111111111}\n",
            "{1, 33, 2, 'a', 'aaa', 'a,a', 'aa'}\n"
          ],
          "name": "stdout"
        }
      ]
    }
  ]
}